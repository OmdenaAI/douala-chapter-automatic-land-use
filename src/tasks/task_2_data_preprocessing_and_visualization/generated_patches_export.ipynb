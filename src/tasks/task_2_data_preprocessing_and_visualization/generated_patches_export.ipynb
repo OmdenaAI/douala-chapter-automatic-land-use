{
 "cells": [
  {
   "cell_type": "markdown",
   "metadata": {
    "id": "YzvzQyhMLKnW"
   },
   "source": [
    "## INSTALL PACKAGES"
   ]
  },
  {
   "cell_type": "code",
   "execution_count": null,
   "metadata": {
    "id": "p3rdVrg7KB-N"
   },
   "outputs": [],
   "source": [
    "!pip install rasterio\n",
    "!pip install tqdm\n",
    "!pip install earthpy\n",
    "!pip install bokeh\n",
    "!pip install google-auth google-auth-oauthlib google-auth-httplib2 google-api-python-client\n",
    "!pip install ipywidgets\n"
   ]
  },
  {
   "cell_type": "markdown",
   "metadata": {
    "id": "Y--Xz83tLGmH"
   },
   "source": [
    "## IMPORT LIBRARIES"
   ]
  },
  {
   "cell_type": "code",
   "execution_count": 32,
   "metadata": {
    "id": "gAa01kdjJ6uE"
   },
   "outputs": [],
   "source": [
    "import os\n",
    "import rasterio\n",
    "from tqdm import tqdm\n",
    "import earthpy.plot as epp   \n",
    "import matplotlib.pyplot as plt   \n",
    "import numpy as np   \n",
    "import glob\n",
    "import googleapiclient.http\n",
    "import ipywidgets as widgets\n",
    "from IPython.display import display\n",
    "from rasterio.merge import merge\n",
    "from google.oauth2 import service_account\n",
    "from googleapiclient.discovery import build\n",
    "from google.colab import files\n",
    "import ipywidgets as widgets\n",
    "from IPython.display import display\n",
    "import shutil"
   ]
  },
  {
   "cell_type": "markdown",
   "metadata": {
    "id": "tQjEDC15ldAn"
   },
   "source": [
    "## Authenticate to Google Drive"
   ]
  },
  {
   "cell_type": "code",
   "execution_count": 4,
   "metadata": {
    "id": "Py2-YnXvlVfa"
   },
   "outputs": [],
   "source": [
    "# Set the path to your credentials file\n",
    "creds_file_path = '/content/credentials.json'\n",
    "\n",
    "# Authenticate to Google Drive using credentials.json\n",
    "creds = service_account.Credentials.from_service_account_file(\n",
    "    creds_file_path,\n",
    "    scopes=['https://www.googleapis.com/auth/drive']\n",
    ")\n",
    "\n",
    "# Build the Drive API client\n",
    "drive_service = build('drive', 'v3', credentials=creds)\n"
   ]
  },
  {
   "cell_type": "markdown",
   "metadata": {
    "id": "p-Xg7g50KtoD"
   },
   "source": [
    "## FUNCTIONS "
   ]
  },
  {
   "cell_type": "code",
   "execution_count": 5,
   "metadata": {
    "id": "yfNofSHKKaZS"
   },
   "outputs": [],
   "source": [
    "\n",
    "def get_tile_name_path(dst_dir:str, index:int):\n",
    "    '''\n",
    "    A function to generate index specific tile name and its path\n",
    "    '''\n",
    "    dst_tile_name = \"{}_.tif\".format(str(index).zfill(5))\n",
    "    dst_tile_path = os.path.join(dst_dir, dst_tile_name)\n",
    "    return dst_tile_name, dst_tile_path\n",
    "\n",
    "\n",
    "\n",
    "def get_tile_transform(parent_transform, pixel_x:int,pixel_y:int):\n",
    "    '''\n",
    "    A function to create a tile transform matrix from parent tif image\n",
    "    '''\n",
    "    # Calculate the x and y coordinates of the pixel center in CRS coordinates\n",
    "    crs_x = parent_transform.c + pixel_x * parent_transform.a\n",
    "    crs_y = parent_transform.f + pixel_y * parent_transform.e\n",
    "    # Create the tile transform matrix using these CRS coordinates\n",
    "    tile_transform = rasterio.Affine(parent_transform.a, parent_transform.b, crs_x,\n",
    "                                     parent_transform.d, parent_transform.e, crs_y)\n",
    "    return tile_transform\n",
    "\n",
    "\n",
    "    \n",
    "def get_tile_profile(parent_tif:rasterio.io.DatasetReader, pixel_x:int, pixel_y:int):\n",
    "    '''\n",
    "    A function to prepare the tile profile\n",
    "    '''\n",
    "    # Extract CRS and nodata value from parent tif image\n",
    "    tile_crs = parent_tif.crs\n",
    "    tile_nodata = parent_tif.nodata if parent_tif.nodata is not None else 0\n",
    "    # Generate the tile transform matrix using the parent tif image's transform matrix\n",
    "    tile_transform = get_tile_transform(parent_tif.transform, pixel_x, pixel_y)\n",
    "    # Generate a dictionary containing the tile's profile information\n",
    "    profile = dict(\n",
    "                driver=\"GTiff\",\n",
    "                crs=tile_crs,\n",
    "                nodata=tile_nodata,            \n",
    "                transform=tile_transform\n",
    "            )\n",
    "    return profile\n",
    "\n",
    "    \n",
    "\n",
    "def generate_tiles(tif:rasterio.io.DatasetReader, size:int, dst_dir:str):\n",
    "    '''\n",
    "    A function to generate tiles of given size from the input tif image\n",
    "    and save them in a destination directory.\n",
    "    '''\n",
    "    i = 0\n",
    "    for x in tqdm(range(0, tif.width, size)):\n",
    "        for y in range(0, tif.height, size):\n",
    "            # Generate the tile's profile information\n",
    "            profile = get_tile_profile(tif, x, y)\n",
    "            # Extract the pixel data for the tile using the tile's profile information\n",
    "            tile_data = tif.read(window=((y, y + size), (x, x + size)),\n",
    "                                 boundless=True, fill_value=profile['nodata'])[:3]\n",
    "            i+=1\n",
    "            # Generate the tile's name and path using the tile index\n",
    "            dst_name, dst_tile_path = get_tile_name_path(dst_dir, i)\n",
    "            # Get the tile dimensions\n",
    "            c, h, w = tile_data.shape\n",
    "            # Update the tile's profile information with the tile's dimensions and data type\n",
    "            profile.update(\n",
    "                height=h,\n",
    "                width=w,\n",
    "                count=c,\n",
    "                dtype=tile_data.dtype,\n",
    "            )\n",
    "            # Write the tile to the destination directory using the tile's profile information\n",
    "            with rasterio.open(dst_tile_path, \"w\", **profile) as dst:\n",
    "                dst.write(tile_data)\n"
   ]
  },
  {
   "cell_type": "markdown",
   "metadata": {
    "id": "BJqLJcuEZWNj"
   },
   "source": [
    "## Define the Parent and Destination Directory Path"
   ]
  },
  {
   "cell_type": "code",
   "execution_count": 25,
   "metadata": {
    "colab": {
     "base_uri": "https://localhost:8080/"
    },
    "id": "f8AGwsdcY_Pt",
    "outputId": "3c24ae9a-4b0e-4851-c049-adc18e21036a"
   },
   "outputs": [
    {
     "name": "stderr",
     "output_type": "stream",
     "text": [
      "100%|██████████| 6/6 [00:29<00:00,  4.86s/it]\n"
     ]
    }
   ],
   "source": [
    "\n",
    "# Define the source file path\n",
    "parent_tif = '/content/gdrive/MyDrive/RASTER_13.tif'\n",
    "\n",
    "# Define the destination directory path\n",
    "dst_dir = '/content/IMG_SLICE'\n",
    "\n",
    "if not os.path.exists(dst_dir):\n",
    "    os.makedirs(dst_dir)\n",
    "\n",
    "\n",
    "# Define the tile size\n",
    "size = 1024\n",
    "\n",
    "# Open the source file for reading\n",
    "with rasterio.open(parent_tif) as src:\n",
    "    # Generate the tiles and save them in the destination directory\n",
    "    generate_tiles(src, size, dst_dir)\n"
   ]
  },
  {
   "cell_type": "markdown",
   "metadata": {
    "id": "n2w38SWE6qtr"
   },
   "source": [
    "## VISUALIZE THE DATA FOR CLOUD COVER"
   ]
  },
  {
   "cell_type": "code",
   "execution_count": null,
   "metadata": {
    "id": "nCdqFXTKAmkN"
   },
   "outputs": [],
   "source": [
    "# Use the listdir() method to get a list of all the filenames in the dst_dir directory\n",
    "patch_files = os.listdir(dst_dir)\n",
    "\n",
    "# Sort the list of files in ascending order\n",
    "patch_files.sort()\n",
    "# Print the list of files in a table\n",
    "print(\"List of files in directory: \")\n",
    "print(\"{:<20} {:<20}\".format(\"Filename\", \"Size (MB)\"))\n",
    "print(\"-\" * 40)\n",
    "for file in patch_files:\n",
    "    file_path = os.path.join(dst_dir, file)\n",
    "    file_size = round(os.path.getsize(file_path) / (1024 * 1024), 2)\n",
    "    print(\"{:<20} {:<20}\".format(file, file_size))\n",
    "\n",
    "# Count the number of files in the directory\n",
    "num_files = len([f for f in os.listdir(dst_dir) if os.path.isfile(os.path.join(dst_dir, f))])\n",
    "# Print the number of tiles\n",
    "print(\"Number of Patches:\", num_files)"
   ]
  },
  {
   "cell_type": "code",
   "execution_count": 8,
   "metadata": {
    "id": "OddffhrlCyyF"
   },
   "outputs": [],
   "source": [
    "# Create an empty list to store the opened image patches\n",
    "patches_list = []\n",
    "\n",
    "# Iterate over the list of patch filenames\n",
    "for file in patch_files:\n",
    "    # Construct the path to the patch file\n",
    "    path = os.path.join(dst_dir, file)\n",
    "    # Open the patch file using rasterio and append the opened file object to the patches list\n",
    "    patches_list.append(rasterio.open(path))\n"
   ]
  },
  {
   "cell_type": "code",
   "execution_count": 9,
   "metadata": {
    "id": "qhQ2HZ7uG7_H"
   },
   "outputs": [],
   "source": [
    "iter_patch = iter(enumerate(patches_list))"
   ]
  },
  {
   "cell_type": "code",
   "execution_count": null,
   "metadata": {
    "id": "92I9I19SEXli"
   },
   "outputs": [],
   "source": [
    "# Run cell as many times as required to step through and plot patches one at a time.\n",
    "# Get the next image patch to plot from the iter_patch iterator\n",
    "img_num, img_file = next(iter_patch, \"Iteration complete\")\n",
    "\n",
    "# If img_file is not equal to \"Iteration complete\", plot the image\n",
    "if img_file != \"Iteration complete\":\n",
    "\n",
    "    # Get the metadata of the image file\n",
    "    img_file.meta\n",
    "    \n",
    "    # Read the image data into a numpy array and stack the bands to create an RGB image\n",
    "    rgb = np.array([img_file.read(1), img_file.read(2), img_file.read(3)])\n",
    "    \n",
    "    # Plot the RGB image using earthpy.plot.plot_rgb() function\n",
    "    im = epp.plot_rgb(rgb, figsize=(20, 20), stretch=True, str_clip=0.2, \n",
    "                      title=f\"{img_num:05d}.tif\")\n",
    "    \n",
    "    # Display the plot using matplotlib.pyplot.show() function\n",
    "    plt.show()\n",
    "\n",
    "    # Print the shape of the RGB array\n",
    "    rgb.shape\n",
    "    \n",
    "    # Close the image file to free up system resources\n",
    "    img_file.close()\n",
    "    \n",
    "# If img_file is equal to \"Iteration complete\", print a message indicating that iteration is complete\n",
    "else:\n",
    "    print(img_file)\n"
   ]
  },
  {
   "cell_type": "markdown",
   "metadata": {
    "id": "z5MlsN2XOijP"
   },
   "source": [
    "## FILTERING UNNECESSARY DATA & MERGING"
   ]
  },
  {
   "cell_type": "code",
   "execution_count": 11,
   "metadata": {
    "id": "IpVSk2gb_39U"
   },
   "outputs": [],
   "source": [
    "# Obtain a list of file names in the destination directory using the listdir() method from the os module\n",
    "tile_paths = os.listdir(dst_dir)"
   ]
  },
  {
   "cell_type": "code",
   "execution_count": 12,
   "metadata": {
    "colab": {
     "base_uri": "https://localhost:8080/"
    },
    "id": "vajOh5UzQM_W",
    "outputId": "490cbc2c-a1b9-49e6-b084-9adaf64208de"
   },
   "outputs": [
    {
     "name": "stdout",
     "output_type": "stream",
     "text": [
      "/content/IMG_SLICE/*.tif\n"
     ]
    }
   ],
   "source": [
    "# Define a search criteria for files with extension .tif\n",
    "search_criteria = \"*.tif\"\n",
    "\n",
    "# Create a complete file path by joining the destination directory and the search criteria\n",
    "# using the os.path.join() method\n",
    "q = os.path.join(dst_dir, search_criteria)\n",
    "\n",
    "# Print the resulting file path to the console\n",
    "print(q)\n"
   ]
  },
  {
   "cell_type": "code",
   "execution_count": 13,
   "metadata": {
    "id": "M-LRT26TQusx"
   },
   "outputs": [],
   "source": [
    "# Get a list of file paths that match the search criteria defined in 'q'\n",
    "quad_files = glob.glob(q)"
   ]
  },
  {
   "cell_type": "code",
   "execution_count": 14,
   "metadata": {
    "id": "GuHSImD_TG0J"
   },
   "outputs": [],
   "source": [
    "# Create an empty list to store opened raster files\n",
    "src_files_to_mosaic = []"
   ]
  },
  {
   "cell_type": "code",
   "execution_count": 15,
   "metadata": {
    "id": "LhTF_KHtUkGS"
   },
   "outputs": [],
   "source": [
    "# Iterate through each file path in 'quad_files', open the file using 'rasterio', and append it to 'src_files_to_mosaic'\n",
    "for f in quad_files:\n",
    "  src = rasterio.open(f)\n",
    "  src_files_to_mosaic.append(src)\n",
    "  "
   ]
  },
  {
   "cell_type": "code",
   "execution_count": 16,
   "metadata": {
    "id": "lmtvBdvmWaUv"
   },
   "outputs": [],
   "source": [
    "# Use the 'merge()' function from 'rasterio' to create a mosaic from the list of opened raster files\n",
    "mosaic, out_trans = merge(src_files_to_mosaic)\n"
   ]
  },
  {
   "cell_type": "code",
   "execution_count": 17,
   "metadata": {
    "id": "IlDSSdeyYYIG"
   },
   "outputs": [],
   "source": [
    "\n",
    "# Create a new metadata object for the output mosaic using the metadata from one of the input raster files\n",
    "# update it with the appropriate parameters for the mosaic\n",
    "out_meta = src.meta.copy()\n",
    "out_meta.update({\"driver\": \"GTiff\",\n",
    "                 \"height\": mosaic.shape[1],\n",
    "                 \"width\": mosaic.shape[2],\n",
    "                 \"transform\": out_trans\n",
    "                  }\n",
    ")\n"
   ]
  },
  {
   "cell_type": "code",
   "execution_count": 34,
   "metadata": {
    "id": "m4b8o9NsYYBL"
   },
   "outputs": [],
   "source": [
    "# The folder to save RGB mosaic on a temporary folder \n",
    "temp_folder = \"/content/IMG_SLICE_MERGED\"\n",
    "\n",
    "# Check if the folder already exists\n",
    "if not os.path.exists(temp_folder):\n",
    "    # Create the folder if it doesn't exist\n",
    "    os.makedirs(temp_folder)\n",
    "  \n",
    "# Extract only the filename from the path string\n",
    "mosaic_file = os.path.basename(parent_tif)\n",
    "# Set the name for the mosaic file\n",
    "temp_file = mosaic_file\n",
    "\n",
    "# Create a full path for the mosaic file using the `temp_folder` and `temp_file` variables\n",
    "out_mosaic = os.path.join(temp_folder,temp_file )\n",
    "\n",
    "# Open the mosaic file in write mode using `rasterio.open()`, and assign it to the variable `dest`\n",
    "# The `**out_meta` argument unpacks the metadata from the `out_meta` dictionary and passes it as keyword arguments to the `rasterio.open()` function\n",
    "# This ensures that the mosaic is saved with the correct metadata\n",
    "with rasterio.open(out_mosaic, \"w\", **out_meta) as dest:\n",
    "\n",
    "    # Write the mosaic array to the output file\n",
    "    dest.write(mosaic)\n"
   ]
  },
  {
   "cell_type": "code",
   "execution_count": null,
   "metadata": {
    "id": "q3q4kS6MIjSP"
   },
   "outputs": [],
   "source": [
    "\n",
    "# Load the merged mosaic file into a rasterio dataset\n",
    "with rasterio.open(out_mosaic, \"r\") as mosaic_ds:\n",
    "    mosaic = mosaic_ds.read()\n",
    "\n",
    "# Get the size of the file in megabytes\n",
    "size = os.path.getsize(out_mosaic) / (1024 * 1024)\n",
    "\n",
    "# Plot the mosaic array\n",
    "plt.imshow(mosaic.transpose((1,2,0)))\n",
    "plt.show()\n",
    "\n",
    "# Print the size of the image\n",
    "print(\"Size (MB):\", size)\n"
   ]
  },
  {
   "cell_type": "markdown",
   "metadata": {
    "id": "Hle61004Xlvc"
   },
   "source": [
    "## EXPORT FILE TO G-DRIVE"
   ]
  },
  {
   "cell_type": "code",
   "execution_count": 48,
   "metadata": {
    "colab": {
     "base_uri": "https://localhost:8080/"
    },
    "id": "BupCGlFKXuau",
    "outputId": "ba1bab88-c97b-4efd-e3aa-352792dea06d"
   },
   "outputs": [
    {
     "name": "stdout",
     "output_type": "stream",
     "text": [
      "File exported to Google Drive successfully!\n"
     ]
    }
   ],
   "source": [
    "# Set the file paths\n",
    "gdrive_folder = \"IMG_SLICE_MERGED\"\n",
    "\n",
    "# Check if the Google Drive folder exists and create it if it doesn't\n",
    "gdrive_folder_path = '/content/gdrive/MyDrive/' + gdrive_folder\n",
    "if not os.path.exists(gdrive_folder_path):\n",
    "  os.mkdir(gdrive_folder_path)\n",
    "\n",
    "# Copy the file to the Google Drive folder\n",
    "shutil.copy(out_mosaic, gdrive_folder_path)\n",
    "\n",
    "# Check if the file exists\n",
    "if os.path.exists(gdrive_folder_path):\n",
    "    print(\"File exported to Google Drive successfully!\")\n",
    "else:\n",
    "    print(\"File export to Google Drive failed.\")"
   ]
  },
  {
   "cell_type": "markdown",
   "metadata": {
    "id": "HixSvFdWRUP8"
   },
   "source": [
    "## DELETE THE TEMPORARY FOLDERS"
   ]
  },
  {
   "cell_type": "code",
   "execution_count": 29,
   "metadata": {
    "colab": {
     "base_uri": "https://localhost:8080/",
     "height": 67,
     "referenced_widgets": [
      "4b66072739934fc88abe6fa0d154f83a",
      "e3f86a1e65dc41e2a518aef3b4c2285c",
      "085903cd0ac145e4a14a322ffa8a3bc4",
      "8232effafc8442fc907f9e27a99109e7",
      "84856ba9f07c4d8794ecf36f0d820815",
      "edca02d44c514ec2963d0ec557a89d27",
      "3d41e037363b4df98a944d9f6ab96f42",
      "936c87a8eaf540e49b74447a38076c53",
      "b813c8281cf544469cbe0c5cee4655f0",
      "498dca4e8efb4070b06f45410d3d8301",
      "dc08e67893c747f29f34bbfd3fc61804"
     ]
    },
    "id": "_3lLaIFbRfwU",
    "outputId": "689a8ef7-8ca6-4815-c0b6-fdfa3e2afe13"
   },
   "outputs": [
    {
     "data": {
      "application/vnd.jupyter.widget-view+json": {
       "model_id": "4b66072739934fc88abe6fa0d154f83a",
       "version_major": 2,
       "version_minor": 0
      },
      "text/plain": [
       "Box(children=(Label(value='Are you sure you want to delete the folders?'), Button(description='Yes', style=But…"
      ]
     },
     "metadata": {},
     "output_type": "display_data"
    },
    {
     "name": "stdout",
     "output_type": "stream",
     "text": [
      "Deletion cancelled.\n"
     ]
    }
   ],
   "source": [
    "# Define the confirmation dialog box\n",
    "confirmation_box = widgets.Box([\n",
    "    widgets.Label(value='Are you sure you want to delete the folders?'),\n",
    "    widgets.Button(description='Yes'),\n",
    "    widgets.Button(description='No')\n",
    "])\n",
    "\n",
    "# Define the callback function for the Yes button\n",
    "def on_yes_button_clicked(button):\n",
    "    if os.path.exists(temp_folder):\n",
    "        !rm -r $temp_folder\n",
    "        print(f\"{temp_folder} folder deleted successfully!\")\n",
    "    if os.path.exists(dst_dir):\n",
    "        !rm -r $dst_dir\n",
    "        print(f\"{dst_dir} folder deleted successfully!\")\n",
    "\n",
    "# Define the callback function for the No button\n",
    "def on_no_button_clicked(button):\n",
    "    print('Deletion cancelled.')\n",
    "\n",
    "# Attach the callbacks to the buttons\n",
    "confirmation_box.children[1].on_click(on_yes_button_clicked)\n",
    "confirmation_box.children[2].on_click(on_no_button_clicked)\n",
    "\n",
    "# Display the confirmation box\n",
    "display(confirmation_box)\n"
   ]
  }
 ],
 "metadata": {
  "colab": {
   "provenance": []
  },
  "kernelspec": {
   "display_name": "Python 3 (ipykernel)",
   "language": "python",
   "name": "python3"
  },
  "language_info": {
   "codemirror_mode": {
    "name": "ipython",
    "version": 3
   },
   "file_extension": ".py",
   "mimetype": "text/x-python",
   "name": "python",
   "nbconvert_exporter": "python",
   "pygments_lexer": "ipython3",
   "version": "3.9.13"
  },
  "widgets": {
   "application/vnd.jupyter.widget-state+json": {
    "085903cd0ac145e4a14a322ffa8a3bc4": {
     "model_module": "@jupyter-widgets/controls",
     "model_module_version": "1.5.0",
     "model_name": "ButtonModel",
     "state": {
      "_dom_classes": [],
      "_model_module": "@jupyter-widgets/controls",
      "_model_module_version": "1.5.0",
      "_model_name": "ButtonModel",
      "_view_count": null,
      "_view_module": "@jupyter-widgets/controls",
      "_view_module_version": "1.5.0",
      "_view_name": "ButtonView",
      "button_style": "",
      "description": "Yes",
      "disabled": false,
      "icon": "",
      "layout": "IPY_MODEL_936c87a8eaf540e49b74447a38076c53",
      "style": "IPY_MODEL_b813c8281cf544469cbe0c5cee4655f0",
      "tooltip": ""
     }
    },
    "3d41e037363b4df98a944d9f6ab96f42": {
     "model_module": "@jupyter-widgets/controls",
     "model_module_version": "1.5.0",
     "model_name": "DescriptionStyleModel",
     "state": {
      "_model_module": "@jupyter-widgets/controls",
      "_model_module_version": "1.5.0",
      "_model_name": "DescriptionStyleModel",
      "_view_count": null,
      "_view_module": "@jupyter-widgets/base",
      "_view_module_version": "1.2.0",
      "_view_name": "StyleView",
      "description_width": ""
     }
    },
    "498dca4e8efb4070b06f45410d3d8301": {
     "model_module": "@jupyter-widgets/base",
     "model_module_version": "1.2.0",
     "model_name": "LayoutModel",
     "state": {
      "_model_module": "@jupyter-widgets/base",
      "_model_module_version": "1.2.0",
      "_model_name": "LayoutModel",
      "_view_count": null,
      "_view_module": "@jupyter-widgets/base",
      "_view_module_version": "1.2.0",
      "_view_name": "LayoutView",
      "align_content": null,
      "align_items": null,
      "align_self": null,
      "border": null,
      "bottom": null,
      "display": null,
      "flex": null,
      "flex_flow": null,
      "grid_area": null,
      "grid_auto_columns": null,
      "grid_auto_flow": null,
      "grid_auto_rows": null,
      "grid_column": null,
      "grid_gap": null,
      "grid_row": null,
      "grid_template_areas": null,
      "grid_template_columns": null,
      "grid_template_rows": null,
      "height": null,
      "justify_content": null,
      "justify_items": null,
      "left": null,
      "margin": null,
      "max_height": null,
      "max_width": null,
      "min_height": null,
      "min_width": null,
      "object_fit": null,
      "object_position": null,
      "order": null,
      "overflow": null,
      "overflow_x": null,
      "overflow_y": null,
      "padding": null,
      "right": null,
      "top": null,
      "visibility": null,
      "width": null
     }
    },
    "4b66072739934fc88abe6fa0d154f83a": {
     "model_module": "@jupyter-widgets/controls",
     "model_module_version": "1.5.0",
     "model_name": "BoxModel",
     "state": {
      "_dom_classes": [],
      "_model_module": "@jupyter-widgets/controls",
      "_model_module_version": "1.5.0",
      "_model_name": "BoxModel",
      "_view_count": null,
      "_view_module": "@jupyter-widgets/controls",
      "_view_module_version": "1.5.0",
      "_view_name": "BoxView",
      "box_style": "",
      "children": [
       "IPY_MODEL_e3f86a1e65dc41e2a518aef3b4c2285c",
       "IPY_MODEL_085903cd0ac145e4a14a322ffa8a3bc4",
       "IPY_MODEL_8232effafc8442fc907f9e27a99109e7"
      ],
      "layout": "IPY_MODEL_84856ba9f07c4d8794ecf36f0d820815"
     }
    },
    "8232effafc8442fc907f9e27a99109e7": {
     "model_module": "@jupyter-widgets/controls",
     "model_module_version": "1.5.0",
     "model_name": "ButtonModel",
     "state": {
      "_dom_classes": [],
      "_model_module": "@jupyter-widgets/controls",
      "_model_module_version": "1.5.0",
      "_model_name": "ButtonModel",
      "_view_count": null,
      "_view_module": "@jupyter-widgets/controls",
      "_view_module_version": "1.5.0",
      "_view_name": "ButtonView",
      "button_style": "",
      "description": "No",
      "disabled": false,
      "icon": "",
      "layout": "IPY_MODEL_498dca4e8efb4070b06f45410d3d8301",
      "style": "IPY_MODEL_dc08e67893c747f29f34bbfd3fc61804",
      "tooltip": ""
     }
    },
    "84856ba9f07c4d8794ecf36f0d820815": {
     "model_module": "@jupyter-widgets/base",
     "model_module_version": "1.2.0",
     "model_name": "LayoutModel",
     "state": {
      "_model_module": "@jupyter-widgets/base",
      "_model_module_version": "1.2.0",
      "_model_name": "LayoutModel",
      "_view_count": null,
      "_view_module": "@jupyter-widgets/base",
      "_view_module_version": "1.2.0",
      "_view_name": "LayoutView",
      "align_content": null,
      "align_items": null,
      "align_self": null,
      "border": null,
      "bottom": null,
      "display": null,
      "flex": null,
      "flex_flow": null,
      "grid_area": null,
      "grid_auto_columns": null,
      "grid_auto_flow": null,
      "grid_auto_rows": null,
      "grid_column": null,
      "grid_gap": null,
      "grid_row": null,
      "grid_template_areas": null,
      "grid_template_columns": null,
      "grid_template_rows": null,
      "height": null,
      "justify_content": null,
      "justify_items": null,
      "left": null,
      "margin": null,
      "max_height": null,
      "max_width": null,
      "min_height": null,
      "min_width": null,
      "object_fit": null,
      "object_position": null,
      "order": null,
      "overflow": null,
      "overflow_x": null,
      "overflow_y": null,
      "padding": null,
      "right": null,
      "top": null,
      "visibility": null,
      "width": null
     }
    },
    "936c87a8eaf540e49b74447a38076c53": {
     "model_module": "@jupyter-widgets/base",
     "model_module_version": "1.2.0",
     "model_name": "LayoutModel",
     "state": {
      "_model_module": "@jupyter-widgets/base",
      "_model_module_version": "1.2.0",
      "_model_name": "LayoutModel",
      "_view_count": null,
      "_view_module": "@jupyter-widgets/base",
      "_view_module_version": "1.2.0",
      "_view_name": "LayoutView",
      "align_content": null,
      "align_items": null,
      "align_self": null,
      "border": null,
      "bottom": null,
      "display": null,
      "flex": null,
      "flex_flow": null,
      "grid_area": null,
      "grid_auto_columns": null,
      "grid_auto_flow": null,
      "grid_auto_rows": null,
      "grid_column": null,
      "grid_gap": null,
      "grid_row": null,
      "grid_template_areas": null,
      "grid_template_columns": null,
      "grid_template_rows": null,
      "height": null,
      "justify_content": null,
      "justify_items": null,
      "left": null,
      "margin": null,
      "max_height": null,
      "max_width": null,
      "min_height": null,
      "min_width": null,
      "object_fit": null,
      "object_position": null,
      "order": null,
      "overflow": null,
      "overflow_x": null,
      "overflow_y": null,
      "padding": null,
      "right": null,
      "top": null,
      "visibility": null,
      "width": null
     }
    },
    "b813c8281cf544469cbe0c5cee4655f0": {
     "model_module": "@jupyter-widgets/controls",
     "model_module_version": "1.5.0",
     "model_name": "ButtonStyleModel",
     "state": {
      "_model_module": "@jupyter-widgets/controls",
      "_model_module_version": "1.5.0",
      "_model_name": "ButtonStyleModel",
      "_view_count": null,
      "_view_module": "@jupyter-widgets/base",
      "_view_module_version": "1.2.0",
      "_view_name": "StyleView",
      "button_color": null,
      "font_weight": ""
     }
    },
    "dc08e67893c747f29f34bbfd3fc61804": {
     "model_module": "@jupyter-widgets/controls",
     "model_module_version": "1.5.0",
     "model_name": "ButtonStyleModel",
     "state": {
      "_model_module": "@jupyter-widgets/controls",
      "_model_module_version": "1.5.0",
      "_model_name": "ButtonStyleModel",
      "_view_count": null,
      "_view_module": "@jupyter-widgets/base",
      "_view_module_version": "1.2.0",
      "_view_name": "StyleView",
      "button_color": null,
      "font_weight": ""
     }
    },
    "e3f86a1e65dc41e2a518aef3b4c2285c": {
     "model_module": "@jupyter-widgets/controls",
     "model_module_version": "1.5.0",
     "model_name": "LabelModel",
     "state": {
      "_dom_classes": [],
      "_model_module": "@jupyter-widgets/controls",
      "_model_module_version": "1.5.0",
      "_model_name": "LabelModel",
      "_view_count": null,
      "_view_module": "@jupyter-widgets/controls",
      "_view_module_version": "1.5.0",
      "_view_name": "LabelView",
      "description": "",
      "description_tooltip": null,
      "layout": "IPY_MODEL_edca02d44c514ec2963d0ec557a89d27",
      "placeholder": "​",
      "style": "IPY_MODEL_3d41e037363b4df98a944d9f6ab96f42",
      "value": "Are you sure you want to delete the folders?"
     }
    },
    "edca02d44c514ec2963d0ec557a89d27": {
     "model_module": "@jupyter-widgets/base",
     "model_module_version": "1.2.0",
     "model_name": "LayoutModel",
     "state": {
      "_model_module": "@jupyter-widgets/base",
      "_model_module_version": "1.2.0",
      "_model_name": "LayoutModel",
      "_view_count": null,
      "_view_module": "@jupyter-widgets/base",
      "_view_module_version": "1.2.0",
      "_view_name": "LayoutView",
      "align_content": null,
      "align_items": null,
      "align_self": null,
      "border": null,
      "bottom": null,
      "display": null,
      "flex": null,
      "flex_flow": null,
      "grid_area": null,
      "grid_auto_columns": null,
      "grid_auto_flow": null,
      "grid_auto_rows": null,
      "grid_column": null,
      "grid_gap": null,
      "grid_row": null,
      "grid_template_areas": null,
      "grid_template_columns": null,
      "grid_template_rows": null,
      "height": null,
      "justify_content": null,
      "justify_items": null,
      "left": null,
      "margin": null,
      "max_height": null,
      "max_width": null,
      "min_height": null,
      "min_width": null,
      "object_fit": null,
      "object_position": null,
      "order": null,
      "overflow": null,
      "overflow_x": null,
      "overflow_y": null,
      "padding": null,
      "right": null,
      "top": null,
      "visibility": null,
      "width": null
     }
    }
   }
  }
 },
 "nbformat": 4,
 "nbformat_minor": 4
}
