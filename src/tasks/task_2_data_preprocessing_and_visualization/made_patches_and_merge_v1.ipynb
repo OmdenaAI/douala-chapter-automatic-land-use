{
 "cells": [
  {
   "cell_type": "markdown",
   "id": "c1167b17-4534-4c39-8dd8-8cee60293103",
   "metadata": {},
   "source": [
    "## PROCESS SATELLITE DATA TO MADE READY FOR ML MODEL"
   ]
  },
  {
   "cell_type": "markdown",
   "id": "9ee2bf34-9b1e-44a1-b7b2-a84fbfa3a1bf",
   "metadata": {},
   "source": [
    "**The purpose** \n",
    "> Preprocess saellite data to made ready as input for ML model"
   ]
  },
  {
   "cell_type": "markdown",
   "id": "f782eb39-9fdb-4073-9056-3908896b2db2",
   "metadata": {},
   "source": [
    "<hr/> \n",
    "\n",
    "## 1-Import necessary package"
   ]
  },
  {
   "cell_type": "code",
   "execution_count": 30,
   "id": "0371830e-9863-4c07-8f9e-64f804863c32",
   "metadata": {},
   "outputs": [],
   "source": [
    "import numpy as np\n",
    "import rasterio\n",
    "from rasterio import plot\n",
    "import warnings\n",
    "import cv2\n",
    "import os\n",
    "import matplotlib.pyplot as plt\n",
    "import numpy as np\n",
    "import pandas as pd\n",
    "import shutil\n",
    "import os, glob, functools, fnmatch, requests,  io, shutil, tarfile, json\n",
    "from tqdm import tqdm\n",
    "from rasterio.merge import merge\n",
    "from IPython.display import Image\n",
    "warnings.filterwarnings('ignore')"
   ]
  },
  {
   "cell_type": "markdown",
   "id": "ac9b94d9-89cf-45cb-8c4d-5f0224e01641",
   "metadata": {},
   "source": [
    "<hr/> \n",
    "\n",
    "## 4-Slice RGB Image into small tiles"
   ]
  },
  {
   "cell_type": "code",
   "execution_count": 4,
   "id": "39481759-ddc1-4960-9133-c46617ce43a4",
   "metadata": {},
   "outputs": [],
   "source": [
    "def get_tile_name_path(dst_dir:str, index:int):\n",
    "    '''\n",
    "    generating index specific tile name\n",
    "    '''\n",
    "    dst_tile_name = \"{}_.tif\".format(str(index).zfill(5))\n",
    "    dst_tile_path = os.path.join(dst_dir, dst_tile_name)\n",
    "    return dst_tile_name, dst_tile_path\n",
    "\n",
    "def get_tile_transform(parent_transform, pixel_x:int,pixel_y:int):\n",
    "    '''\n",
    "    creating tile transform matrix from parent tif image\n",
    "    '''\n",
    "    crs_x = parent_transform.c + pixel_x * parent_transform.a\n",
    "    crs_y = parent_transform.f + pixel_y * parent_transform.e\n",
    "    tile_transform = rasterio.Affine(parent_transform.a, parent_transform.b, crs_x,\n",
    "                                     parent_transform.d, parent_transform.e, crs_y)\n",
    "    return tile_transform\n",
    "    \n",
    "def get_tile_profile(parent_tif:rasterio.io.DatasetReader, pixel_x:int, pixel_y:int):\n",
    "    '''\n",
    "    preparing tile profile\n",
    "    '''\n",
    "    tile_crs = parent_tif.crs\n",
    "    tile_nodata = parent_tif.nodata if parent_tif.nodata is not None else 0\n",
    "    tile_transform = get_tile_transform(parent_tif.transform, pixel_x, pixel_y)\n",
    "    profile = dict(\n",
    "                driver=\"GTiff\",\n",
    "                crs=tile_crs,\n",
    "                nodata=tile_nodata,            \n",
    "                transform=tile_transform\n",
    "            )\n",
    "    return profile\n",
    "\n",
    "def generate_tiles(tif:rasterio.io.DatasetReader, size:int, dst_dir:str):\n",
    "    i = 0\n",
    "    for x in tqdm(range(0, tif.width, size)):\n",
    "        for y in range(0, tif.height, size):\n",
    "            # creating the tile specific profile\n",
    "            profile = get_tile_profile(tif, x, y)\n",
    "            # extracting the pixel data (couldnt understand as i dont think thats the correct way to pass the argument)\n",
    "            tile_data = tif.read(window=((y, y + size), (x, x + size)),\n",
    "                                 boundless=True, fill_value=profile['nodata'])[:3]\n",
    "            i+=1\n",
    "            dst_name, dst_tile_path = get_tile_name_path(dst_dir, i)\n",
    "            c, h, w = tile_data.shape\n",
    "            profile.update(\n",
    "                height=h,\n",
    "                width=w,\n",
    "                count=c,\n",
    "                dtype=tile_data.dtype,\n",
    "            )\n",
    "            with rasterio.open(dst_tile_path, \"w\", **profile) as dst:\n",
    "                dst.write(tile_data)"
   ]
  },
  {
   "cell_type": "code",
   "execution_count": 5,
   "id": "16e38173-020a-4ceb-8ba1-714ee2e0234c",
   "metadata": {},
   "outputs": [],
   "source": [
    "#Set folder to save smail tile\n",
    "RGB_path = \"./RGB/RASTER_17.tif\"\n",
    "img = rasterio.open(RGB_path )\n",
    "dst_image_dir = \"./IMG_SLICE\""
   ]
  },
  {
   "cell_type": "code",
   "execution_count": 6,
   "id": "4421afaf-8bc6-469f-b70a-3d5bd06c3640",
   "metadata": {},
   "outputs": [
    {
     "name": "stderr",
     "output_type": "stream",
     "text": [
      "100%|███████████████████████████████████████████| 12/12 [00:26<00:00,  2.18s/it]\n"
     ]
    }
   ],
   "source": [
    "#We can change the size from 512 to 256, 224, ...\n",
    "os.makedirs(dst_image_dir, exist_ok=True)\n",
    "\n",
    "generate_tiles(img, 1024, dst_image_dir)"
   ]
  },
  {
   "cell_type": "code",
   "execution_count": null,
   "id": "c4afdd73-019e-48df-bf61-31554b275148",
   "metadata": {},
   "outputs": [],
   "source": [
    "# Count the number of files in the directory\n",
    "num_files = len([f for f in os.listdir(dst_image_dir) if os.path.isfile(os.path.join(dst_image_dir, f))])\n",
    "\n",
    "# Print the number of files\n",
    "print(\"Number of files in the folder:\", num_files)"
   ]
  },
  {
   "attachments": {},
   "cell_type": "markdown",
   "id": "25edfd19",
   "metadata": {},
   "source": [
    "<hr>\n",
    "\n",
    "## 4a Visualizing the data for cloud cover"
   ]
  },
  {
   "cell_type": "code",
   "execution_count": null,
   "id": "2c4d09b8",
   "metadata": {},
   "outputs": [],
   "source": [
    "patch_files = os.listdir(dst_image_dir)"
   ]
  },
  {
   "cell_type": "code",
   "execution_count": null,
   "id": "23ebed74",
   "metadata": {},
   "outputs": [],
   "source": [
    "patches_list = []\n",
    "for file in patch_files:\n",
    "    path = os.path.join(dst_image_dir, file)\n",
    "    patches_list.append(rasterio.open(path))"
   ]
  },
  {
   "cell_type": "code",
   "execution_count": null,
   "id": "56e677d6",
   "metadata": {},
   "outputs": [],
   "source": [
    "iter_patch = iter(enumerate(patches_list))"
   ]
  },
  {
   "cell_type": "code",
   "execution_count": null,
   "id": "e2bb878a",
   "metadata": {},
   "outputs": [],
   "source": [
    "# Run cell as many times as required to step through and plot patches one at a time.\n",
    "\n",
    "import earthpy.plot as epp\n",
    "\n",
    "img_num, img_file = next(iter_patch, \"Iteration complete\")\n",
    "if img_file != \"Iteration complete\":\n",
    "    img_file.meta\n",
    "\n",
    "    # plot.show_hist(img_file,bins=50, lw=0.0, stacked=False, alpha=0.3, histtype='stepfilled', title=f\"Image {img_num} Histogram\")\n",
    "    # print(f\"{img_num:05d}\")\n",
    "\n",
    "    rgb = np.array([img_file.read(1),img_file.read(2),img_file.read(3)]) \n",
    "    im = epp.plot_rgb(rgb, figsize=(20,20),stretch=True,str_clip=0.2, title=f\"{img_num:05d}.tif\")\n",
    "\n",
    "    plt.show()\n",
    "\n",
    "    rgb.shape\n",
    "    img_file.close()\n",
    "else:\n",
    "    print(img_file)"
   ]
  },
  {
   "cell_type": "markdown",
   "id": "cd148fb8-44cc-4437-b968-96a56f972fa8",
   "metadata": {},
   "source": [
    "<hr/> \n",
    "\n",
    "## 5- Filtering Unnecessary Data"
   ]
  },
  {
   "cell_type": "code",
   "execution_count": 22,
   "id": "26a2ed6d-e0b4-4f2e-bc6b-42d5bbb35fca",
   "metadata": {},
   "outputs": [],
   "source": [
    "tile_paths = os.listdir(dst_image_dir)"
   ]
  },
  {
   "cell_type": "code",
   "execution_count": 23,
   "id": "0f717c5b-7822-453c-aa69-a1c9b61f2748",
   "metadata": {},
   "outputs": [],
   "source": [
    "#tile_paths"
   ]
  },
  {
   "cell_type": "code",
   "execution_count": 24,
   "id": "073e8a78-6ab9-4b4f-8638-a9ca2361101a",
   "metadata": {},
   "outputs": [
    {
     "name": "stdout",
     "output_type": "stream",
     "text": [
      "./IMG_SLICE/*.tif\n"
     ]
    }
   ],
   "source": [
    "search_criteria = \"*.tif\"\n",
    "q = os.path.join(dst_image_dir , search_criteria)\n",
    "print(q)"
   ]
  },
  {
   "cell_type": "code",
   "execution_count": 25,
   "id": "81c5f3d5-d622-4866-a461-56e69e44f0a1",
   "metadata": {},
   "outputs": [],
   "source": [
    "# Get all of the quad tiles\n",
    "quad_files = glob.glob(q)"
   ]
  },
  {
   "cell_type": "code",
   "execution_count": 1,
   "id": "69df266e-4211-4c9c-93cb-daeb5e5c90de",
   "metadata": {},
   "outputs": [],
   "source": [
    "#quad_files"
   ]
  },
  {
   "cell_type": "code",
   "execution_count": 27,
   "id": "f1444dd6-cbbc-484b-bcc3-debff43c43dc",
   "metadata": {},
   "outputs": [],
   "source": [
    "src_files_to_mosaic = []"
   ]
  },
  {
   "cell_type": "code",
   "execution_count": 28,
   "id": "04b00ab2-feea-4223-b8f7-3a9259fdbca2",
   "metadata": {},
   "outputs": [],
   "source": [
    "for f in quad_files:\n",
    "  src = rasterio.open(f)\n",
    "  src_files_to_mosaic.append(src)"
   ]
  },
  {
   "cell_type": "code",
   "execution_count": 31,
   "id": "a4a29201-4bf1-4a1b-8fdd-4279b5cd03c4",
   "metadata": {},
   "outputs": [],
   "source": [
    "# Create the mosaic\n",
    "mosaic, out_trans = merge(src_files_to_mosaic)"
   ]
  },
  {
   "cell_type": "code",
   "execution_count": 32,
   "id": "9a25a996-8ab4-4b5e-94e7-5e3302408c29",
   "metadata": {},
   "outputs": [],
   "source": [
    "out_meta = src.meta.copy()\n",
    "out_meta.update({\"driver\": \"GTiff\",\n",
    "                 \"height\": mosaic.shape[1],\n",
    "                 \"width\": mosaic.shape[2],\n",
    "                 \"transform\": out_trans\n",
    "                  }\n",
    ")"
   ]
  },
  {
   "cell_type": "code",
   "execution_count": 33,
   "id": "cda57d08-a63e-4d83-bd8f-cd01ec538e6a",
   "metadata": {},
   "outputs": [],
   "source": [
    "#The folder to save RGBNIR mosaic on a temporary folder \n",
    "temp_folder = r\"./temp\"\n",
    "temp_file = \"RASTER_17_merge.tif\"\n",
    "out_mosaic = os.path.join(temp_folder,temp_file )\n",
    "# Write the mosaic to raster file\n",
    "with rasterio.open(out_mosaic, \"w\", **out_meta) as dest:\n",
    "    dest.write(mosaic)"
   ]
  }
 ],
 "metadata": {
  "kernelspec": {
   "display_name": "Python 3 (ipykernel)",
   "language": "python",
   "name": "python3"
  },
  "language_info": {
   "codemirror_mode": {
    "name": "ipython",
    "version": 3
   },
   "file_extension": ".py",
   "mimetype": "text/x-python",
   "name": "python",
   "nbconvert_exporter": "python",
   "pygments_lexer": "ipython3",
   "version": "3.9.13"
  }
 },
 "nbformat": 4,
 "nbformat_minor": 5
}
