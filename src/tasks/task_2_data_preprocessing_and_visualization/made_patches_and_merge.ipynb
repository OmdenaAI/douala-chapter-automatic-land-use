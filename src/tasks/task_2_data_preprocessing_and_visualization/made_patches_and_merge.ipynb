{
 "cells": [
  {
   "cell_type": "markdown",
   "id": "c1167b17-4534-4c39-8dd8-8cee60293103",
   "metadata": {},
   "source": [
    "## PROCESS SATELLITE DATA TO MADE READY FOR ML MODEL"
   ]
  },
  {
   "cell_type": "markdown",
   "id": "9ee2bf34-9b1e-44a1-b7b2-a84fbfa3a1bf",
   "metadata": {},
   "source": [
    "**The purpose** \n",
    "> Preprocess saellite data to made ready as input for ML model"
   ]
  },
  {
   "cell_type": "markdown",
   "id": "f782eb39-9fdb-4073-9056-3908896b2db2",
   "metadata": {},
   "source": [
    "<hr/> \n",
    "\n",
    "## 1-Import necessary package"
   ]
  },
  {
   "cell_type": "code",
   "execution_count": 30,
   "id": "0071981a-4268-4ae7-a60e-7c45a68feb14",
   "metadata": {},
   "outputs": [],
   "source": [
    "import numpy as np\n",
    "import rasterio\n",
    "from rasterio import plot\n",
    "import warnings\n",
    "import cv2\n",
    "import os\n",
    "import matplotlib.pyplot as plt\n",
    "import numpy as np\n",
    "import pandas as pd\n",
    "import shutil\n",
    "import os, glob, functools, fnmatch, requests,  io, shutil, tarfile, json\n",
    "from tqdm import tqdm\n",
    "from rasterio.merge import merge\n",
    "from IPython.display import Image\n",
    "warnings.filterwarnings('ignore')"
   ]
  },
  {
   "cell_type": "markdown",
   "id": "68280128-12d9-45e3-89bd-3d2a458d7c88",
   "metadata": {},
   "source": [
    "<hr/> \n",
    "\n",
    "## 4-Slice RGB Image into small tiles"
   ]
  },
  {
   "cell_type": "code",
   "execution_count": 4,
   "id": "39481759-ddc1-4960-9133-c46617ce43a4",
   "metadata": {},
   "outputs": [],
   "source": [
    "def get_tile_name_path(dst_dir:str, index:int):\n",
    "    '''\n",
    "    generating index specific tile name\n",
    "    '''\n",
    "    dst_tile_name = \"{}_.tif\".format(str(index).zfill(5))\n",
    "    dst_tile_path = os.path.join(dst_dir, dst_tile_name)\n",
    "    return dst_tile_name, dst_tile_path\n",
    "\n",
    "def get_tile_transform(parent_transform, pixel_x:int,pixel_y:int):\n",
    "    '''\n",
    "    creating tile transform matrix from parent tif image\n",
    "    '''\n",
    "    crs_x = parent_transform.c + pixel_x * parent_transform.a\n",
    "    crs_y = parent_transform.f + pixel_y * parent_transform.e\n",
    "    tile_transform = rasterio.Affine(parent_transform.a, parent_transform.b, crs_x,\n",
    "                                     parent_transform.d, parent_transform.e, crs_y)\n",
    "    return tile_transform\n",
    "    \n",
    "def get_tile_profile(parent_tif:rasterio.io.DatasetReader, pixel_x:int, pixel_y:int):\n",
    "    '''\n",
    "    preparing tile profile\n",
    "    '''\n",
    "    tile_crs = parent_tif.crs\n",
    "    tile_nodata = parent_tif.nodata if parent_tif.nodata is not None else 0\n",
    "    tile_transform = get_tile_transform(parent_tif.transform, pixel_x, pixel_y)\n",
    "    profile = dict(\n",
    "                driver=\"GTiff\",\n",
    "                crs=tile_crs,\n",
    "                nodata=tile_nodata,            \n",
    "                transform=tile_transform\n",
    "            )\n",
    "    return profile\n",
    "\n",
    "def generate_tiles(tif:rasterio.io.DatasetReader, size:int, dst_dir:str):\n",
    "    i = 0\n",
    "    for x in tqdm(range(0, tif.width, size)):\n",
    "        for y in range(0, tif.height, size):\n",
    "            # creating the tile specific profile\n",
    "            profile = get_tile_profile(tif, x, y)\n",
    "            # extracting the pixel data (couldnt understand as i dont think thats the correct way to pass the argument)\n",
    "            tile_data = tif.read(window=((y, y + size), (x, x + size)),\n",
    "                                 boundless=True, fill_value=profile['nodata'])[:3]\n",
    "            i+=1\n",
    "            dst_name, dst_tile_path = get_tile_name_path(dst_dir, i)\n",
    "            c, h, w = tile_data.shape\n",
    "            profile.update(\n",
    "                height=h,\n",
    "                width=w,\n",
    "                count=c,\n",
    "                dtype=tile_data.dtype,\n",
    "            )\n",
    "            with rasterio.open(dst_tile_path, \"w\", **profile) as dst:\n",
    "                dst.write(tile_data)"
   ]
  },
  {
   "cell_type": "code",
   "execution_count": 5,
   "id": "17a63014-87cc-4663-9106-977acf1f1cc9",
   "metadata": {},
   "outputs": [],
   "source": [
    "#Set folder to save smail tile\n",
    "RGB_path = \"./RGB/RASTER_17.tif\"\n",
    "img = rasterio.open(RGB_path )\n",
    "dst_image_dir = \"./IMG_SLICE\""
   ]
  },
  {
   "cell_type": "code",
   "execution_count": 6,
   "id": "4421afaf-8bc6-469f-b70a-3d5bd06c3640",
   "metadata": {},
   "outputs": [
    {
     "name": "stderr",
     "output_type": "stream",
     "text": [
      "100%|███████████████████████████████████████████| 12/12 [00:26<00:00,  2.18s/it]\n"
     ]
    }
   ],
   "source": [
    "#We can change the size from 512 to 256, 224, ...\n",
    "generate_tiles(img, 512, dst_image_dir)"
   ]
  },
  {
   "cell_type": "markdown",
   "id": "cd148fb8-44cc-4437-b968-96a56f972fa8",
   "metadata": {},
   "source": [
    "<hr/> \n",
    "\n",
    "## 5- Filtering Unnecessary Data"
   ]
  },
  {
   "cell_type": "code",
   "execution_count": 22,
   "id": "26a2ed6d-e0b4-4f2e-bc6b-42d5bbb35fca",
   "metadata": {},
   "outputs": [],
   "source": [
    "tile_paths = os.listdir(dst_image_dir)"
   ]
  },
  {
   "cell_type": "code",
   "execution_count": 23,
   "id": "0f717c5b-7822-453c-aa69-a1c9b61f2748",
   "metadata": {},
   "outputs": [],
   "source": [
    "#tile_paths"
   ]
  },
  {
   "cell_type": "code",
   "execution_count": 24,
   "id": "073e8a78-6ab9-4b4f-8638-a9ca2361101a",
   "metadata": {},
   "outputs": [
    {
     "name": "stdout",
     "output_type": "stream",
     "text": [
      "./IMG_SLICE/*.tif\n"
     ]
    }
   ],
   "source": [
    "search_criteria = \"*.tif\"\n",
    "q = os.path.join(dst_image_dir , search_criteria)\n",
    "print(q)"
   ]
  },
  {
   "cell_type": "code",
   "execution_count": 25,
   "id": "81c5f3d5-d622-4866-a461-56e69e44f0a1",
   "metadata": {},
   "outputs": [],
   "source": [
    "# Get all of the quad tiles\n",
    "quad_files = glob.glob(q)"
   ]
  },
  {
   "cell_type": "code",
   "execution_count": 26,
   "id": "69df266e-4211-4c9c-93cb-daeb5e5c90de",
   "metadata": {},
   "outputs": [
    {
     "data": {
      "text/plain": [
       "['./IMG_SLICE/00001_.tif',\n",
       " './IMG_SLICE/00002_.tif',\n",
       " './IMG_SLICE/00003_.tif',\n",
       " './IMG_SLICE/00004_.tif',\n",
       " './IMG_SLICE/00005_.tif',\n",
       " './IMG_SLICE/00006_.tif',\n",
       " './IMG_SLICE/00007_.tif',\n",
       " './IMG_SLICE/00008_.tif',\n",
       " './IMG_SLICE/00009_.tif',\n",
       " './IMG_SLICE/00010_.tif',\n",
       " './IMG_SLICE/00011_.tif',\n",
       " './IMG_SLICE/00012_.tif',\n",
       " './IMG_SLICE/00013_.tif',\n",
       " './IMG_SLICE/00014_.tif',\n",
       " './IMG_SLICE/00015_.tif',\n",
       " './IMG_SLICE/00016_.tif',\n",
       " './IMG_SLICE/00017_.tif',\n",
       " './IMG_SLICE/00018_.tif',\n",
       " './IMG_SLICE/00019_.tif',\n",
       " './IMG_SLICE/00021_.tif',\n",
       " './IMG_SLICE/00022_.tif',\n",
       " './IMG_SLICE/00023_.tif',\n",
       " './IMG_SLICE/00024_.tif',\n",
       " './IMG_SLICE/00025_.tif',\n",
       " './IMG_SLICE/00026_.tif',\n",
       " './IMG_SLICE/00027_.tif',\n",
       " './IMG_SLICE/00028_.tif',\n",
       " './IMG_SLICE/00029_.tif',\n",
       " './IMG_SLICE/00030_.tif',\n",
       " './IMG_SLICE/00031_.tif',\n",
       " './IMG_SLICE/00032_.tif',\n",
       " './IMG_SLICE/00033_.tif',\n",
       " './IMG_SLICE/00034_.tif',\n",
       " './IMG_SLICE/00035_.tif',\n",
       " './IMG_SLICE/00036_.tif',\n",
       " './IMG_SLICE/00037_.tif',\n",
       " './IMG_SLICE/00038_.tif',\n",
       " './IMG_SLICE/00039_.tif',\n",
       " './IMG_SLICE/00041_.tif',\n",
       " './IMG_SLICE/00042_.tif',\n",
       " './IMG_SLICE/00043_.tif',\n",
       " './IMG_SLICE/00044_.tif',\n",
       " './IMG_SLICE/00045_.tif',\n",
       " './IMG_SLICE/00046_.tif',\n",
       " './IMG_SLICE/00047_.tif',\n",
       " './IMG_SLICE/00048_.tif',\n",
       " './IMG_SLICE/00049_.tif',\n",
       " './IMG_SLICE/00050_.tif',\n",
       " './IMG_SLICE/00051_.tif',\n",
       " './IMG_SLICE/00052_.tif',\n",
       " './IMG_SLICE/00053_.tif',\n",
       " './IMG_SLICE/00054_.tif',\n",
       " './IMG_SLICE/00055_.tif',\n",
       " './IMG_SLICE/00056_.tif',\n",
       " './IMG_SLICE/00057_.tif',\n",
       " './IMG_SLICE/00058_.tif',\n",
       " './IMG_SLICE/00059_.tif',\n",
       " './IMG_SLICE/00061_.tif',\n",
       " './IMG_SLICE/00062_.tif',\n",
       " './IMG_SLICE/00063_.tif',\n",
       " './IMG_SLICE/00064_.tif',\n",
       " './IMG_SLICE/00065_.tif',\n",
       " './IMG_SLICE/00066_.tif',\n",
       " './IMG_SLICE/00067_.tif',\n",
       " './IMG_SLICE/00068_.tif',\n",
       " './IMG_SLICE/00069_.tif',\n",
       " './IMG_SLICE/00070_.tif',\n",
       " './IMG_SLICE/00071_.tif',\n",
       " './IMG_SLICE/00072_.tif',\n",
       " './IMG_SLICE/00073_.tif',\n",
       " './IMG_SLICE/00074_.tif',\n",
       " './IMG_SLICE/00075_.tif',\n",
       " './IMG_SLICE/00076_.tif',\n",
       " './IMG_SLICE/00077_.tif',\n",
       " './IMG_SLICE/00078_.tif',\n",
       " './IMG_SLICE/00079_.tif',\n",
       " './IMG_SLICE/00081_.tif',\n",
       " './IMG_SLICE/00082_.tif',\n",
       " './IMG_SLICE/00083_.tif',\n",
       " './IMG_SLICE/00084_.tif',\n",
       " './IMG_SLICE/00085_.tif',\n",
       " './IMG_SLICE/00086_.tif',\n",
       " './IMG_SLICE/00087_.tif',\n",
       " './IMG_SLICE/00088_.tif',\n",
       " './IMG_SLICE/00089_.tif',\n",
       " './IMG_SLICE/00090_.tif',\n",
       " './IMG_SLICE/00091_.tif',\n",
       " './IMG_SLICE/00092_.tif',\n",
       " './IMG_SLICE/00093_.tif',\n",
       " './IMG_SLICE/00094_.tif',\n",
       " './IMG_SLICE/00095_.tif',\n",
       " './IMG_SLICE/00096_.tif',\n",
       " './IMG_SLICE/00097_.tif',\n",
       " './IMG_SLICE/00098_.tif',\n",
       " './IMG_SLICE/00099_.tif',\n",
       " './IMG_SLICE/00020_.tif',\n",
       " './IMG_SLICE/00040_.tif',\n",
       " './IMG_SLICE/00060_.tif',\n",
       " './IMG_SLICE/00080_.tif',\n",
       " './IMG_SLICE/00100_.tif',\n",
       " './IMG_SLICE/00120_.tif',\n",
       " './IMG_SLICE/00101_.tif',\n",
       " './IMG_SLICE/00102_.tif',\n",
       " './IMG_SLICE/00103_.tif',\n",
       " './IMG_SLICE/00104_.tif',\n",
       " './IMG_SLICE/00105_.tif',\n",
       " './IMG_SLICE/00106_.tif',\n",
       " './IMG_SLICE/00107_.tif',\n",
       " './IMG_SLICE/00108_.tif',\n",
       " './IMG_SLICE/00109_.tif',\n",
       " './IMG_SLICE/00110_.tif',\n",
       " './IMG_SLICE/00111_.tif',\n",
       " './IMG_SLICE/00112_.tif',\n",
       " './IMG_SLICE/00113_.tif',\n",
       " './IMG_SLICE/00114_.tif',\n",
       " './IMG_SLICE/00115_.tif',\n",
       " './IMG_SLICE/00116_.tif',\n",
       " './IMG_SLICE/00117_.tif',\n",
       " './IMG_SLICE/00118_.tif',\n",
       " './IMG_SLICE/00119_.tif',\n",
       " './IMG_SLICE/00121_.tif',\n",
       " './IMG_SLICE/00122_.tif',\n",
       " './IMG_SLICE/00123_.tif',\n",
       " './IMG_SLICE/00124_.tif',\n",
       " './IMG_SLICE/00125_.tif',\n",
       " './IMG_SLICE/00126_.tif',\n",
       " './IMG_SLICE/00127_.tif',\n",
       " './IMG_SLICE/00128_.tif',\n",
       " './IMG_SLICE/00129_.tif',\n",
       " './IMG_SLICE/00130_.tif',\n",
       " './IMG_SLICE/00131_.tif',\n",
       " './IMG_SLICE/00132_.tif',\n",
       " './IMG_SLICE/00133_.tif',\n",
       " './IMG_SLICE/00134_.tif',\n",
       " './IMG_SLICE/00135_.tif',\n",
       " './IMG_SLICE/00136_.tif',\n",
       " './IMG_SLICE/00137_.tif',\n",
       " './IMG_SLICE/00138_.tif',\n",
       " './IMG_SLICE/00139_.tif',\n",
       " './IMG_SLICE/00140_.tif',\n",
       " './IMG_SLICE/00141_.tif',\n",
       " './IMG_SLICE/00142_.tif',\n",
       " './IMG_SLICE/00143_.tif',\n",
       " './IMG_SLICE/00144_.tif']"
      ]
     },
     "execution_count": 26,
     "metadata": {},
     "output_type": "execute_result"
    }
   ],
   "source": [
    "quad_files"
   ]
  },
  {
   "cell_type": "markdown",
   "id": "f390fac0-1ab8-46b8-9c1f-996b019c5224",
   "metadata": {},
   "source": [
    "**Conclusion** \n",
    "> The folder ```./rgb_sclice_valid``` contain valid tile that can be use as input for ML model."
   ]
  },
  {
   "cell_type": "code",
   "execution_count": 27,
   "id": "f1444dd6-cbbc-484b-bcc3-debff43c43dc",
   "metadata": {},
   "outputs": [],
   "source": [
    "src_files_to_mosaic = []"
   ]
  },
  {
   "cell_type": "code",
   "execution_count": 28,
   "id": "04b00ab2-feea-4223-b8f7-3a9259fdbca2",
   "metadata": {},
   "outputs": [],
   "source": [
    "for f in quad_files:\n",
    "  src = rasterio.open(f)\n",
    "  src_files_to_mosaic.append(src)"
   ]
  },
  {
   "cell_type": "code",
   "execution_count": 31,
   "id": "a4a29201-4bf1-4a1b-8fdd-4279b5cd03c4",
   "metadata": {},
   "outputs": [],
   "source": [
    "# Create the mosaic\n",
    "mosaic, out_trans = merge(src_files_to_mosaic)"
   ]
  },
  {
   "cell_type": "code",
   "execution_count": 32,
   "id": "9a25a996-8ab4-4b5e-94e7-5e3302408c29",
   "metadata": {},
   "outputs": [],
   "source": [
    "out_meta = src.meta.copy()\n",
    "out_meta.update({\"driver\": \"GTiff\",\n",
    "                 \"height\": mosaic.shape[1],\n",
    "                 \"width\": mosaic.shape[2],\n",
    "                 \"transform\": out_trans\n",
    "                  }\n",
    ")"
   ]
  },
  {
   "cell_type": "code",
   "execution_count": 33,
   "id": "cda57d08-a63e-4d83-bd8f-cd01ec538e6a",
   "metadata": {},
   "outputs": [],
   "source": [
    "#The folder to save RGBNIR mosaic on a temporary folder \n",
    "temp_folder = r\"./temp\"\n",
    "temp_file = \"RASTER_17_merge.tif\"\n",
    "out_mosaic = os.path.join(temp_folder,temp_file )\n",
    "# Write the mosaic to raster file\n",
    "with rasterio.open(out_mosaic, \"w\", **out_meta) as dest:\n",
    "    dest.write(mosaic)"
   ]
  }
 ],
 "metadata": {
  "kernelspec": {
   "display_name": "Python 3 (ipykernel)",
   "language": "python",
   "name": "python3"
  },
  "language_info": {
   "codemirror_mode": {
    "name": "ipython",
    "version": 3
   },
   "file_extension": ".py",
   "mimetype": "text/x-python",
   "name": "python",
   "nbconvert_exporter": "python",
   "pygments_lexer": "ipython3",
   "version": "3.9.12"
  }
 },
 "nbformat": 4,
 "nbformat_minor": 5
}
