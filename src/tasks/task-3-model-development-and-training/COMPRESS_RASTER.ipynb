{
  "nbformat": 4,
  "nbformat_minor": 0,
  "metadata": {
    "colab": {
      "provenance": []
    },
    "kernelspec": {
      "name": "python3",
      "display_name": "Python 3"
    },
    "language_info": {
      "name": "python"
    }
  },
  "cells": [
    {
      "cell_type": "code",
      "execution_count": null,
      "metadata": {
        "id": "74g7Jiu1r2i0"
      },
      "outputs": [],
      "source": [
        "# MOUNT GOOGLE DRIVE\n",
        "from google.colab import drive\n",
        "drive.mount('/content/drive')"
      ]
    },
    {
      "cell_type": "code",
      "source": [
        "import os\n",
        "import sys\n",
        "from osgeo import gdal\n",
        "\n",
        "def compress_raster(input_raster, output_raster):\n",
        "    input_ds = gdal.Open(input_raster, gdal.GA_ReadOnly)\n",
        "    \n",
        "    if input_ds is None:\n",
        "        print(f\"Error: Unable to open input raster '{input_raster}'.\")\n",
        "        sys.exit(1)\n",
        "\n",
        "    output_driver = gdal.GetDriverByName(\"GTiff\")\n",
        "    output_ds = output_driver.CreateCopy(\n",
        "        output_raster, \n",
        "        input_ds, \n",
        "        options=[\"COMPRESS=LZW\", \"PREDICTOR=2\", \"TILED=YES\"]\n",
        "    )\n",
        "    \n",
        "    if output_ds is None:\n",
        "        print(f\"Error: Unable to create output raster '{output_raster}'.\")\n",
        "        sys.exit(1)\n",
        "\n",
        "    input_ds = None\n",
        "    output_ds = None\n",
        "    print(f\"Compression complete. Output raster saved as '{output_raster}'.\")\n",
        "\n",
        "if __name__ == \"__main__\":\n",
        "    input_raster = \"/content/drive/MyDrive/DEEP_LEARNING/CAMEROON/PREDICTION/CAMEROON_PREDICTION_NEW.tif\"\n",
        "    output_raster = \"/content/drive/MyDrive/DEEP_LEARNING/CAMEROON/PREDICTION/CAMEROON_PREDICTION_10GB_2.tif\"\n",
        "    compress_raster(input_raster, output_raster)"
      ],
      "metadata": {
        "id": "AjKYL5For6WG"
      },
      "execution_count": null,
      "outputs": []
    }
  ]
}