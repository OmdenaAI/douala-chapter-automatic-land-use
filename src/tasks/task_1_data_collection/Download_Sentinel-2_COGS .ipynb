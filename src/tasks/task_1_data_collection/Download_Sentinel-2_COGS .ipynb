{
 "cells": [
  {
   "cell_type": "markdown",
   "id": "f3245c31-5f43-4eb0-abc1-c6de7ffb9f23",
   "metadata": {},
   "source": [
    "# Access and visualization of EO Data on the Cloud (COGS)"
   ]
  },
  {
   "cell_type": "markdown",
   "id": "51b489a5-3119-4242-8bab-b9883958c4e0",
   "metadata": {},
   "source": [
    "**Purpose** : \n",
    ">Connect to an EO data catalog by using a [SpatioTemporal Asset Catalog (STAC)](https://stacspec.org/) client in Python.\\\n",
    ">Search for data products for a specific region and time period.\\\n",
    ">Display the boundaries of the available scenes\\\n",
    ">Get an overview of the actual images\\\n",
    ">Save band image."
   ]
  },
  {
   "cell_type": "markdown",
   "id": "544803e6-e609-4786-a20c-7c4fce3f37f3",
   "metadata": {},
   "source": [
    "<hr/> \n",
    "\n",
    "## 1-import required libraries"
   ]
  },
  {
   "cell_type": "code",
   "execution_count": null,
   "id": "4bbae22a-a63a-4dea-81e5-54a9666f7233",
   "metadata": {},
   "outputs": [],
   "source": [
    "# Import necessary packages\n",
    "import os \n",
    "#import cv2\n",
    "from datetime import date\n",
    "import json\n",
    "import itertools\n",
    "import geopandas as gpd\n",
    "import rasterio\n",
    "import matplotlib.pyplot as plt\n",
    "import numpy as np\n",
    "from sentinelsat import SentinelAPI, read_geojson, geojson_to_wkt\n",
    "from sentinelhub import pixel_to_utm, utm_to_pixel\n",
    "import utm\n",
    "import pandas as pd\n",
    "from shapely.geometry import box\n",
    "from rasterio.mask import mask\n",
    "from pystac_client import Client\n",
    "import shapely.geometry\n",
    "import shapely.wkt\n",
    "import folium\n",
    "import shapely.geometry\n",
    "#from odc.algo import to_rgba\n",
    "import earthpy.spatial as es\n",
    "import earthpy.plot as ep\n",
    "import rioxarray\n",
    "#import contextily as ctx "
   ]
  },
  {
   "cell_type": "markdown",
   "id": "495583b0-23d3-4471-96c9-5775ba8899b6",
   "metadata": {},
   "source": [
    "<hr/> \n",
    "\n",
    "## 2-Set the AOI"
   ]
  },
  {
   "cell_type": "code",
   "execution_count": null,
   "id": "bbf00773-9cb3-4cfe-8583-ba2405a72331",
   "metadata": {},
   "outputs": [],
   "source": [
    "#Set the path to data\n",
    "aoi_dir = \"../../data/aoi\"\n",
    "aoi_file = \"littoral_outline.geojson\"\n",
    "aoi_path = os.path.join(aoi_dir , aoi_file )"
   ]
  },
  {
   "cell_type": "code",
   "execution_count": null,
   "id": "5ff0fdc2",
   "metadata": {},
   "outputs": [],
   "source": [
    "assert os.path.exists(aoi_path), f'{aoi_path}'"
   ]
  },
  {
   "cell_type": "code",
   "execution_count": null,
   "id": "ac1aa3e0-96d5-4687-ace1-1ba468ed3c8b",
   "metadata": {},
   "outputs": [],
   "source": [
    "aoi_path"
   ]
  },
  {
   "cell_type": "code",
   "execution_count": null,
   "id": "2168d588-ebdb-4f4c-9ca5-ee6eb863ae3a",
   "metadata": {},
   "outputs": [],
   "source": [
    "def get_bounds_of_AoI(obj_aoi, offset):\n",
    "    \n",
    "    aoi = gpd.read_file(obj_aoi)\n",
    "    \n",
    "    bounds = aoi.total_bounds\n",
    "    #offset = 1/60  #200m in degree\n",
    "    # Extend the bounding box by 200 m\n",
    "    minx, miny = bounds[0]-offset, bounds[1]-offset\n",
    "    maxx, maxy = bounds[2]+offset, bounds[3]+offset\n",
    "\n",
    "    bbox = box(minx, miny, maxx, maxy)\n",
    "    \n",
    "    print(bbox)\n",
    "\n",
    "    geo = gpd.GeoDataFrame({'geometry': bbox}, index=[0], crs=\"EPSG:4326\")\n",
    "\n",
    "    \n",
    "    return  geo"
   ]
  },
  {
   "cell_type": "code",
   "execution_count": null,
   "id": "e8e936e4-39fd-4921-90bb-9556f1d7b6b7",
   "metadata": {},
   "outputs": [],
   "source": [
    "#offset = 1/60  #200m in degree\n",
    "bbx = get_bounds_of_AoI(aoi_path, 1/60)\n",
    "aoi = gpd.read_file(aoi_path)"
   ]
  },
  {
   "cell_type": "code",
   "execution_count": null,
   "id": "abfb908f-b519-4d81-902f-a1343f82344f",
   "metadata": {
    "scrolled": true
   },
   "outputs": [],
   "source": [
    "bbx.explore()"
   ]
  },
  {
   "cell_type": "markdown",
   "id": "6b5363ef-4547-44d2-9b9d-8abaa0cf305b",
   "metadata": {},
   "source": [
    "<hr/> \n",
    "\n",
    "## 3-Search a STAC catalog"
   ]
  },
  {
   "cell_type": "code",
   "execution_count": null,
   "id": "ea3a8371-6cea-4947-9f27-ad1e0650eab0",
   "metadata": {},
   "outputs": [],
   "source": [
    "# STAC API endpoint\n",
    "api_url = \"https://earth-search.aws.element84.com/v0\"\n",
    "client = Client.open(api_url)\n",
    "collection = \"sentinel-s2-l2a-cogs\"  # Sentinel-2, Level 2A, COGs"
   ]
  },
  {
   "cell_type": "code",
   "execution_count": null,
   "id": "03e9021a-eaab-4771-842d-1d52eda2ea80",
   "metadata": {},
   "outputs": [],
   "source": [
    "print(bbx.crs)\n",
    "values = []\n",
    "for i in range(len(bbx.total_bounds)):\n",
    "    values.append(bbx.total_bounds[i])\n",
    "keys = [\"lonmin\", \"latmin\", \"lonmax\", \"latmax\"]  \n",
    "geometry = dict(zip(keys, values))"
   ]
  },
  {
   "cell_type": "code",
   "execution_count": null,
   "id": "810fa7b6-4e21-4d4f-803d-d17771a64fd0",
   "metadata": {},
   "outputs": [],
   "source": [
    "time =  [\"2021-02-01\", \"2021-02-15\"]\n",
    "search = client.search(\n",
    "    collections=[collection],\n",
    "    bbox= [ geometry[\"lonmin\"], geometry[\"latmin\"],  geometry[\"lonmax\"], geometry[\"latmax\"]],\n",
    "    datetime = [\"2023-01-01\", \"2023-01-15\"],\n",
    "    #limit=100,\n",
    "    query=[\"eo:cloud_cover<0.01\"]\n",
    ")\n",
    "print(search.matched())"
   ]
  },
  {
   "cell_type": "code",
   "execution_count": null,
   "id": "c5a5e8ba-a95d-4fda-9df4-e784f88f8672",
   "metadata": {},
   "outputs": [],
   "source": [
    "items = search.get_all_items()\n",
    "items.save_object(\"search.json\")"
   ]
  },
  {
   "cell_type": "markdown",
   "id": "aa0eaa8a-6087-44d0-b8ce-3c7fbbe7990c",
   "metadata": {},
   "source": [
    "<hr/> \n",
    "\n",
    "## 4-Access the assets"
   ]
  },
  {
   "cell_type": "code",
   "execution_count": null,
   "id": "f99625c3-8401-46b1-8374-e81f983627bb",
   "metadata": {},
   "outputs": [],
   "source": [
    "assets = items[0].assets  # first item's asset dictionary\n",
    "print(assets.keys())"
   ]
  },
  {
   "cell_type": "code",
   "execution_count": null,
   "id": "dad7d9ad-0b21-4815-b081-d5e99ce6cd20",
   "metadata": {},
   "outputs": [],
   "source": [
    "for key, asset in assets.items():\n",
    "    print(f\"{key}: {asset.title}\")"
   ]
  },
  {
   "cell_type": "code",
   "execution_count": null,
   "id": "2f7b5026-665d-41eb-b312-8feb4f0f5160",
   "metadata": {},
   "outputs": [],
   "source": [
    "visual_href = assets[\"visual\"].href\n",
    "visual = rioxarray.open_rasterio(visual_href)"
   ]
  },
  {
   "cell_type": "code",
   "execution_count": null,
   "id": "37b9e7a7-9399-4cef-a6cf-086b3c509c5c",
   "metadata": {},
   "outputs": [],
   "source": [
    "#Plot the RGB composite\n",
    "f, ax = plt.subplots()\n",
    "ep.plot_rgb(visual.values,\n",
    "            rgb=[2, 1, 0],\n",
    "            title=\"RGB Composite image - satellite data\",\n",
    "                ax=ax)\n",
    "plt.show()"
   ]
  },
  {
   "cell_type": "code",
   "execution_count": null,
   "id": "7090a0e5-a774-4888-8eee-3d2e0586e3cc",
   "metadata": {},
   "outputs": [],
   "source": [
    "#Save RGB to Disk\n",
    "#visual.rio.to_raster(\"visual00.tif\")"
   ]
  },
  {
   "cell_type": "code",
   "execution_count": null,
   "id": "fb123ccb",
   "metadata": {},
   "outputs": [],
   "source": [
    "visual.rio.write_crs(\"epsg:4326\", inplace=True)\n",
    "\n",
    "print(visual.rio.crs)"
   ]
  },
  {
   "cell_type": "code",
   "execution_count": null,
   "id": "aeeeef23",
   "metadata": {},
   "outputs": [],
   "source": [
    "f, ax = plt.subplots()\n",
    "visual.plot.imshow(ax=ax, ec = 'b')\n",
    "aoi.plot(ax=ax)\n",
    "plt.show()\n",
    "bbx"
   ]
  },
  {
   "cell_type": "code",
   "execution_count": null,
   "id": "a36a0eb9-0149-45b1-b5ed-eada9713f798",
   "metadata": {},
   "outputs": [],
   "source": [
    "#Access band 2\n",
    "b02_href = assets[\"B02\"].href\n",
    "b02 = rioxarray.open_rasterio(b02_href)\n",
    "#b02.rio.to_raster(\"B02.tif\")"
   ]
  },
  {
   "cell_type": "code",
   "execution_count": null,
   "id": "9f77cab4-0e7c-49e1-bd59-ffda5734556e",
   "metadata": {},
   "outputs": [],
   "source": [
    "#Access band 3\n",
    "b03_href = assets[\"B03\"].href\n",
    "b03 = rioxarray.open_rasterio(b03_href)\n",
    "#b03.rio.to_raster(\"B03.tif\")"
   ]
  },
  {
   "cell_type": "code",
   "execution_count": null,
   "id": "566b13c0-6a18-4958-b438-660c90b6dace",
   "metadata": {},
   "outputs": [],
   "source": [
    "#Access Band 4\n",
    "b04_href = assets[\"B04\"].href\n",
    "b04 = rioxarray.open_rasterio(b04_href)\n",
    "#b04.rio.to_raster(\"B04.tif\")"
   ]
  },
  {
   "cell_type": "code",
   "execution_count": null,
   "id": "99c58413-19f6-47a9-8270-8eb484cfc32b",
   "metadata": {},
   "outputs": [],
   "source": [
    "# Acces SCL: Scene Classification Map (SCL)\n",
    "bscl_href = assets[\"SCL\"].href\n",
    "bscl = rioxarray.open_rasterio(bscl_href)\n",
    "bscl.rio.to_raster(\"SCL.tif\")"
   ]
  },
  {
   "cell_type": "code",
   "execution_count": null,
   "id": "6791a78b-d84c-419b-8b91-0527a920c8d3",
   "metadata": {},
   "outputs": [],
   "source": [
    "#Access Band 8\n",
    "b08_href = assets[\"B08\"].href\n",
    "b08 = rioxarray.open_rasterio(b08_href)\n",
    "#b08.rio.to_raster(\"B08.tif\")"
   ]
  },
  {
   "cell_type": "markdown",
   "id": "59bd7d90",
   "metadata": {},
   "source": [
    "### Stack all bands in the same array"
   ]
  },
  {
   "cell_type": "code",
   "execution_count": null,
   "id": "aab17c3a",
   "metadata": {},
   "outputs": [],
   "source": [
    "import xarray as xr\n",
    "ds = np.vstack([b04, b03, b02, b08]) # RGB NIR\n",
    "# Create xr.DataArray to write netcdf\n",
    "df = xr.DataArray(ds, dims=['Bands','x','y'])"
   ]
  },
  {
   "cell_type": "code",
   "execution_count": null,
   "id": "e4f1dd5d",
   "metadata": {},
   "outputs": [],
   "source": [
    "# Save to netcdf\n",
    "PATH_ncdf = ' ' # Add the path \n",
    "file_name = os.path.join(PATH_ncdf,\"file_all_bands.nc\")\n",
    "df.to_netcdf(file_name)"
   ]
  },
  {
   "cell_type": "code",
   "execution_count": null,
   "id": "57589c9a",
   "metadata": {},
   "outputs": [],
   "source": [
    "# Open it again\n",
    "data = xr.open_dataset(file_name)"
   ]
  }
 ],
 "metadata": {
  "kernelspec": {
   "display_name": "Python 3",
   "language": "python",
   "name": "python3"
  },
  "language_info": {
   "codemirror_mode": {
    "name": "ipython",
    "version": 3
   },
   "file_extension": ".py",
   "mimetype": "text/x-python",
   "name": "python",
   "nbconvert_exporter": "python",
   "pygments_lexer": "ipython3",
   "version": "3.9.16"
  }
 },
 "nbformat": 4,
 "nbformat_minor": 5
}
