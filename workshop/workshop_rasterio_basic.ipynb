{
 "cells": [
  {
   "cell_type": "markdown",
   "id": "ef6b7260-6be3-49aa-b47a-244fe1545280",
   "metadata": {},
   "source": [
    "# Rasterio"
   ]
  },
  {
   "cell_type": "markdown",
   "id": "a10c53d1-976a-4fc7-9783-68302c232326",
   "metadata": {},
   "source": [
    "## Open a dataset"
   ]
  },
  {
   "cell_type": "code",
   "execution_count": null,
   "id": "b8029ce4-222b-46d5-a9e7-9dfae5fa5a92",
   "metadata": {},
   "outputs": [],
   "source": [
    "import rasterio\n",
    "from rasterio import plot\n",
    "from matplotlib import pyplot as plt\n",
    "import numpy as np"
   ]
  },
  {
   "cell_type": "code",
   "execution_count": null,
   "id": "3a76a752-6791-4089-ac24-f6f88bdc00a9",
   "metadata": {},
   "outputs": [],
   "source": [
    "dataset = rasterio.open('012021_nicfi_fkkl_Mosaic.tif')\n",
    "#dataset = rasterio.open('RGB_Small_47.tif')"
   ]
  },
  {
   "cell_type": "code",
   "execution_count": null,
   "id": "db4659f5-b745-48b8-8172-6b413653f66b",
   "metadata": {},
   "outputs": [],
   "source": [
    "dataset.name"
   ]
  },
  {
   "cell_type": "code",
   "execution_count": null,
   "id": "3cf83cef-a112-4659-8665-8dedf9f7270f",
   "metadata": {},
   "outputs": [],
   "source": [
    "dataset.mode"
   ]
  },
  {
   "cell_type": "markdown",
   "id": "a279d4d2-7f83-4895-aafb-855c1c6632a1",
   "metadata": {},
   "source": [
    "## Getting access to dataset's properties"
   ]
  },
  {
   "cell_type": "markdown",
   "id": "19586478-3bff-42fa-915e-c3017fa53e77",
   "metadata": {},
   "source": [
    "Dataset objects have one or more bands. A band is a 2D array of values, representing the disribution of a variable in 2D space."
   ]
  },
  {
   "cell_type": "code",
   "execution_count": null,
   "id": "926af438-bc81-4792-92a8-1dab1ae6162c",
   "metadata": {},
   "outputs": [],
   "source": [
    "# Number of bands\n",
    "dataset.count"
   ]
  },
  {
   "cell_type": "markdown",
   "id": "7f3477f7-abad-445d-a170-b6d90df96f53",
   "metadata": {},
   "source": [
    "Width and height"
   ]
  },
  {
   "cell_type": "code",
   "execution_count": null,
   "id": "b695c3db-b2ed-4068-84d4-3fe5c5c6d52d",
   "metadata": {},
   "outputs": [],
   "source": [
    "dataset.width"
   ]
  },
  {
   "cell_type": "code",
   "execution_count": null,
   "id": "4555f9a3-4a18-481a-a9a1-d80f8e7255c9",
   "metadata": {},
   "outputs": [],
   "source": [
    "dataset.height"
   ]
  },
  {
   "cell_type": "code",
   "execution_count": null,
   "id": "937894bf",
   "metadata": {},
   "outputs": [],
   "source": [
    "dataset.shape"
   ]
  },
  {
   "cell_type": "code",
   "execution_count": null,
   "id": "a5487330-2f2b-4633-82b8-cba18d03fe5b",
   "metadata": {},
   "outputs": [],
   "source": [
    "dataset.res"
   ]
  },
  {
   "cell_type": "code",
   "execution_count": null,
   "id": "87e43e98-b78a-4880-8029-10eaa37c091b",
   "metadata": {},
   "outputs": [],
   "source": [
    "print(dataset.nodata)"
   ]
  },
  {
   "cell_type": "markdown",
   "id": "bf8d04e0-f6ec-49b8-96a4-906ad7a18a68",
   "metadata": {},
   "source": [
    "## Visualization"
   ]
  },
  {
   "cell_type": "code",
   "execution_count": null,
   "id": "1438c411-9efd-4b79-b225-9b776067385d",
   "metadata": {},
   "outputs": [],
   "source": [
    "from rasterio.plot import show\n",
    "show(dataset)"
   ]
  },
  {
   "cell_type": "code",
   "execution_count": null,
   "id": "2234579a-60fb-4097-9f7f-13fa567cdae6",
   "metadata": {},
   "outputs": [],
   "source": [
    "from rasterio.plot import show_hist\n",
    "show_hist(dataset, bins=50, lw=0.0, stacked=False, alpha=0.3, histtype='stepfilled', title=\"Histogram\")"
   ]
  },
  {
   "cell_type": "markdown",
   "id": "099c06df-6121-42fa-ac5a-d8fd6c3df199",
   "metadata": {},
   "source": [
    "## Dataset georeferencing"
   ]
  },
  {
   "cell_type": "code",
   "execution_count": null,
   "id": "c070cc31-e903-4c06-a2ed-179498cec7c2",
   "metadata": {},
   "outputs": [],
   "source": [
    "dataset.bounds"
   ]
  },
  {
   "cell_type": "markdown",
   "id": "0f3723f1-060d-4643-a7c8-05c35cd0319c",
   "metadata": {},
   "source": [
    "Affine transformation"
   ]
  },
  {
   "cell_type": "code",
   "execution_count": null,
   "id": "66563db3-c367-490e-a5dd-3aa9b7066a90",
   "metadata": {},
   "outputs": [],
   "source": [
    "dataset.transform"
   ]
  },
  {
   "cell_type": "markdown",
   "id": "8ff666f6-260d-4180-8d57-3f1c3005a512",
   "metadata": {},
   "source": [
    "A dataset’s transform is an affine transformation matrix that maps pixel locations in (row, col) coordinates to (x, y) spatial positions. The product of this matrix and (0, 0), the row and column coordinates of the upper left corner of the dataset, is the spatial position of the upper left corner."
   ]
  },
  {
   "cell_type": "code",
   "execution_count": null,
   "id": "56cb549a-11ad-4f32-a2e9-6c54b118adc7",
   "metadata": {},
   "outputs": [],
   "source": [
    "dataset.transform * (0, 0)"
   ]
  },
  {
   "cell_type": "markdown",
   "id": "65e753ee-bced-44a7-ac45-d33ad23c89f3",
   "metadata": {},
   "source": [
    "The position of the lower right corner:"
   ]
  },
  {
   "cell_type": "code",
   "execution_count": null,
   "id": "4502cab4-2ee5-4b78-ac16-de6a8698eb77",
   "metadata": {},
   "outputs": [],
   "source": [
    "dataset.transform * (dataset.width, dataset.height)"
   ]
  },
  {
   "cell_type": "markdown",
   "id": "e6dc7f0a-153c-4217-a798-bb50eebd6378",
   "metadata": {},
   "source": [
    "Coordinate reference system"
   ]
  },
  {
   "cell_type": "code",
   "execution_count": null,
   "id": "bbabb7a7-fd2a-4004-bc96-ee9698017d02",
   "metadata": {},
   "outputs": [],
   "source": [
    "dataset.crs"
   ]
  },
  {
   "cell_type": "markdown",
   "id": "395204ce-8de0-43ff-a15c-9d0c8d6ee27e",
   "metadata": {},
   "source": [
    "## Reading data to NumPy array"
   ]
  },
  {
   "cell_type": "markdown",
   "id": "5121ec3c-ecda-4ab5-b5e7-d7a8811a82ae",
   "metadata": {},
   "source": [
    "Data from a raster band can be accessed by the band’s index number. Following the GDAL convention, bands are indexed from 1."
   ]
  },
  {
   "cell_type": "code",
   "execution_count": null,
   "id": "6b12f075-10a0-4327-b68b-a9e27cf8adee",
   "metadata": {},
   "outputs": [],
   "source": [
    "dataset.indexes"
   ]
  },
  {
   "cell_type": "code",
   "execution_count": null,
   "id": "27155c05-a6ae-4297-a66a-6ba82b3b4e0d",
   "metadata": {},
   "outputs": [],
   "source": [
    "band1 = dataset.read(1)\n",
    "band1"
   ]
  },
  {
   "cell_type": "code",
   "execution_count": null,
   "id": "f060bc8a-8f85-47cd-b2be-c5eac877363f",
   "metadata": {},
   "outputs": [],
   "source": [
    "type(band1)"
   ]
  },
  {
   "cell_type": "code",
   "execution_count": null,
   "id": "b0f66329-23c6-4610-a848-89e8497234e2",
   "metadata": {},
   "outputs": [],
   "source": [
    "band1.shape"
   ]
  },
  {
   "cell_type": "code",
   "execution_count": null,
   "id": "a228f6c8-2d3e-42d8-ad8e-eb046a285ead",
   "metadata": {},
   "outputs": [],
   "source": [
    "band1.ndim"
   ]
  },
  {
   "cell_type": "code",
   "execution_count": null,
   "id": "fdefe8ec-2ae1-4f77-9243-c3b50036937e",
   "metadata": {},
   "outputs": [],
   "source": [
    "band1.dtype"
   ]
  },
  {
   "cell_type": "markdown",
   "id": "cf8d0ccf-a1cb-42cb-9bdd-d18b129663a2",
   "metadata": {},
   "source": [
    "Band statistics"
   ]
  },
  {
   "cell_type": "code",
   "execution_count": null,
   "id": "e05e0d45-d195-4094-a338-043045815d1e",
   "metadata": {},
   "outputs": [],
   "source": [
    "bands = dataset.read()\n",
    "i = 1\n",
    "for band in bands:\n",
    "    print(f\"band {i}\")\n",
    "    print({\n",
    "       'min': band.min(),\n",
    "       'mean': band.mean(),\n",
    "       'median': np.median(band),\n",
    "       'max': band.max()})\n",
    "    i += 1"
   ]
  },
  {
   "cell_type": "markdown",
   "id": "2034d80f-b871-4169-b910-4c4a6d7322c4",
   "metadata": {},
   "source": [
    "## Calucation\n",
    "\n",
    "Calculate NDVI"
   ]
  },
  {
   "cell_type": "code",
   "execution_count": null,
   "id": "dad12edb-6972-42fb-b5d8-ba85023914ab",
   "metadata": {},
   "outputs": [],
   "source": [
    "np.seterr(divide='ignore', invalid='ignore')\n",
    "\n",
    "red = dataset.read(3).astype(float)\n",
    "nir = dataset.read(4).astype(float)\n",
    "\n",
    "ndvi = (nir - red) / (nir+red)"
   ]
  },
  {
   "cell_type": "markdown",
   "id": "2e52c2e9-d307-454e-a3ec-f2f01d4d03fc",
   "metadata": {},
   "source": [
    "Save NDVI into a new raster"
   ]
  },
  {
   "cell_type": "code",
   "execution_count": null,
   "id": "b25f5ce0-1963-4f6a-b616-877fcca53327",
   "metadata": {},
   "outputs": [],
   "source": [
    "ndvi_file = rasterio.open('ndvi.tiff','w',driver='Gtiff',\n",
    "                         width=dataset.width, height=dataset.height,\n",
    "                         count=1,\n",
    "                         crs=dataset.crs,\n",
    "                         transform=dataset.transform,\n",
    "                         dtype=str(ndvi.dtype)\n",
    "                         )\n",
    "ndvi_file.write(ndvi, 1)\n",
    "ndvi_file.close()"
   ]
  },
  {
   "cell_type": "code",
   "execution_count": null,
   "id": "489a3abe-9a3f-4664-8e20-0eb691bfa18a",
   "metadata": {},
   "outputs": [],
   "source": [
    "src = rasterio.open(r\"ndvi.tiff\", count=3)\n",
    "plot.show(src)"
   ]
  },
  {
   "cell_type": "markdown",
   "id": "20c4aef9-f558-4523-b2a5-14a69ae57624",
   "metadata": {},
   "source": [
    "## Close a dataset"
   ]
  },
  {
   "cell_type": "code",
   "execution_count": null,
   "id": "f08f3339-bddd-402b-9369-fe673d4e50b7",
   "metadata": {},
   "outputs": [],
   "source": [
    "dataset.close()"
   ]
  },
  {
   "cell_type": "markdown",
   "id": "0e9f7498-e7d0-4a27-b831-8d15b1f75f84",
   "metadata": {
    "tags": []
   },
   "source": [
    "## Using functions"
   ]
  },
  {
   "cell_type": "markdown",
   "id": "b4f1d813-f63d-4e3d-a61d-f880ae04d536",
   "metadata": {},
   "source": [
    "Several functions\n",
    "- Warp\n",
    "- Calc\n",
    "- Transform\n",
    "- Clip\n",
    "- Merge\n",
    "- Mask\n",
    "- Sample"
   ]
  },
  {
   "cell_type": "markdown",
   "id": "e92db750-a35c-404d-97a2-9bdc4fe4d788",
   "metadata": {},
   "source": [
    "# Geospatials Libraries"
   ]
  },
  {
   "cell_type": "markdown",
   "id": "988b4a87-7fbb-49f9-8584-a9a7f25bc25a",
   "metadata": {},
   "source": [
    "# Rasterio\n",
    "\n",
    "Geographic information systems use GeoTIFF and other formats to organize and store gridded raster datasets such as satellite imagery and terrain models. [**Rasterio**](https://rasterio.readthedocs.io/en/latest/) reads and writes these formats and provides a Python API based on Numpy N-dimensional arrays and GeoJSON"
   ]
  },
  {
   "cell_type": "markdown",
   "id": "99e33ecf-afae-4a0d-abd3-6e735d150bc0",
   "metadata": {},
   "source": [
    "## Rioxarray\n",
    "\n",
    "[**rioxarray**](https://corteva.github.io/rioxarray/stable/index.html#) It supports multidimensional datasets such as **netCDF**"
   ]
  },
  {
   "cell_type": "markdown",
   "id": "1ac7142a-9a67-430e-98d1-562dea6eec85",
   "metadata": {
    "jp-MarkdownHeadingCollapsed": true,
    "tags": []
   },
   "source": [
    "# Scikit-image\n",
    "\n",
    "[scikit-image](https://scikit-image.org/) is a collection of algorithms for image processing"
   ]
  },
  {
   "cell_type": "markdown",
   "id": "cd2dd4b7-66bc-45f9-bc62-82f14ada7409",
   "metadata": {},
   "source": [
    "# OpenCV\n",
    "\n",
    "To detect edges in a image, one can use [OpenCV](https://opencv.org) instead of scikit image.\n",
    "\n",
    "OpenCV is an open source, cross-platform library that includes hundreds of computer vision algorithm. It is much more complex than scikit image, but is mentioned here for reference."
   ]
  },
  {
   "cell_type": "markdown",
   "id": "684d0676-ea19-48ad-a438-d6e7373f1c4b",
   "metadata": {},
   "source": []
  },
  {
   "cell_type": "markdown",
   "id": "30da4003-99cc-4267-ad40-be3d46763dd8",
   "metadata": {},
   "source": [
    "# Numba\n",
    "\n",
    "[**Numba**](http://numba.pydata.org/) is an open source JIT compiler that translates a subset of Python and NumPy code into fast machine code. Numba-compiled numerical algorithm in Python can approach the speeds of C or Fortran.\n",
    "\n",
    "You don't need to replace the Python interpreter, run a separate compilation step, or even have a C/C++ compiler installed. Just apply one of the Numba decorators to your Python function, and Numba does the rest. \n",
    "\n",
    "Numba's performance depends on what your code looks like, if your code is numerically orientated (does a lot of math), uses NumPy a lot and/or has a lot of loops, then Numba is often a good choice."
   ]
  },
  {
   "cell_type": "code",
   "execution_count": null,
   "id": "b2666100-d093-4712-b8e8-4c497dd38dec",
   "metadata": {},
   "outputs": [],
   "source": []
  }
 ],
 "metadata": {
  "kernelspec": {
   "display_name": "Python 3 (ipykernel)",
   "language": "python",
   "name": "python3"
  },
  "language_info": {
   "codemirror_mode": {
    "name": "ipython",
    "version": 3
   },
   "file_extension": ".py",
   "mimetype": "text/x-python",
   "name": "python",
   "nbconvert_exporter": "python",
   "pygments_lexer": "ipython3",
   "version": "3.9.12"
  }
 },
 "nbformat": 4,
 "nbformat_minor": 5
}
