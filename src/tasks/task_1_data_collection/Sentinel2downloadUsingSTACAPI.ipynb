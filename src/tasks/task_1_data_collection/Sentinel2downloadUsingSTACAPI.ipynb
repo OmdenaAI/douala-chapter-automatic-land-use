{
  "nbformat": 4,
  "nbformat_minor": 0,
  "metadata": {
    "colab": {
      "provenance": []
    },
    "kernelspec": {
      "name": "python3",
      "display_name": "Python 3"
    },
    "language_info": {
      "name": "python"
    }
  },
  "cells": [
    {
      "cell_type": "code",
      "execution_count": null,
      "metadata": {
        "id": "89xdhCrQYljG"
      },
      "outputs": [],
      "source": []
    },
    {
      "cell_type": "code",
      "source": [
        "# Import necessary libraries\n",
        "\n",
        "import requests\n",
        "import json"
      ],
      "metadata": {
        "id": "DL84LtPl3kUx"
      },
      "execution_count": 3,
      "outputs": []
    },
    {
      "cell_type": "code",
      "source": [
        "# Define the STAC API endpoint\n",
        "endpoint = 'https://earth-search.aws.element84.com/v0'"
      ],
      "metadata": {
        "id": "4tjOUYVp3kZf"
      },
      "execution_count": 4,
      "outputs": []
    },
    {
      "cell_type": "code",
      "source": [
        "# Define the collection ID for Sentinel-2 L2A data\n",
        "collection_id = 'sentinel-s2-l2a-cogs'"
      ],
      "metadata": {
        "id": "w0FtZ6-u3kbZ"
      },
      "execution_count": 5,
      "outputs": []
    },
    {
      "cell_type": "code",
      "source": [
        "# Define the start and end date range for the data\n",
        "start_date = '2021-01-01'\n",
        "end_date = '2021-12-31'"
      ],
      "metadata": {
        "id": "QVkHhYvP3kev"
      },
      "execution_count": 6,
      "outputs": []
    },
    {
      "cell_type": "code",
      "source": [
        "# Load the GeoJSON file containing the area of interest\n",
        "with open('/content/littoral_outline.geojson') as f:\n",
        "    area_of_interest = json.load(f)\n"
      ],
      "metadata": {
        "id": "6mHqz8SU4Y4Y"
      },
      "execution_count": 10,
      "outputs": []
    },
    {
      "cell_type": "code",
      "source": [
        "# Extract the geometry from the GeoJSON file\n",
        "if area_of_interest['type'] == 'Feature':\n",
        "    geometry = area_of_interest['geometry']\n",
        "elif area_of_interest['type'] == 'FeatureCollection':\n",
        "    geometry = area_of_interest['features'][0]['geometry']\n",
        "else:\n",
        "    geometry = area_of_interest\n"
      ],
      "metadata": {
        "id": "C5cKh6JR4Y8Y"
      },
      "execution_count": 11,
      "outputs": []
    },
    {
      "cell_type": "code",
      "source": [
        "# Define the search parameters\n",
        "search_params = {\n",
        "    'collections': [collection_id],\n",
        "    'datetime': f'{start_date}/{end_date}',\n",
        "    'intersects': geometry\n",
        "}\n"
      ],
      "metadata": {
        "id": "jqDkPsUk4ZBW"
      },
      "execution_count": 12,
      "outputs": []
    },
    {
      "cell_type": "code",
      "source": [
        "# Search for items using the STAC API\n",
        "search_url = f'{endpoint}/search'\n",
        "search_response = requests.post(search_url, json=search_params)\n",
        "search_results = search_response.json()"
      ],
      "metadata": {
        "id": "REG2FEmY5QSp"
      },
      "execution_count": 13,
      "outputs": []
    },
    {
      "cell_type": "code",
      "source": [
        "# Filter for cloudless images\n",
        "cloudless_items = []\n",
        "for item in search_results['features']:\n",
        "    # Check if the item has a 'eo:cloud_cover' property and it is less than 10%\n",
        "    if 'eo:cloud_cover' in item['properties'] and item['properties']['eo:cloud_cover'] < 10:\n",
        "        # Append the item to the list of cloudless items\n",
        "        cloudless_items.append(item)"
      ],
      "metadata": {
        "id": "MaGxcq_-5QWy"
      },
      "execution_count": 22,
      "outputs": []
    },
    {
      "cell_type": "code",
      "source": [
        "# Print the number of cloudless items found\n",
        "print(f'Number of cloudless items found: {len(cloudless_items)}')"
      ],
      "metadata": {
        "colab": {
          "base_uri": "https://localhost:8080/"
        },
        "id": "Rh7fa2U85QaN",
        "outputId": "035f8bc2-9a57-479d-a38f-9ae473b29a40"
      },
      "execution_count": 23,
      "outputs": [
        {
          "output_type": "stream",
          "name": "stdout",
          "text": [
            "Number of cloudless items found: 2\n"
          ]
        }
      ]
    },
    {
      "cell_type": "code",
      "source": [
        "# Download the cloudless images\n",
        "for item in cloudless_items:\n",
        "    # Get the asset URL for the RGB image\n",
        "    asset_url = item['assets']['visual']['href']\n",
        "    \n",
        "    # Download the image\n",
        "    r = requests.get(asset_url, allow_redirects=True)\n",
        "    filename = f'{item[\"id\"]}.tif'\n",
        "    open(filename, 'wb').write(r.content)\n",
        "    print(f'Downloaded: {filename}')"
      ],
      "metadata": {
        "colab": {
          "base_uri": "https://localhost:8080/"
        },
        "id": "taGy7yQP5Qdz",
        "outputId": "58ad9b97-366d-4f03-b616-dbe5643cb4f4"
      },
      "execution_count": 25,
      "outputs": [
        {
          "output_type": "stream",
          "name": "stdout",
          "text": [
            "Downloaded: S2A_32NNK_20211230_0_L2A.tif\n",
            "Downloaded: S2A_32NNL_20211230_0_L2A.tif\n"
          ]
        }
      ]
    }
  ]
}