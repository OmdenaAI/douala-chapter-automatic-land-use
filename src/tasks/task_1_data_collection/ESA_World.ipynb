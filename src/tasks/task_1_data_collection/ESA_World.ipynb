{
 "cells": [
  {
   "cell_type": "code",
   "execution_count": 1,
   "metadata": {},
   "outputs": [],
   "source": [
    "import numpy as np\n",
    "import matplotlib\n",
    "import matplotlib.pyplot as plt \n",
    "import folium\n",
    "import plotly_express as px\n",
    "import os\n",
    "import warnings\n",
    "import json\n",
    "from datetime import datetime, date\n",
    "import os\n",
    "import shapefile\n",
    "from shapely.geometry import box\n",
    "from datetime import datetime as dt\n",
    "import pyproj\n",
    "import rasterio\n",
    "from rasterio.mask import mask\n",
    "from shapely.ops import transform\n",
    "from rasterio.io import MemoryFile\n",
    "import earthpy.plot as ep\n",
    "from folium import Map, GeoJson, Figure\n",
    "import rioxarray as rxr\n",
    "import rasterio as rio\n",
    "import yaml\n",
    "# open shape files for Cameroon\n",
    "import geopandas as gpd"
   ]
  },
  {
   "cell_type": "code",
   "execution_count": null,
   "metadata": {},
   "outputs": [],
   "source": [
    "# Open filefor credentials\n",
    "PATH = '/Users/noeliaotero/Documents/Geo_analysis/'\n",
    "# Read YAML file\n",
    "with open(PATH + \"config_sentinel.yml\", 'r') as stream:\n",
    "    s_conf = yaml.safe_load(stream)"
   ]
  },
  {
   "cell_type": "code",
   "execution_count": null,
   "metadata": {},
   "outputs": [],
   "source": [
    "PATH_DATA='/Users/noeliaotero/Documents/Geo_analysis/ESA_WorldCover'"
   ]
  },
  {
   "cell_type": "code",
   "execution_count": null,
   "metadata": {},
   "outputs": [],
   "source": [
    "gdf = gpd.read_file(s_conf['footprint_file'])\n",
    "# Set the crs to EPSG 4326 in case of our data is in aonther crs\n",
    "gdf  = gdf.to_crs(\"EPSG:4326\")\n",
    "# Get AOI bounds\n",
    "bbox_aoi = gdf.geometry.total_bounds\n",
    "# Get AOI centroid for plotting with folium\n",
    "centroid_aoi = [box(*bbox_aoi).centroid.x, box(*bbox_aoi).centroid.y]\n",
    "print(bbox_aoi)"
   ]
  },
  {
   "cell_type": "code",
   "execution_count": null,
   "metadata": {},
   "outputs": [],
   "source": [
    "from pystac_client import Client\n",
    "\n",
    "\n",
    "stac_endopoint = 'https://services.terrascope.be/stac/'\n",
    "\n",
    "# collection ids for both maps in the Terrascope STAC Catalogue\n",
    "collection_ids = {2020: 'urn:eop:VITO:ESA_WorldCover_10m_2020_AWS_V1',\n",
    "                  2021: 'urn:eop:VITO:ESA_WorldCover_10m_2021_AWS_V2'}\n",
    "\n",
    "# WSG84 coordinates of Doula are 4.051056, 9.767869, so I select values around (BUT I should change this!!!) \n",
    "# If I use a bigger area , the img is quite to process...\n",
    "#bbox = [4.051056, 9.767869, 4.551056, 10.267869]\n",
    "bbox = [ 9.31913445,  3.24366734, 11.09441400, 5.351516026]\n",
    "\n",
    "\n",
    "\n",
    "\n",
    "client = Client.open(stac_endopoint)\n",
    "\n",
    "# Let's query products for the 2021 map \n",
    "year = 2021\n",
    "search_results = client.search(\n",
    "    collections=[collection_ids[year]],\n",
    "    bbox=list(bbox)\n",
    ")\n",
    "\n",
    "# Search results fetched and represented as dictionary\n",
    "results = search_results.get_all_items()\n",
    "# results.to_dict()"
   ]
  },
  {
   "cell_type": "code",
   "execution_count": null,
   "metadata": {},
   "outputs": [],
   "source": [
    "# there is only 1 tile\n",
    "item = results[0]\n",
    "\n",
    "# retrieve the s3 path from the item\n",
    "s3uri = item.assets['ESA_WORLDCOVER_10M_MAP'].href\n",
    "s3uri"
   ]
  },
  {
   "cell_type": "code",
   "execution_count": null,
   "metadata": {},
   "outputs": [],
   "source": [
    "from labels import *\n",
    "import os\n",
    "from rio_tiler.io import STACReader\n",
    "\n",
    "# this is to tell GDAL we do not need authentication\n",
    "os.environ['AWS_NO_SIGN_REQUEST'] = 'YES'\n",
    "\n",
    "# name of the map asset\n",
    "asset = 'ESA_WORLDCOVER_10M_MAP'\n",
    "\n",
    "with STACReader(None, item=item) as stac:\n",
    "    img = stac.part(bbox, assets=asset)"
   ]
  },
  {
   "cell_type": "code",
   "execution_count": null,
   "metadata": {},
   "outputs": [],
   "source": [
    "import matplotlib.pyplot as plt\n",
    "\n",
    "rgb_data = label_to_rgb(img.data[0])\n",
    "fig, ax = plt.subplots()\n",
    "ax.imshow(rgb_data)"
   ]
  },
  {
   "cell_type": "code",
   "execution_count": null,
   "metadata": {},
   "outputs": [],
   "source": [
    "values, occurences = np.unique(img.data[0], return_counts=True)\n",
    "\n",
    "\n",
    "occurences = occurences / occurences.sum() * 100\n",
    "label_names = [legend_dict[val] for val in values]\n",
    "values_colors = label_to_rgb(values.reshape(-1, 1)).squeeze()\n",
    "\n",
    "\n",
    "fix, ax = plt.subplots(figsize=(8, 6))\n",
    "ax.bar(x=label_names[1:], height=occurences[1:], color=values_colors[1:], width=0.6)\n",
    "ax.set_title('\\nLand cover representation of the region around Douala')\n",
    "ax.set\n",
    "ax.set_ylabel('Coverage (%)')\n",
    "plt.xticks(rotation=45, ha='right')\n",
    "fig.show()"
   ]
  },
  {
   "cell_type": "markdown",
   "metadata": {},
   "source": [
    "### Save data to disk"
   ]
  },
  {
   "cell_type": "code",
   "execution_count": null,
   "metadata": {},
   "outputs": [],
   "source": [
    "import rioxarray\n",
    "esa_wc_2021 = rioxarray.open_rasterio(s3uri)\n",
    "esa_wc_2021.rio.to_raster(\"ESA_WC_2021.tif\")"
   ]
  }
 ],
 "metadata": {
  "kernelspec": {
   "display_name": "Python 3 (ipykernel)",
   "language": "python",
   "name": "python3"
  },
  "language_info": {
   "codemirror_mode": {
    "name": "ipython",
    "version": 3
   },
   "file_extension": ".py",
   "mimetype": "text/x-python",
   "name": "python",
   "nbconvert_exporter": "python",
   "pygments_lexer": "ipython3",
   "version": "3.9.12"
  }
 },
 "nbformat": 4,
 "nbformat_minor": 4
}
