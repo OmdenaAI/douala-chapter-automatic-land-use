{
 "cells": [
  {
   "cell_type": "markdown",
   "id": "f3245c31-5f43-4eb0-abc1-c6de7ffb9f23",
   "metadata": {},
   "source": [
    "# Access and visualization of EO Data on the Cloud (COGS)"
   ]
  },
  {
   "cell_type": "markdown",
   "id": "51b489a5-3119-4242-8bab-b9883958c4e0",
   "metadata": {},
   "source": [
    "**Purpose** : \n",
    ">Connect to an EO data catalog by using a [SpatioTemporal Asset Catalog (STAC)](https://stacspec.org/) client in Python.\\\n",
    ">Search for data products for a specific region and time period.\\\n",
    ">Display the boundaries of the available scenes\\\n",
    ">Get an overview of the actual images\\\n",
    ">Save band image."
   ]
  },
  {
   "cell_type": "markdown",
   "id": "544803e6-e609-4786-a20c-7c4fce3f37f3",
   "metadata": {},
   "source": [
    "<hr/> \n",
    "\n",
    "## 1-import required libraries"
   ]
  },
  {
   "cell_type": "code",
   "execution_count": 4,
   "id": "4bbae22a-a63a-4dea-81e5-54a9666f7233",
   "metadata": {},
   "outputs": [],
   "source": [
    "# Import necessary packages\n",
    "import os \n",
    "#import cv2\n",
    "from datetime import date\n",
    "import json\n",
    "import itertools\n",
    "import geopandas as gpd\n",
    "import rasterio\n",
    "import matplotlib.pyplot as plt\n",
    "import numpy as np\n",
    "from sentinelsat import SentinelAPI, read_geojson, geojson_to_wkt\n",
    "from sentinelhub import pixel_to_utm, utm_to_pixel\n",
    "import utm\n",
    "import pandas as pd\n",
    "from shapely.geometry import box\n",
    "from rasterio.mask import mask\n",
    "from pystac_client import Client\n",
    "import shapely.geometry\n",
    "import shapely.wkt\n",
    "import folium\n",
    "import shapely.geometry\n",
    "#from odc.algo import to_rgba\n",
    "import earthpy.spatial as es\n",
    "import earthpy.plot as ep\n",
    "import rioxarray\n",
    "#import contextily as ctx "
   ]
  },
  {
   "cell_type": "markdown",
   "id": "495583b0-23d3-4471-96c9-5775ba8899b6",
   "metadata": {},
   "source": [
    "<hr/> \n",
    "\n",
    "## 2-Set the AOI"
   ]
  },
  {
   "cell_type": "code",
   "execution_count": 10,
   "id": "bbf00773-9cb3-4cfe-8583-ba2405a72331",
   "metadata": {},
   "outputs": [],
   "source": [
    "#Set the path to data\n",
    "aoi_dir = \"../../data/aoi\"\n",
    "aoi_file = \"littoral_outline.geojson\"\n",
    "aoi_path = os.path.join(aoi_dir , aoi_file )"
   ]
  },
  {
   "cell_type": "code",
   "execution_count": 11,
   "id": "5ff0fdc2",
   "metadata": {},
   "outputs": [],
   "source": [
    "assert os.path.exists(aoi_path), f'{aoi_path}'"
   ]
  },
  {
   "cell_type": "code",
   "execution_count": 12,
   "id": "ac1aa3e0-96d5-4687-ace1-1ba468ed3c8b",
   "metadata": {},
   "outputs": [
    {
     "data": {
      "text/plain": [
       "'../../data/aoi/littoral_outline.geojson'"
      ]
     },
     "execution_count": 12,
     "metadata": {},
     "output_type": "execute_result"
    }
   ],
   "source": [
    "aoi_path"
   ]
  },
  {
   "cell_type": "code",
   "execution_count": 101,
   "id": "2168d588-ebdb-4f4c-9ca5-ee6eb863ae3a",
   "metadata": {},
   "outputs": [],
   "source": [
    "def get_bounds_of_AoI(obj_aoi, offset):\n",
    "    \n",
    "    aoi = gpd.read_file(obj_aoi)\n",
    "    \n",
    "    bounds = aoi.total_bounds\n",
    "    #offset = 1/60  #200m in degree\n",
    "    # Extend the bounding box by 200 m\n",
    "    minx, miny = bounds[0]-offset, bounds[1]-offset\n",
    "    maxx, maxy = bounds[2]+offset, bounds[3]+offset\n",
    "\n",
    "    bbox = box(minx, miny, maxx, maxy)\n",
    "    \n",
    "    print(bbox)\n",
    "\n",
    "    geo = gpd.GeoDataFrame({'geometry': bbox}, index=[0], crs=\"EPSG:4326\")\n",
    "\n",
    "    \n",
    "    return  geo"
   ]
  },
  {
   "cell_type": "code",
   "execution_count": 102,
   "id": "e8e936e4-39fd-4921-90bb-9556f1d7b6b7",
   "metadata": {},
   "outputs": [
    {
     "name": "stdout",
     "output_type": "stream",
     "text": [
      "POLYGON ((11.094414006666668 3.243667343333333, 11.094414006666668 5.351516026666666, 9.319134458233293 5.351516026666666, 9.319134458233293 3.243667343333333, 11.094414006666668 3.243667343333333))\n"
     ]
    }
   ],
   "source": [
    "#offset = 1/60  #200m in degree\n",
    "bbx = get_bounds_of_AoI(aoi_path, 1/60)\n",
    "aoi = gpd.read_file(aoi_path)"
   ]
  },
  {
   "cell_type": "code",
   "execution_count": 103,
   "id": "abfb908f-b519-4d81-902f-a1343f82344f",
   "metadata": {
    "scrolled": true
   },
   "outputs": [
    {
     "data": {
      "text/html": [
       "<div style=\"width:100%;\"><div style=\"position:relative;width:100%;height:0;padding-bottom:60%;\"><span style=\"color:#565656\">Make this Notebook Trusted to load map: File -> Trust Notebook</span><iframe srcdoc=\"&lt;!DOCTYPE html&gt;\n",
       "&lt;html&gt;\n",
       "&lt;head&gt;\n",
       "    \n",
       "    &lt;meta http-equiv=&quot;content-type&quot; content=&quot;text/html; charset=UTF-8&quot; /&gt;\n",
       "    \n",
       "        &lt;script&gt;\n",
       "            L_NO_TOUCH = false;\n",
       "            L_DISABLE_3D = false;\n",
       "        &lt;/script&gt;\n",
       "    \n",
       "    &lt;style&gt;html, body {width: 100%;height: 100%;margin: 0;padding: 0;}&lt;/style&gt;\n",
       "    &lt;style&gt;#map {position:absolute;top:0;bottom:0;right:0;left:0;}&lt;/style&gt;\n",
       "    &lt;script src=&quot;https://cdn.jsdelivr.net/npm/leaflet@1.6.0/dist/leaflet.js&quot;&gt;&lt;/script&gt;\n",
       "    &lt;script src=&quot;https://code.jquery.com/jquery-1.12.4.min.js&quot;&gt;&lt;/script&gt;\n",
       "    &lt;script src=&quot;https://maxcdn.bootstrapcdn.com/bootstrap/3.2.0/js/bootstrap.min.js&quot;&gt;&lt;/script&gt;\n",
       "    &lt;script src=&quot;https://cdnjs.cloudflare.com/ajax/libs/Leaflet.awesome-markers/2.0.2/leaflet.awesome-markers.js&quot;&gt;&lt;/script&gt;\n",
       "    &lt;link rel=&quot;stylesheet&quot; href=&quot;https://cdn.jsdelivr.net/npm/leaflet@1.6.0/dist/leaflet.css&quot;/&gt;\n",
       "    &lt;link rel=&quot;stylesheet&quot; href=&quot;https://maxcdn.bootstrapcdn.com/bootstrap/3.2.0/css/bootstrap.min.css&quot;/&gt;\n",
       "    &lt;link rel=&quot;stylesheet&quot; href=&quot;https://maxcdn.bootstrapcdn.com/bootstrap/3.2.0/css/bootstrap-theme.min.css&quot;/&gt;\n",
       "    &lt;link rel=&quot;stylesheet&quot; href=&quot;https://maxcdn.bootstrapcdn.com/font-awesome/4.6.3/css/font-awesome.min.css&quot;/&gt;\n",
       "    &lt;link rel=&quot;stylesheet&quot; href=&quot;https://cdnjs.cloudflare.com/ajax/libs/Leaflet.awesome-markers/2.0.2/leaflet.awesome-markers.css&quot;/&gt;\n",
       "    &lt;link rel=&quot;stylesheet&quot; href=&quot;https://cdn.jsdelivr.net/gh/python-visualization/folium/folium/templates/leaflet.awesome.rotate.min.css&quot;/&gt;\n",
       "    \n",
       "            &lt;meta name=&quot;viewport&quot; content=&quot;width=device-width,\n",
       "                initial-scale=1.0, maximum-scale=1.0, user-scalable=no&quot; /&gt;\n",
       "            &lt;style&gt;\n",
       "                #map_60430e2c7eda0f097de4f0b09ad894e9 {\n",
       "                    position: relative;\n",
       "                    width: 100.0%;\n",
       "                    height: 100.0%;\n",
       "                    left: 0.0%;\n",
       "                    top: 0.0%;\n",
       "                }\n",
       "            &lt;/style&gt;\n",
       "        \n",
       "    \n",
       "                    &lt;style&gt;\n",
       "                        .foliumtooltip {\n",
       "                            \n",
       "                        }\n",
       "                       .foliumtooltip table{\n",
       "                            margin: auto;\n",
       "                        }\n",
       "                        .foliumtooltip tr{\n",
       "                            text-align: left;\n",
       "                        }\n",
       "                        .foliumtooltip th{\n",
       "                            padding: 2px; padding-right: 8px;\n",
       "                        }\n",
       "                    &lt;/style&gt;\n",
       "            \n",
       "&lt;/head&gt;\n",
       "&lt;body&gt;\n",
       "    \n",
       "    \n",
       "            &lt;div class=&quot;folium-map&quot; id=&quot;map_60430e2c7eda0f097de4f0b09ad894e9&quot; &gt;&lt;/div&gt;\n",
       "        \n",
       "&lt;/body&gt;\n",
       "&lt;script&gt;\n",
       "    \n",
       "    \n",
       "            var map_60430e2c7eda0f097de4f0b09ad894e9 = L.map(\n",
       "                &quot;map_60430e2c7eda0f097de4f0b09ad894e9&quot;,\n",
       "                {\n",
       "                    center: [4.2975916849999996, 10.20677423244998],\n",
       "                    crs: L.CRS.EPSG3857,\n",
       "                    zoom: 10,\n",
       "                    zoomControl: true,\n",
       "                    preferCanvas: false,\n",
       "                }\n",
       "            );\n",
       "            L.control.scale().addTo(map_60430e2c7eda0f097de4f0b09ad894e9);\n",
       "\n",
       "            \n",
       "\n",
       "        \n",
       "    \n",
       "            var tile_layer_13c4649a41abbcfa69f35bbae9c16a79 = L.tileLayer(\n",
       "                &quot;https://{s}.tile.openstreetmap.org/{z}/{x}/{y}.png&quot;,\n",
       "                {&quot;attribution&quot;: &quot;Data by \\u0026copy; \\u003ca href=\\&quot;http://openstreetmap.org\\&quot;\\u003eOpenStreetMap\\u003c/a\\u003e, under \\u003ca href=\\&quot;http://www.openstreetmap.org/copyright\\&quot;\\u003eODbL\\u003c/a\\u003e.&quot;, &quot;detectRetina&quot;: false, &quot;maxNativeZoom&quot;: 18, &quot;maxZoom&quot;: 18, &quot;minZoom&quot;: 0, &quot;noWrap&quot;: false, &quot;opacity&quot;: 1, &quot;subdomains&quot;: &quot;abc&quot;, &quot;tms&quot;: false}\n",
       "            ).addTo(map_60430e2c7eda0f097de4f0b09ad894e9);\n",
       "        \n",
       "    \n",
       "            map_60430e2c7eda0f097de4f0b09ad894e9.fitBounds(\n",
       "                [[3.243667343333333, 9.319134458233293], [5.351516026666666, 11.094414006666668]],\n",
       "                {}\n",
       "            );\n",
       "        \n",
       "    \n",
       "        function geo_json_33a7ed78bf3ad6e47c1355f58a735d5d_styler(feature) {\n",
       "            switch(feature.id) {\n",
       "                default:\n",
       "                    return {&quot;fillOpacity&quot;: 0.5, &quot;weight&quot;: 2};\n",
       "            }\n",
       "        }\n",
       "        function geo_json_33a7ed78bf3ad6e47c1355f58a735d5d_highlighter(feature) {\n",
       "            switch(feature.id) {\n",
       "                default:\n",
       "                    return {&quot;fillOpacity&quot;: 0.75};\n",
       "            }\n",
       "        }\n",
       "        function geo_json_33a7ed78bf3ad6e47c1355f58a735d5d_pointToLayer(feature, latlng) {\n",
       "            var opts = {&quot;bubblingMouseEvents&quot;: true, &quot;color&quot;: &quot;#3388ff&quot;, &quot;dashArray&quot;: null, &quot;dashOffset&quot;: null, &quot;fill&quot;: true, &quot;fillColor&quot;: &quot;#3388ff&quot;, &quot;fillOpacity&quot;: 0.2, &quot;fillRule&quot;: &quot;evenodd&quot;, &quot;lineCap&quot;: &quot;round&quot;, &quot;lineJoin&quot;: &quot;round&quot;, &quot;opacity&quot;: 1.0, &quot;radius&quot;: 2, &quot;stroke&quot;: true, &quot;weight&quot;: 3};\n",
       "            \n",
       "            let style = geo_json_33a7ed78bf3ad6e47c1355f58a735d5d_styler(feature)\n",
       "            Object.assign(opts, style)\n",
       "            \n",
       "            return new L.CircleMarker(latlng, opts)\n",
       "        }\n",
       "\n",
       "        function geo_json_33a7ed78bf3ad6e47c1355f58a735d5d_onEachFeature(feature, layer) {\n",
       "            layer.on({\n",
       "                mouseout: function(e) {\n",
       "                    if(typeof e.target.setStyle === &quot;function&quot;){\n",
       "                        geo_json_33a7ed78bf3ad6e47c1355f58a735d5d.resetStyle(e.target);\n",
       "                    }\n",
       "                },\n",
       "                mouseover: function(e) {\n",
       "                    if(typeof e.target.setStyle === &quot;function&quot;){\n",
       "                        const highlightStyle = geo_json_33a7ed78bf3ad6e47c1355f58a735d5d_highlighter(e.target.feature)\n",
       "                        e.target.setStyle(highlightStyle);\n",
       "                    }\n",
       "                },\n",
       "            });\n",
       "        };\n",
       "        var geo_json_33a7ed78bf3ad6e47c1355f58a735d5d = L.geoJson(null, {\n",
       "                onEachFeature: geo_json_33a7ed78bf3ad6e47c1355f58a735d5d_onEachFeature,\n",
       "            \n",
       "                style: geo_json_33a7ed78bf3ad6e47c1355f58a735d5d_styler,\n",
       "                pointToLayer: geo_json_33a7ed78bf3ad6e47c1355f58a735d5d_pointToLayer\n",
       "        });\n",
       "\n",
       "        function geo_json_33a7ed78bf3ad6e47c1355f58a735d5d_add (data) {\n",
       "            geo_json_33a7ed78bf3ad6e47c1355f58a735d5d\n",
       "                .addData(data)\n",
       "                .addTo(map_60430e2c7eda0f097de4f0b09ad894e9);\n",
       "        }\n",
       "            geo_json_33a7ed78bf3ad6e47c1355f58a735d5d_add({&quot;bbox&quot;: [9.319134458233293, 3.243667343333333, 11.094414006666668, 5.351516026666666], &quot;features&quot;: [{&quot;bbox&quot;: [9.319134458233293, 3.243667343333333, 11.094414006666668, 5.351516026666666], &quot;geometry&quot;: {&quot;coordinates&quot;: [[[11.094414006666668, 3.243667343333333], [11.094414006666668, 5.351516026666666], [9.319134458233293, 5.351516026666666], [9.319134458233293, 3.243667343333333], [11.094414006666668, 3.243667343333333]]], &quot;type&quot;: &quot;Polygon&quot;}, &quot;id&quot;: &quot;0&quot;, &quot;properties&quot;: {}, &quot;type&quot;: &quot;Feature&quot;}], &quot;type&quot;: &quot;FeatureCollection&quot;});\n",
       "\n",
       "        \n",
       "    \n",
       "    geo_json_33a7ed78bf3ad6e47c1355f58a735d5d.bindTooltip(\n",
       "    function(layer){\n",
       "    let div = L.DomUtil.create(&#x27;div&#x27;);\n",
       "    \n",
       "    return div\n",
       "    }\n",
       "    ,{&quot;className&quot;: &quot;foliumtooltip&quot;, &quot;sticky&quot;: true});\n",
       "                     \n",
       "&lt;/script&gt;\n",
       "&lt;/html&gt;\" style=\"position:absolute;width:100%;height:100%;left:0;top:0;border:none !important;\" allowfullscreen webkitallowfullscreen mozallowfullscreen></iframe></div></div>"
      ],
      "text/plain": [
       "<folium.folium.Map at 0x1488cb940>"
      ]
     },
     "execution_count": 103,
     "metadata": {},
     "output_type": "execute_result"
    }
   ],
   "source": [
    "bbx.explore()"
   ]
  },
  {
   "cell_type": "markdown",
   "id": "6b5363ef-4547-44d2-9b9d-8abaa0cf305b",
   "metadata": {},
   "source": [
    "<hr/> \n",
    "\n",
    "## 3-Search a STAC catalog"
   ]
  },
  {
   "cell_type": "code",
   "execution_count": 78,
   "id": "ea3a8371-6cea-4947-9f27-ad1e0650eab0",
   "metadata": {},
   "outputs": [],
   "source": [
    "# STAC API endpoint\n",
    "api_url = \"https://earth-search.aws.element84.com/v0\"\n",
    "client = Client.open(api_url)\n",
    "collection = \"sentinel-s2-l2a-cogs\"  # Sentinel-2, Level 2A, COGs"
   ]
  },
  {
   "cell_type": "code",
   "execution_count": 79,
   "id": "03e9021a-eaab-4771-842d-1d52eda2ea80",
   "metadata": {},
   "outputs": [
    {
     "name": "stdout",
     "output_type": "stream",
     "text": [
      "EPSG:4326\n"
     ]
    }
   ],
   "source": [
    "print(bbx.crs)\n",
    "values = []\n",
    "for i in range(len(bbx.total_bounds)):\n",
    "    values.append(bbx.total_bounds[i])\n",
    "keys = [\"lonmin\", \"latmin\", \"lonmax\", \"latmax\"]  \n",
    "geometry = dict(zip(keys, values))"
   ]
  },
  {
   "cell_type": "code",
   "execution_count": 80,
   "id": "810fa7b6-4e21-4d4f-803d-d17771a64fd0",
   "metadata": {},
   "outputs": [
    {
     "name": "stdout",
     "output_type": "stream",
     "text": [
      "2\n"
     ]
    }
   ],
   "source": [
    "time =  [\"2021-02-01\", \"2021-02-15\"]\n",
    "search = client.search(\n",
    "    collections=[collection],\n",
    "    bbox= [ geometry[\"lonmin\"], geometry[\"latmin\"],  geometry[\"lonmax\"], geometry[\"latmax\"]],\n",
    "    datetime = [\"2023-01-01\", \"2023-01-15\"],\n",
    "    #limit=100,\n",
    "    query=[\"eo:cloud_cover<0.01\"]\n",
    ")\n",
    "print(search.matched())"
   ]
  },
  {
   "cell_type": "code",
   "execution_count": 81,
   "id": "c5a5e8ba-a95d-4fda-9df4-e784f88f8672",
   "metadata": {},
   "outputs": [],
   "source": [
    "items = search.get_all_items()\n",
    "items.save_object(\"search.json\")"
   ]
  },
  {
   "cell_type": "markdown",
   "id": "aa0eaa8a-6087-44d0-b8ce-3c7fbbe7990c",
   "metadata": {},
   "source": [
    "<hr/> \n",
    "\n",
    "## 4-Access the assets"
   ]
  },
  {
   "cell_type": "code",
   "execution_count": 83,
   "id": "f99625c3-8401-46b1-8374-e81f983627bb",
   "metadata": {},
   "outputs": [
    {
     "name": "stdout",
     "output_type": "stream",
     "text": [
      "dict_keys(['thumbnail', 'overview', 'info', 'metadata', 'visual', 'B01', 'B02', 'B03', 'B04', 'B05', 'B06', 'B07', 'B08', 'B8A', 'B09', 'B11', 'B12', 'AOT', 'WVP', 'SCL'])\n"
     ]
    }
   ],
   "source": [
    "assets = items[0].assets  # first item's asset dictionary\n",
    "print(assets.keys())"
   ]
  },
  {
   "cell_type": "code",
   "execution_count": 84,
   "id": "dad7d9ad-0b21-4815-b081-d5e99ce6cd20",
   "metadata": {},
   "outputs": [
    {
     "name": "stdout",
     "output_type": "stream",
     "text": [
      "thumbnail: Thumbnail\n",
      "overview: True color image\n",
      "info: Original JSON metadata\n",
      "metadata: Original XML metadata\n",
      "visual: True color image\n",
      "B01: Band 1 (coastal)\n",
      "B02: Band 2 (blue)\n",
      "B03: Band 3 (green)\n",
      "B04: Band 4 (red)\n",
      "B05: Band 5\n",
      "B06: Band 6\n",
      "B07: Band 7\n",
      "B08: Band 8 (nir)\n",
      "B8A: Band 8A\n",
      "B09: Band 9\n",
      "B11: Band 11 (swir16)\n",
      "B12: Band 12 (swir22)\n",
      "AOT: Aerosol Optical Thickness (AOT)\n",
      "WVP: Water Vapour (WVP)\n",
      "SCL: Scene Classification Map (SCL)\n"
     ]
    }
   ],
   "source": [
    "for key, asset in assets.items():\n",
    "    print(f\"{key}: {asset.title}\")"
   ]
  },
  {
   "cell_type": "code",
   "execution_count": 85,
   "id": "2f7b5026-665d-41eb-b312-8feb4f0f5160",
   "metadata": {},
   "outputs": [],
   "source": [
    "visual_href = assets[\"visual\"].href\n",
    "visual = rioxarray.open_rasterio(visual_href)"
   ]
  },
  {
   "cell_type": "code",
   "execution_count": 40,
   "id": "37b9e7a7-9399-4cef-a6cf-086b3c509c5c",
   "metadata": {},
   "outputs": [
    {
     "data": {
      "image/png": "[encoded data removed]",
      "text/plain": [
       "<Figure size 640x480 with 1 Axes>"
      ]
     },
     "metadata": {},
     "output_type": "display_data"
    }
   ],
   "source": [
    "#Plot the RGB composite\n",
    "f, ax = plt.subplots()\n",
    "ep.plot_rgb(visual.values,\n",
    "            rgb=[2, 1, 0],\n",
    "            title=\"RGB Composite image - satellite data\",\n",
    "                ax=ax)\n",
    "plt.show()"
   ]
  },
  {
   "cell_type": "code",
   "execution_count": null,
   "id": "7090a0e5-a774-4888-8eee-3d2e0586e3cc",
   "metadata": {},
   "outputs": [],
   "source": [
    "#Save RGB to Disk\n",
    "#visual.rio.to_raster(\"visual00.tif\")"
   ]
  },
  {
   "cell_type": "code",
   "execution_count": 105,
   "id": "fb123ccb",
   "metadata": {},
   "outputs": [
    {
     "name": "stdout",
     "output_type": "stream",
     "text": [
      "EPSG:4326\n"
     ]
    }
   ],
   "source": [
    "visual.rio.write_crs(\"epsg:4326\", inplace=True)\n",
    "\n",
    "print(visual.rio.crs)"
   ]
  },
  {
   "cell_type": "code",
   "execution_count": 106,
   "id": "aeeeef23",
   "metadata": {},
   "outputs": [
    {
     "data": {
      "image/png": "[encoded data removed]",
      "text/plain": [
       "<Figure size 640x480 with 1 Axes>"
      ]
     },
     "metadata": {},
     "output_type": "display_data"
    },
    {
     "data": {
      "text/html": [
       "<div>\n",
       "<style scoped>\n",
       "    .dataframe tbody tr th:only-of-type {\n",
       "        vertical-align: middle;\n",
       "    }\n",
       "\n",
       "    .dataframe tbody tr th {\n",
       "        vertical-align: top;\n",
       "    }\n",
       "\n",
       "    .dataframe thead th {\n",
       "        text-align: right;\n",
       "    }\n",
       "</style>\n",
       "<table border=\"1\" class=\"dataframe\">\n",
       "  <thead>\n",
       "    <tr style=\"text-align: right;\">\n",
       "      <th></th>\n",
       "      <th>geometry</th>\n",
       "    </tr>\n",
       "  </thead>\n",
       "  <tbody>\n",
       "    <tr>\n",
       "      <th>0</th>\n",
       "      <td>POLYGON ((11.09441 3.24367, 11.09441 5.35152, ...</td>\n",
       "    </tr>\n",
       "  </tbody>\n",
       "</table>\n",
       "</div>"
      ],
      "text/plain": [
       "                                            geometry\n",
       "0  POLYGON ((11.09441 3.24367, 11.09441 5.35152, ..."
      ]
     },
     "execution_count": 106,
     "metadata": {},
     "output_type": "execute_result"
    }
   ],
   "source": [
    "f, ax = plt.subplots()\n",
    "visual.plot.imshow(ax=ax, ec = 'b')\n",
    "aoi.plot(ax=ax)\n",
    "plt.show()\n",
    "bbx"
   ]
  },
  {
   "cell_type": "code",
   "execution_count": 31,
   "id": "a36a0eb9-0149-45b1-b5ed-eada9713f798",
   "metadata": {},
   "outputs": [],
   "source": [
    "#Access band 2\n",
    "b02_href = assets[\"B02\"].href\n",
    "b02 = rioxarray.open_rasterio(b02_href)\n",
    "#b02.rio.to_raster(\"B02.tif\")"
   ]
  },
  {
   "cell_type": "code",
   "execution_count": 32,
   "id": "9f77cab4-0e7c-49e1-bd59-ffda5734556e",
   "metadata": {},
   "outputs": [],
   "source": [
    "#Access band 3\n",
    "b03_href = assets[\"B03\"].href\n",
    "b03 = rioxarray.open_rasterio(b03_href)\n",
    "#b03.rio.to_raster(\"B03.tif\")"
   ]
  },
  {
   "cell_type": "code",
   "execution_count": 33,
   "id": "566b13c0-6a18-4958-b438-660c90b6dace",
   "metadata": {},
   "outputs": [],
   "source": [
    "#Access Band 4\n",
    "b04_href = assets[\"B04\"].href\n",
    "b04 = rioxarray.open_rasterio(b04_href)\n",
    "#b04.rio.to_raster(\"B04.tif\")"
   ]
  },
  {
   "cell_type": "code",
   "execution_count": null,
   "id": "99c58413-19f6-47a9-8270-8eb484cfc32b",
   "metadata": {},
   "outputs": [],
   "source": [
    "# Acces SCL: Scene Classification Map (SCL)\n",
    "bscl_href = assets[\"SCL\"].href\n",
    "bscl = rioxarray.open_rasterio(bscl_href)\n",
    "bscl.rio.to_raster(\"SCL.tif\")"
   ]
  },
  {
   "cell_type": "code",
   "execution_count": null,
   "id": "6791a78b-d84c-419b-8b91-0527a920c8d3",
   "metadata": {},
   "outputs": [],
   "source": [
    "#Access Band 8\n",
    "b08_href = assets[\"B08\"].href\n",
    "b08 = rioxarray.open_rasterio(b08_href)\n",
    "#b08.rio.to_raster(\"B08.tif\")"
   ]
  },
  {
   "attachments": {},
   "cell_type": "markdown",
   "id": "59bd7d90",
   "metadata": {},
   "source": [
    "### Stack all bands in the same array"
   ]
  },
  {
   "cell_type": "code",
   "execution_count": null,
   "id": "aab17c3a",
   "metadata": {},
   "outputs": [],
   "source": [
    "import xarray as xr\n",
    "ds = np.vstack([b04, b03, b02, b08]) # RGB NIR\n",
    "# Create xr.DataArray to write netcdf\n",
    "df = xr.DataArray(ds, dims=['Bands','x','y'])"
   ]
  },
  {
   "cell_type": "code",
   "execution_count": null,
   "id": "e4f1dd5d",
   "metadata": {},
   "outputs": [],
   "source": [
    "# Save to netcdf\n",
    "PATH_ncdf = ' ' # Add the path \n",
    "file_name = os.path.join(PATH_ncdf,\"file_all_bands.nc\")\n",
    "df.to_netcdf(file_name)"
   ]
  },
  {
   "cell_type": "code",
   "execution_count": null,
   "id": "57589c9a",
   "metadata": {},
   "outputs": [],
   "source": [
    "# Open it again\n",
    "data = xr.open_dataset(file_name)"
   ]
  }
 ],
 "metadata": {
  "kernelspec": {
   "display_name": "Python 3 (ipykernel)",
   "language": "python",
   "name": "python3"
  },
  "language_info": {
   "codemirror_mode": {
    "name": "ipython",
    "version": 3
   },
   "file_extension": ".py",
   "mimetype": "text/x-python",
   "name": "python",
   "nbconvert_exporter": "python",
   "pygments_lexer": "ipython3",
   "version": "3.9.13"
  }
 },
 "nbformat": 4,
 "nbformat_minor": 5
}
