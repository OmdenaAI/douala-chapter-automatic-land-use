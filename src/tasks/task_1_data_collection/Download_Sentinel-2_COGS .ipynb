{
 "cells": [
  {
   "cell_type": "markdown",
   "id": "f3245c31-5f43-4eb0-abc1-c6de7ffb9f23",
   "metadata": {},
   "source": [
    "# Access and visualization of EO Data on the Cloud (COGS)"
   ]
  },
  {
   "cell_type": "markdown",
   "id": "51b489a5-3119-4242-8bab-b9883958c4e0",
   "metadata": {},
   "source": [
    "**Purpose** : \n",
    ">Connect to an EO data catalog by using a [SpatioTemporal Asset Catalog (STAC)](https://stacspec.org/) client in Python.\\\n",
    ">Search for data products for a specific region and time period.\\\n",
    ">Display the boundaries of the available scenes\\\n",
    ">Get an overview of the actual images\\\n",
    ">Save band image."
   ]
  },
  {
   "cell_type": "markdown",
   "id": "544803e6-e609-4786-a20c-7c4fce3f37f3",
   "metadata": {},
   "source": [
    "<hr/> \n",
    "\n",
    "## 1-import required libraries"
   ]
  },
  {
   "cell_type": "code",
   "execution_count": 14,
   "id": "4bbae22a-a63a-4dea-81e5-54a9666f7233",
   "metadata": {},
   "outputs": [],
   "source": [
    "# Import necessary packages\n",
    "import os \n",
    "import cv2\n",
    "from datetime import date\n",
    "import json\n",
    "import itertools\n",
    "import geopandas as gpd\n",
    "import rasterio\n",
    "import matplotlib.pyplot as plt\n",
    "import numpy as np\n",
    "from sentinelsat import SentinelAPI, read_geojson, geojson_to_wkt\n",
    "from sentinelhub import pixel_to_utm, utm_to_pixel\n",
    "import utm\n",
    "import pandas as pd\n",
    "from shapely.geometry import box\n",
    "from rasterio.mask import mask\n",
    "from pystac_client import Client\n",
    "import shapely.geometry\n",
    "import shapely.wkt\n",
    "import folium\n",
    "import shapely.geometry\n",
    "from odc.algo import to_rgba\n",
    "import earthpy.spatial as es\n",
    "import earthpy.plot as ep\n",
    "import rioxarray\n",
    "#import contextily as ctx "
   ]
  },
  {
   "cell_type": "markdown",
   "id": "495583b0-23d3-4471-96c9-5775ba8899b6",
   "metadata": {},
   "source": [
    "<hr/> \n",
    "\n",
    "## 2-Set the AOI"
   ]
  },
  {
   "cell_type": "code",
   "execution_count": 15,
   "id": "bbf00773-9cb3-4cfe-8583-ba2405a72331",
   "metadata": {},
   "outputs": [],
   "source": [
    "#Set the path to data\n",
    "aoi_dir = \"/media/duplex/COMMUN/ML2023/AI LULC/douala-chapter-automatic-land-use/src/data/aoi\"\n",
    "aoi_file = \"littoral_outline.geojson\"\n",
    "aoi_path = os.path.join(aoi_dir , aoi_file )"
   ]
  },
  {
   "cell_type": "code",
   "execution_count": 16,
   "id": "ac1aa3e0-96d5-4687-ace1-1ba468ed3c8b",
   "metadata": {},
   "outputs": [
    {
     "data": {
      "text/plain": [
       "'/media/duplex/COMMUN/ML2023/AI LULC/douala-chapter-automatic-land-use/src/tasks/task_1_data_collection'"
      ]
     },
     "execution_count": 16,
     "metadata": {},
     "output_type": "execute_result"
    }
   ],
   "source": [
    "pwd"
   ]
  },
  {
   "cell_type": "code",
   "execution_count": 21,
   "id": "2168d588-ebdb-4f4c-9ca5-ee6eb863ae3a",
   "metadata": {},
   "outputs": [],
   "source": [
    "def get_bounds_of_AoI(obj_aoi, offset):\n",
    "    \n",
    "    aoi = gpd.read_file(obj_aoi)\n",
    "    \n",
    "    bounds = aoi.total_bounds\n",
    "    #offset = 1/60  #200m in degree\n",
    "    # Extend the bounding box by 200 m\n",
    "    minx, miny = bounds[0]-offset, bounds[1]-offset\n",
    "    maxx, maxy = bounds[2]+offset, bounds[3]+offset\n",
    "\n",
    "    bbox = box(minx, miny, maxx, maxy)\n",
    "    \n",
    "    print(bbox)\n",
    "\n",
    "    geo = gpd.GeoDataFrame({'geometry': bbox}, index=[0], crs=\"EPSG:4326\")\n",
    "\n",
    "    \n",
    "    return  geo"
   ]
  },
  {
   "cell_type": "code",
   "execution_count": 22,
   "id": "e8e936e4-39fd-4921-90bb-9556f1d7b6b7",
   "metadata": {},
   "outputs": [
    {
     "name": "stdout",
     "output_type": "stream",
     "text": [
      "[9.319134458233293, 3.243667343333333, 11.094414006666668, 5.351516026666666]\n"
     ]
    }
   ],
   "source": [
    "#offset = 1/60  #200m in degree\n",
    "bbx = get_bounds_of_AoI(aoi_path, 1/60)"
   ]
  },
  {
   "cell_type": "code",
   "execution_count": 48,
   "id": "abfb908f-b519-4d81-902f-a1343f82344f",
   "metadata": {},
   "outputs": [
    {
     "data": {
      "text/html": [
       "<div style=\"width:100%;\"><div style=\"position:relative;width:100%;height:0;padding-bottom:60%;\"><span style=\"color:#565656\">Make this Notebook Trusted to load map: File -> Trust Notebook</span><iframe src=\"about:blank\" style=\"position:absolute;width:100%;height:100%;left:0;top:0;border:none !important;\" data-html=%3C%21DOCTYPE%20html%3E%0A%3Chead%3E%20%20%20%20%0A%20%20%20%20%3Cmeta%20http-equiv%3D%22content-type%22%20content%3D%22text/html%3B%20charset%3DUTF-8%22%20/%3E%0A%20%20%20%20%0A%20%20%20%20%20%20%20%20%3Cscript%3E%0A%20%20%20%20%20%20%20%20%20%20%20%20L_NO_TOUCH%20%3D%20false%3B%0A%20%20%20%20%20%20%20%20%20%20%20%20L_DISABLE_3D%20%3D%20false%3B%0A%20%20%20%20%20%20%20%20%3C/script%3E%0A%20%20%20%20%0A%20%20%20%20%3Cstyle%3Ehtml%2C%20body%20%7Bwidth%3A%20100%25%3Bheight%3A%20100%25%3Bmargin%3A%200%3Bpadding%3A%200%3B%7D%3C/style%3E%0A%20%20%20%20%3Cstyle%3E%23map%20%7Bposition%3Aabsolute%3Btop%3A0%3Bbottom%3A0%3Bright%3A0%3Bleft%3A0%3B%7D%3C/style%3E%0A%20%20%20%20%3Cscript%20src%3D%22https%3A//cdn.jsdelivr.net/npm/leaflet%401.6.0/dist/leaflet.js%22%3E%3C/script%3E%0A%20%20%20%20%3Cscript%20src%3D%22https%3A//code.jquery.com/jquery-1.12.4.min.js%22%3E%3C/script%3E%0A%20%20%20%20%3Cscript%20src%3D%22https%3A//maxcdn.bootstrapcdn.com/bootstrap/3.2.0/js/bootstrap.min.js%22%3E%3C/script%3E%0A%20%20%20%20%3Cscript%20src%3D%22https%3A//cdnjs.cloudflare.com/ajax/libs/Leaflet.awesome-markers/2.0.2/leaflet.awesome-markers.js%22%3E%3C/script%3E%0A%20%20%20%20%3Clink%20rel%3D%22stylesheet%22%20href%3D%22https%3A//cdn.jsdelivr.net/npm/leaflet%401.6.0/dist/leaflet.css%22/%3E%0A%20%20%20%20%3Clink%20rel%3D%22stylesheet%22%20href%3D%22https%3A//maxcdn.bootstrapcdn.com/bootstrap/3.2.0/css/bootstrap.min.css%22/%3E%0A%20%20%20%20%3Clink%20rel%3D%22stylesheet%22%20href%3D%22https%3A//maxcdn.bootstrapcdn.com/bootstrap/3.2.0/css/bootstrap-theme.min.css%22/%3E%0A%20%20%20%20%3Clink%20rel%3D%22stylesheet%22%20href%3D%22https%3A//maxcdn.bootstrapcdn.com/font-awesome/4.6.3/css/font-awesome.min.css%22/%3E%0A%20%20%20%20%3Clink%20rel%3D%22stylesheet%22%20href%3D%22https%3A//cdnjs.cloudflare.com/ajax/libs/Leaflet.awesome-markers/2.0.2/leaflet.awesome-markers.css%22/%3E%0A%20%20%20%20%3Clink%20rel%3D%22stylesheet%22%20href%3D%22https%3A//cdn.jsdelivr.net/gh/python-visualization/folium/folium/templates/leaflet.awesome.rotate.min.css%22/%3E%0A%20%20%20%20%0A%20%20%20%20%20%20%20%20%20%20%20%20%3Cmeta%20name%3D%22viewport%22%20content%3D%22width%3Ddevice-width%2C%0A%20%20%20%20%20%20%20%20%20%20%20%20%20%20%20%20initial-scale%3D1.0%2C%20maximum-scale%3D1.0%2C%20user-scalable%3Dno%22%20/%3E%0A%20%20%20%20%20%20%20%20%20%20%20%20%3Cstyle%3E%0A%20%20%20%20%20%20%20%20%20%20%20%20%20%20%20%20%23map_a2bef258f22242038ef9550b77a30292%20%7B%0A%20%20%20%20%20%20%20%20%20%20%20%20%20%20%20%20%20%20%20%20position%3A%20relative%3B%0A%20%20%20%20%20%20%20%20%20%20%20%20%20%20%20%20%20%20%20%20width%3A%20100.0%25%3B%0A%20%20%20%20%20%20%20%20%20%20%20%20%20%20%20%20%20%20%20%20height%3A%20100.0%25%3B%0A%20%20%20%20%20%20%20%20%20%20%20%20%20%20%20%20%20%20%20%20left%3A%200.0%25%3B%0A%20%20%20%20%20%20%20%20%20%20%20%20%20%20%20%20%20%20%20%20top%3A%200.0%25%3B%0A%20%20%20%20%20%20%20%20%20%20%20%20%20%20%20%20%7D%0A%20%20%20%20%20%20%20%20%20%20%20%20%3C/style%3E%0A%20%20%20%20%20%20%20%20%0A%20%20%20%20%0A%20%20%20%20%20%20%20%20%20%20%20%20%20%20%20%20%20%20%20%20%3Cstyle%3E%0A%20%20%20%20%20%20%20%20%20%20%20%20%20%20%20%20%20%20%20%20%20%20%20%20.foliumtooltip%20%7B%0A%20%20%20%20%20%20%20%20%20%20%20%20%20%20%20%20%20%20%20%20%20%20%20%20%20%20%20%20%0A%20%20%20%20%20%20%20%20%20%20%20%20%20%20%20%20%20%20%20%20%20%20%20%20%7D%0A%20%20%20%20%20%20%20%20%20%20%20%20%20%20%20%20%20%20%20%20%20%20%20.foliumtooltip%20table%7B%0A%20%20%20%20%20%20%20%20%20%20%20%20%20%20%20%20%20%20%20%20%20%20%20%20%20%20%20%20margin%3A%20auto%3B%0A%20%20%20%20%20%20%20%20%20%20%20%20%20%20%20%20%20%20%20%20%20%20%20%20%7D%0A%20%20%20%20%20%20%20%20%20%20%20%20%20%20%20%20%20%20%20%20%20%20%20%20.foliumtooltip%20tr%7B%0A%20%20%20%20%20%20%20%20%20%20%20%20%20%20%20%20%20%20%20%20%20%20%20%20%20%20%20%20text-align%3A%20left%3B%0A%20%20%20%20%20%20%20%20%20%20%20%20%20%20%20%20%20%20%20%20%20%20%20%20%7D%0A%20%20%20%20%20%20%20%20%20%20%20%20%20%20%20%20%20%20%20%20%20%20%20%20.foliumtooltip%20th%7B%0A%20%20%20%20%20%20%20%20%20%20%20%20%20%20%20%20%20%20%20%20%20%20%20%20%20%20%20%20padding%3A%202px%3B%20padding-right%3A%208px%3B%0A%20%20%20%20%20%20%20%20%20%20%20%20%20%20%20%20%20%20%20%20%20%20%20%20%7D%0A%20%20%20%20%20%20%20%20%20%20%20%20%20%20%20%20%20%20%20%20%3C/style%3E%0A%20%20%20%20%20%20%20%20%20%20%20%20%0A%3C/head%3E%0A%3Cbody%3E%20%20%20%20%0A%20%20%20%20%0A%20%20%20%20%20%20%20%20%20%20%20%20%3Cdiv%20class%3D%22folium-map%22%20id%3D%22map_a2bef258f22242038ef9550b77a30292%22%20%3E%3C/div%3E%0A%20%20%20%20%20%20%20%20%0A%3C/body%3E%0A%3Cscript%3E%20%20%20%20%0A%20%20%20%20%0A%20%20%20%20%20%20%20%20%20%20%20%20var%20map_a2bef258f22242038ef9550b77a30292%20%3D%20L.map%28%0A%20%20%20%20%20%20%20%20%20%20%20%20%20%20%20%20%22map_a2bef258f22242038ef9550b77a30292%22%2C%0A%20%20%20%20%20%20%20%20%20%20%20%20%20%20%20%20%7B%0A%20%20%20%20%20%20%20%20%20%20%20%20%20%20%20%20%20%20%20%20center%3A%20%5B4.2975916849999996%2C%2010.20677423244998%5D%2C%0A%20%20%20%20%20%20%20%20%20%20%20%20%20%20%20%20%20%20%20%20crs%3A%20L.CRS.EPSG3857%2C%0A%20%20%20%20%20%20%20%20%20%20%20%20%20%20%20%20%20%20%20%20zoom%3A%2010%2C%0A%20%20%20%20%20%20%20%20%20%20%20%20%20%20%20%20%20%20%20%20zoomControl%3A%20true%2C%0A%20%20%20%20%20%20%20%20%20%20%20%20%20%20%20%20%20%20%20%20preferCanvas%3A%20false%2C%0A%20%20%20%20%20%20%20%20%20%20%20%20%20%20%20%20%7D%0A%20%20%20%20%20%20%20%20%20%20%20%20%29%3B%0A%20%20%20%20%20%20%20%20%20%20%20%20L.control.scale%28%29.addTo%28map_a2bef258f22242038ef9550b77a30292%29%3B%0A%0A%20%20%20%20%20%20%20%20%20%20%20%20%0A%0A%20%20%20%20%20%20%20%20%0A%20%20%20%20%0A%20%20%20%20%20%20%20%20%20%20%20%20var%20tile_layer_c282efbb7aca4920a608423da2ab3d6d%20%3D%20L.tileLayer%28%0A%20%20%20%20%20%20%20%20%20%20%20%20%20%20%20%20%22https%3A//%7Bs%7D.tile.openstreetmap.org/%7Bz%7D/%7Bx%7D/%7By%7D.png%22%2C%0A%20%20%20%20%20%20%20%20%20%20%20%20%20%20%20%20%7B%22attribution%22%3A%20%22Data%20by%20%5Cu0026copy%3B%20%5Cu003ca%20href%3D%5C%22http%3A//openstreetmap.org%5C%22%5Cu003eOpenStreetMap%5Cu003c/a%5Cu003e%2C%20under%20%5Cu003ca%20href%3D%5C%22http%3A//www.openstreetmap.org/copyright%5C%22%5Cu003eODbL%5Cu003c/a%5Cu003e.%22%2C%20%22detectRetina%22%3A%20false%2C%20%22maxNativeZoom%22%3A%2018%2C%20%22maxZoom%22%3A%2018%2C%20%22minZoom%22%3A%200%2C%20%22noWrap%22%3A%20false%2C%20%22opacity%22%3A%201%2C%20%22subdomains%22%3A%20%22abc%22%2C%20%22tms%22%3A%20false%7D%0A%20%20%20%20%20%20%20%20%20%20%20%20%29.addTo%28map_a2bef258f22242038ef9550b77a30292%29%3B%0A%20%20%20%20%20%20%20%20%0A%20%20%20%20%0A%20%20%20%20%20%20%20%20%20%20%20%20map_a2bef258f22242038ef9550b77a30292.fitBounds%28%0A%20%20%20%20%20%20%20%20%20%20%20%20%20%20%20%20%5B%5B3.243667343333333%2C%209.319134458233293%5D%2C%20%5B5.351516026666666%2C%2011.094414006666668%5D%5D%2C%0A%20%20%20%20%20%20%20%20%20%20%20%20%20%20%20%20%7B%7D%0A%20%20%20%20%20%20%20%20%20%20%20%20%29%3B%0A%20%20%20%20%20%20%20%20%0A%20%20%20%20%0A%20%20%20%20%20%20%20%20function%20geo_json_42266a309cc742ed8bbcb8d560f4b3fb_styler%28feature%29%20%7B%0A%20%20%20%20%20%20%20%20%20%20%20%20switch%28feature.id%29%20%7B%0A%20%20%20%20%20%20%20%20%20%20%20%20%20%20%20%20default%3A%0A%20%20%20%20%20%20%20%20%20%20%20%20%20%20%20%20%20%20%20%20return%20%7B%22fillOpacity%22%3A%200.5%2C%20%22weight%22%3A%202%7D%3B%0A%20%20%20%20%20%20%20%20%20%20%20%20%7D%0A%20%20%20%20%20%20%20%20%7D%0A%20%20%20%20%20%20%20%20function%20geo_json_42266a309cc742ed8bbcb8d560f4b3fb_highlighter%28feature%29%20%7B%0A%20%20%20%20%20%20%20%20%20%20%20%20switch%28feature.id%29%20%7B%0A%20%20%20%20%20%20%20%20%20%20%20%20%20%20%20%20default%3A%0A%20%20%20%20%20%20%20%20%20%20%20%20%20%20%20%20%20%20%20%20return%20%7B%22fillOpacity%22%3A%200.75%7D%3B%0A%20%20%20%20%20%20%20%20%20%20%20%20%7D%0A%20%20%20%20%20%20%20%20%7D%0A%20%20%20%20%20%20%20%20function%20geo_json_42266a309cc742ed8bbcb8d560f4b3fb_pointToLayer%28feature%2C%20latlng%29%20%7B%0A%20%20%20%20%20%20%20%20%20%20%20%20var%20opts%20%3D%20%7B%22bubblingMouseEvents%22%3A%20true%2C%20%22color%22%3A%20%22%233388ff%22%2C%20%22dashArray%22%3A%20null%2C%20%22dashOffset%22%3A%20null%2C%20%22fill%22%3A%20true%2C%20%22fillColor%22%3A%20%22%233388ff%22%2C%20%22fillOpacity%22%3A%200.2%2C%20%22fillRule%22%3A%20%22evenodd%22%2C%20%22lineCap%22%3A%20%22round%22%2C%20%22lineJoin%22%3A%20%22round%22%2C%20%22opacity%22%3A%201.0%2C%20%22radius%22%3A%202%2C%20%22stroke%22%3A%20true%2C%20%22weight%22%3A%203%7D%3B%0A%20%20%20%20%20%20%20%20%20%20%20%20%0A%20%20%20%20%20%20%20%20%20%20%20%20let%20style%20%3D%20geo_json_42266a309cc742ed8bbcb8d560f4b3fb_styler%28feature%29%0A%20%20%20%20%20%20%20%20%20%20%20%20Object.assign%28opts%2C%20style%29%0A%20%20%20%20%20%20%20%20%20%20%20%20%0A%20%20%20%20%20%20%20%20%20%20%20%20return%20new%20L.CircleMarker%28latlng%2C%20opts%29%0A%20%20%20%20%20%20%20%20%7D%0A%0A%20%20%20%20%20%20%20%20function%20geo_json_42266a309cc742ed8bbcb8d560f4b3fb_onEachFeature%28feature%2C%20layer%29%20%7B%0A%20%20%20%20%20%20%20%20%20%20%20%20layer.on%28%7B%0A%20%20%20%20%20%20%20%20%20%20%20%20%20%20%20%20mouseout%3A%20function%28e%29%20%7B%0A%20%20%20%20%20%20%20%20%20%20%20%20%20%20%20%20%20%20%20%20if%28typeof%20e.target.setStyle%20%3D%3D%3D%20%22function%22%29%7B%0A%20%20%20%20%20%20%20%20%20%20%20%20%20%20%20%20%20%20%20%20%20%20%20%20geo_json_42266a309cc742ed8bbcb8d560f4b3fb.resetStyle%28e.target%29%3B%0A%20%20%20%20%20%20%20%20%20%20%20%20%20%20%20%20%20%20%20%20%7D%0A%20%20%20%20%20%20%20%20%20%20%20%20%20%20%20%20%7D%2C%0A%20%20%20%20%20%20%20%20%20%20%20%20%20%20%20%20mouseover%3A%20function%28e%29%20%7B%0A%20%20%20%20%20%20%20%20%20%20%20%20%20%20%20%20%20%20%20%20if%28typeof%20e.target.setStyle%20%3D%3D%3D%20%22function%22%29%7B%0A%20%20%20%20%20%20%20%20%20%20%20%20%20%20%20%20%20%20%20%20%20%20%20%20const%20highlightStyle%20%3D%20geo_json_42266a309cc742ed8bbcb8d560f4b3fb_highlighter%28e.target.feature%29%0A%20%20%20%20%20%20%20%20%20%20%20%20%20%20%20%20%20%20%20%20%20%20%20%20e.target.setStyle%28highlightStyle%29%3B%0A%20%20%20%20%20%20%20%20%20%20%20%20%20%20%20%20%20%20%20%20%7D%0A%20%20%20%20%20%20%20%20%20%20%20%20%20%20%20%20%7D%2C%0A%20%20%20%20%20%20%20%20%20%20%20%20%7D%29%3B%0A%20%20%20%20%20%20%20%20%7D%3B%0A%20%20%20%20%20%20%20%20var%20geo_json_42266a309cc742ed8bbcb8d560f4b3fb%20%3D%20L.geoJson%28null%2C%20%7B%0A%20%20%20%20%20%20%20%20%20%20%20%20%20%20%20%20onEachFeature%3A%20geo_json_42266a309cc742ed8bbcb8d560f4b3fb_onEachFeature%2C%0A%20%20%20%20%20%20%20%20%20%20%20%20%0A%20%20%20%20%20%20%20%20%20%20%20%20%20%20%20%20style%3A%20geo_json_42266a309cc742ed8bbcb8d560f4b3fb_styler%2C%0A%20%20%20%20%20%20%20%20%20%20%20%20%20%20%20%20pointToLayer%3A%20geo_json_42266a309cc742ed8bbcb8d560f4b3fb_pointToLayer%0A%20%20%20%20%20%20%20%20%7D%29%3B%0A%0A%20%20%20%20%20%20%20%20function%20geo_json_42266a309cc742ed8bbcb8d560f4b3fb_add%20%28data%29%20%7B%0A%20%20%20%20%20%20%20%20%20%20%20%20geo_json_42266a309cc742ed8bbcb8d560f4b3fb%0A%20%20%20%20%20%20%20%20%20%20%20%20%20%20%20%20.addData%28data%29%0A%20%20%20%20%20%20%20%20%20%20%20%20%20%20%20%20.addTo%28map_a2bef258f22242038ef9550b77a30292%29%3B%0A%20%20%20%20%20%20%20%20%7D%0A%20%20%20%20%20%20%20%20%20%20%20%20geo_json_42266a309cc742ed8bbcb8d560f4b3fb_add%28%7B%22bbox%22%3A%20%5B9.319134458233293%2C%203.243667343333333%2C%2011.094414006666668%2C%205.351516026666666%5D%2C%20%22features%22%3A%20%5B%7B%22bbox%22%3A%20%5B9.319134458233293%2C%203.243667343333333%2C%2011.094414006666668%2C%205.351516026666666%5D%2C%20%22geometry%22%3A%20%7B%22coordinates%22%3A%20%5B%5B%5B11.094414006666668%2C%203.243667343333333%5D%2C%20%5B11.094414006666668%2C%205.351516026666666%5D%2C%20%5B9.319134458233293%2C%205.351516026666666%5D%2C%20%5B9.319134458233293%2C%203.243667343333333%5D%2C%20%5B11.094414006666668%2C%203.243667343333333%5D%5D%5D%2C%20%22type%22%3A%20%22Polygon%22%7D%2C%20%22id%22%3A%20%220%22%2C%20%22properties%22%3A%20%7B%7D%2C%20%22type%22%3A%20%22Feature%22%7D%5D%2C%20%22type%22%3A%20%22FeatureCollection%22%7D%29%3B%0A%0A%20%20%20%20%20%20%20%20%0A%20%20%20%20%0A%20%20%20%20geo_json_42266a309cc742ed8bbcb8d560f4b3fb.bindTooltip%28%0A%20%20%20%20function%28layer%29%7B%0A%20%20%20%20let%20div%20%3D%20L.DomUtil.create%28%27div%27%29%3B%0A%20%20%20%20%0A%20%20%20%20return%20div%0A%20%20%20%20%7D%0A%20%20%20%20%2C%7B%22className%22%3A%20%22foliumtooltip%22%2C%20%22sticky%22%3A%20true%7D%29%3B%0A%20%20%20%20%20%20%20%20%20%20%20%20%20%20%20%20%20%20%20%20%20%0A%3C/script%3E onload=\"this.contentDocument.open();this.contentDocument.write(    decodeURIComponent(this.getAttribute('data-html')));this.contentDocument.close();\" allowfullscreen webkitallowfullscreen mozallowfullscreen></iframe></div></div>"
      ],
      "text/plain": [
       "<folium.folium.Map at 0x7f33519e7d90>"
      ]
     },
     "execution_count": 48,
     "metadata": {},
     "output_type": "execute_result"
    }
   ],
   "source": [
    "bbx.explore()"
   ]
  },
  {
   "cell_type": "markdown",
   "id": "6b5363ef-4547-44d2-9b9d-8abaa0cf305b",
   "metadata": {},
   "source": [
    "<hr/> \n",
    "\n",
    "## 3-Search a STAC catalog"
   ]
  },
  {
   "cell_type": "code",
   "execution_count": 49,
   "id": "ea3a8371-6cea-4947-9f27-ad1e0650eab0",
   "metadata": {},
   "outputs": [],
   "source": [
    "# STAC API endpoint\n",
    "api_url = \"https://earth-search.aws.element84.com/v0\"\n",
    "client = Client.open(api_url)\n",
    "collection = \"sentinel-s2-l2a-cogs\"  # Sentinel-2, Level 2A, COGs"
   ]
  },
  {
   "cell_type": "code",
   "execution_count": 50,
   "id": "03e9021a-eaab-4771-842d-1d52eda2ea80",
   "metadata": {},
   "outputs": [],
   "source": [
    "values = []\n",
    "for i in range(len(bbx.total_bounds)):\n",
    "    values.append(bbx.total_bounds[i])\n",
    "keys = [\"lonmin\", \"latmin\", \"lonmax\", \"latmax\"]  \n",
    "geometry = dict(zip(keys, values))"
   ]
  },
  {
   "cell_type": "code",
   "execution_count": 51,
   "id": "810fa7b6-4e21-4d4f-803d-d17771a64fd0",
   "metadata": {},
   "outputs": [
    {
     "name": "stdout",
     "output_type": "stream",
     "text": [
      "2\n"
     ]
    }
   ],
   "source": [
    "time =  [\"2023-01-01\", \"2023-01-15\"]\n",
    "search = client.search(\n",
    "    collections=[collection],\n",
    "    bbox= [ geometry[\"lonmin\"], geometry[\"latmin\"],  geometry[\"lonmax\"], geometry[\"latmax\"]],\n",
    "    datetime = [\"2023-01-01\", \"2023-01-15\"],\n",
    "    #limit=100,\n",
    "    query=[\"eo:cloud_cover<0.01\"]\n",
    ")\n",
    "print(search.matched())"
   ]
  },
  {
   "cell_type": "code",
   "execution_count": 52,
   "id": "c5a5e8ba-a95d-4fda-9df4-e784f88f8672",
   "metadata": {},
   "outputs": [],
   "source": [
    "items = search.get_all_items()\n",
    "items.save_object(\"search.json\")"
   ]
  },
  {
   "cell_type": "markdown",
   "id": "aa0eaa8a-6087-44d0-b8ce-3c7fbbe7990c",
   "metadata": {},
   "source": [
    "<hr/> \n",
    "\n",
    "## 4-Access the assets"
   ]
  },
  {
   "cell_type": "code",
   "execution_count": 53,
   "id": "f99625c3-8401-46b1-8374-e81f983627bb",
   "metadata": {},
   "outputs": [
    {
     "name": "stdout",
     "output_type": "stream",
     "text": [
      "dict_keys(['thumbnail', 'overview', 'info', 'metadata', 'visual', 'B01', 'B02', 'B03', 'B04', 'B05', 'B06', 'B07', 'B08', 'B8A', 'B09', 'B11', 'B12', 'AOT', 'WVP', 'SCL'])\n"
     ]
    }
   ],
   "source": [
    "assets = items[0].assets  # first item's asset dictionary\n",
    "print(assets.keys())"
   ]
  },
  {
   "cell_type": "code",
   "execution_count": 54,
   "id": "dad7d9ad-0b21-4815-b081-d5e99ce6cd20",
   "metadata": {},
   "outputs": [
    {
     "name": "stdout",
     "output_type": "stream",
     "text": [
      "thumbnail: Thumbnail\n",
      "overview: True color image\n",
      "info: Original JSON metadata\n",
      "metadata: Original XML metadata\n",
      "visual: True color image\n",
      "B01: Band 1 (coastal)\n",
      "B02: Band 2 (blue)\n",
      "B03: Band 3 (green)\n",
      "B04: Band 4 (red)\n",
      "B05: Band 5\n",
      "B06: Band 6\n",
      "B07: Band 7\n",
      "B08: Band 8 (nir)\n",
      "B8A: Band 8A\n",
      "B09: Band 9\n",
      "B11: Band 11 (swir16)\n",
      "B12: Band 12 (swir22)\n",
      "AOT: Aerosol Optical Thickness (AOT)\n",
      "WVP: Water Vapour (WVP)\n",
      "SCL: Scene Classification Map (SCL)\n"
     ]
    }
   ],
   "source": [
    "for key, asset in assets.items():\n",
    "    print(f\"{key}: {asset.title}\")"
   ]
  },
  {
   "cell_type": "code",
   "execution_count": 55,
   "id": "2f7b5026-665d-41eb-b312-8feb4f0f5160",
   "metadata": {},
   "outputs": [],
   "source": [
    "visual_href = assets[\"visual\"].href\n",
    "visual = rioxarray.open_rasterio(visual_href)"
   ]
  },
  {
   "cell_type": "code",
   "execution_count": null,
   "id": "37b9e7a7-9399-4cef-a6cf-086b3c509c5c",
   "metadata": {},
   "outputs": [],
   "source": [
    "#Plot the RGB composite\n",
    "ep.plot_rgb(visual.values,\n",
    "            rgb=[2, 1, 0],\n",
    "            title=\"RGB Composite image - satellite data\")\n",
    "plt.show()"
   ]
  },
  {
   "cell_type": "code",
   "execution_count": null,
   "id": "7090a0e5-a774-4888-8eee-3d2e0586e3cc",
   "metadata": {},
   "outputs": [],
   "source": [
    "#Save RGB to Disk\n",
    "#visual.rio.to_raster(\"visual00.tif\")"
   ]
  },
  {
   "cell_type": "code",
   "execution_count": null,
   "id": "a36a0eb9-0149-45b1-b5ed-eada9713f798",
   "metadata": {},
   "outputs": [],
   "source": [
    "#Access band 2\n",
    "b02_href = assets[\"B02\"].href\n",
    "b02 = rioxarray.open_rasterio(b02_href)\n",
    "#b02.rio.to_raster(\"B02.tif\")"
   ]
  },
  {
   "cell_type": "code",
   "execution_count": null,
   "id": "9f77cab4-0e7c-49e1-bd59-ffda5734556e",
   "metadata": {},
   "outputs": [],
   "source": [
    "#Access band 3\n",
    "b03_href = assets[\"B03\"].href\n",
    "b03 = rioxarray.open_rasterio(b03_href)\n",
    "#b03.rio.to_raster(\"B03.tif\")"
   ]
  },
  {
   "cell_type": "code",
   "execution_count": null,
   "id": "566b13c0-6a18-4958-b438-660c90b6dace",
   "metadata": {},
   "outputs": [],
   "source": [
    "#Access Band 4\n",
    "b04_href = assets[\"B04\"].href\n",
    "b04 = rioxarray.open_rasterio(b04_href)\n",
    "#b04.rio.to_raster(\"B04.tif\")"
   ]
  },
  {
   "cell_type": "code",
   "execution_count": null,
   "id": "99c58413-19f6-47a9-8270-8eb484cfc32b",
   "metadata": {},
   "outputs": [],
   "source": [
    "# Acces SCL: Scene Classification Map (SCL)\n",
    "bscl_href = assets[\"SCL\"].href\n",
    "bscl = rioxarray.open_rasterio(bscl_href)\n",
    "bscl.rio.to_raster(\"SCL.tif\")"
   ]
  },
  {
   "cell_type": "code",
   "execution_count": null,
   "id": "6791a78b-d84c-419b-8b91-0527a920c8d3",
   "metadata": {},
   "outputs": [],
   "source": [
    "#Access Band 8\n",
    "b08_href = assets[\"B08\"].href\n",
    "b08 = rioxarray.open_rasterio(b08_href)\n",
    "#b08.rio.to_raster(\"B08.tif\")"
   ]
  }
 ],
 "metadata": {
  "kernelspec": {
   "display_name": "Python 3 (ipykernel)",
   "language": "python",
   "name": "python3"
  },
  "language_info": {
   "codemirror_mode": {
    "name": "ipython",
    "version": 3
   },
   "file_extension": ".py",
   "mimetype": "text/x-python",
   "name": "python",
   "nbconvert_exporter": "python",
   "pygments_lexer": "ipython3",
   "version": "3.9.12"
  }
 },
 "nbformat": 4,
 "nbformat_minor": 5
}
