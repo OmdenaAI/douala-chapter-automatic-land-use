{
 "cells": [
  {
   "cell_type": "markdown",
   "id": "5a03d16c-1806-428f-8eef-64c617ecd8ad",
   "metadata": {
    "tags": []
   },
   "source": [
    "# Access and visualization of EO Data on the Cloud"
   ]
  },
  {
   "cell_type": "markdown",
   "id": "620bdf47-a584-4a2b-a3a9-1583905fdc4f",
   "metadata": {},
   "source": [
    "**Purpose** : \n",
    ">Connect to an EO data catalog by using a [SpatioTemporal Asset Catalog (STAC)](https://stacspec.org/) client in Python.\\\n",
    ">Search for data products for a specific region and time period.\\\n",
    ">Display the boundaries of the available scenes\\\n",
    ">Get an overview of the actual images\\\n",
    ">Display a high-resolution natural color composite image for a small region in the study area."
   ]
  },
  {
   "cell_type": "markdown",
   "id": "d651e8d2-416b-48e8-9ead-67be9c03ed71",
   "metadata": {},
   "source": [
    "<hr/> \n",
    "\n",
    "## 1-import required libraries"
   ]
  },
  {
   "cell_type": "code",
   "execution_count": null,
   "id": "6c4f0457-8080-40fd-83e5-39d1d110b321",
   "metadata": {},
   "outputs": [],
   "source": [
    "# Import necessary packages\n",
    "import os \n",
    "import cv2\n",
    "from datetime import date\n",
    "import json\n",
    "import itertools\n",
    "import geopandas as gpd\n",
    "import rasterio\n",
    "import matplotlib.pyplot as plt\n",
    "import numpy as np\n",
    "from sentinelsat import SentinelAPI, read_geojson, geojson_to_wkt\n",
    "from sentinelhub import pixel_to_utm, utm_to_pixel\n",
    "import utm\n",
    "import pandas as pd\n",
    "from shapely.geometry import box\n",
    "from rasterio.mask import mask\n",
    "from pystac_client import Client\n",
    "import shapely.geometry\n",
    "import shapely.wkt\n",
    "import folium\n",
    "import shapely.geometry\n",
    "from odc.algo import to_rgba"
   ]
  },
  {
   "cell_type": "markdown",
   "id": "90a4dea5-67fe-407e-89b0-5ad05792dcda",
   "metadata": {},
   "source": [
    "<hr/> \n",
    "\n",
    "## 2-Set the AOI"
   ]
  },
  {
   "cell_type": "markdown",
   "id": "e92798be-0980-4612-8533-4cc6e4227f31",
   "metadata": {},
   "source": [
    "[Choose aoi](https://geojson.io/#map=3.07/8.1/21.2)"
   ]
  },
  {
   "cell_type": "code",
   "execution_count": null,
   "id": "f8bfc818-b457-4774-b130-1b071aa4d5f0",
   "metadata": {},
   "outputs": [],
   "source": [
    "#Set the path to data\n",
    "aoi_dir = \"./aoi\"\n",
    "aoi_file = \"mark.geojson\"\n",
    "aoi_path = os.path.join(aoi_dir , aoi_file ) "
   ]
  },
  {
   "cell_type": "code",
   "execution_count": null,
   "id": "733b90c7-5a7f-4cff-84c7-38d4d4f0312f",
   "metadata": {},
   "outputs": [],
   "source": [
    "def get_bounds_of_AoI(obj_aoi, offset):\n",
    "    \n",
    "    aoi = gpd.read_file(obj_aoi)\n",
    "    \n",
    "    bounds = aoi.total_bounds\n",
    "    #offset = 1/60  #200m in degree\n",
    "    # Extend the bounding box by 200 m\n",
    "    minx, miny = bounds[0]-offset, bounds[1]-offset\n",
    "    maxx, maxy = bounds[2]+offset, bounds[3]+offset\n",
    "\n",
    "    bbox = box(minx, miny, maxx, maxy)\n",
    "    \n",
    "    print(bbox)\n",
    "\n",
    "    geo = gpd.GeoDataFrame({'geometry': bbox}, index=[0], crs=\"EPSG:4326\")\n",
    "\n",
    "    \n",
    "    return geo "
   ]
  },
  {
   "cell_type": "code",
   "execution_count": null,
   "id": "724c5f3f-6b0c-482d-ae99-54e2d18129c9",
   "metadata": {},
   "outputs": [],
   "source": [
    "#offset = 1/60  #200m in degree\n",
    "bbx = get_bounds_of_AoI(aoi_path, 1/60)"
   ]
  },
  {
   "cell_type": "code",
   "execution_count": null,
   "id": "0e10de7e-aa57-43ae-b5ef-86892985489a",
   "metadata": {},
   "outputs": [],
   "source": [
    "bbx.explore()"
   ]
  },
  {
   "cell_type": "markdown",
   "id": "3a3967fb-ae81-4d43-b5b2-d60e0b921239",
   "metadata": {
    "tags": []
   },
   "source": [
    "### 3-Connect to the catalog and query available products"
   ]
  },
  {
   "cell_type": "code",
   "execution_count": null,
   "id": "ca22d285-a0d7-417c-8e00-eab29a72ec5c",
   "metadata": {},
   "outputs": [],
   "source": [
    "values = []\n",
    "for i in range(len(bbx.total_bounds)):\n",
    "    values.append(bbx.total_bounds[i])\n",
    "keys = [\"lonmin\", \"latmin\", \"lonmax\", \"latmax\"]  \n",
    "geometry = dict(zip(keys, values))"
   ]
  },
  {
   "cell_type": "code",
   "execution_count": null,
   "id": "65b6d307-0874-41d1-b656-1909ebaa99e4",
   "metadata": {},
   "outputs": [],
   "source": [
    "geometry"
   ]
  },
  {
   "cell_type": "code",
   "execution_count": null,
   "id": "36704165-63b8-463e-971b-5358e2e4efea",
   "metadata": {},
   "outputs": [],
   "source": [
    "# Import Python library for working with STAC (https://github.com/stac-utils/pystac-client)\n",
    "bbox = [ geometry[\"lonmin\"], geometry[\"latmin\"],  geometry[\"lonmax\"], geometry[\"latmax\"]]\n",
    "# Set time period\n",
    "time = [\"2023-03-01\", \"2023-03-31\"]\n",
    "#time = [\"2021-01-01\", \"2023-03-15\"]\n",
    "# Connect to the AWS Earth Search catalog\n",
    "catalog = Client.open(\"https://earth-search.aws.element84.com/v0\")\n",
    "\n",
    "# Query datasets\n",
    "query = catalog.search(\n",
    "    collections=[\"sentinel-s2-l2a-cogs\"],\n",
    "    datetime=time,\n",
    "    limit=100,\n",
    "    bbox=bbox,\n",
    "    query = {  \n",
    "      \"eo:cloud_cover\":{  \n",
    "        \"lt\":\"10\"\n",
    "          #\"lt\":\"1\"\n",
    "      }\n",
    "    }\n",
    ")\n",
    "\n",
    "# Display number of items found\n",
    "items = list(query.get_items())\n",
    "print(f\"Found: {len(items):d} items\")"
   ]
  },
  {
   "cell_type": "code",
   "execution_count": null,
   "id": "554580c2-3610-46fd-ad6a-89a62fec1720",
   "metadata": {},
   "outputs": [],
   "source": [
    "# Display properties of the first item\n",
    "items[0].properties"
   ]
  },
  {
   "cell_type": "markdown",
   "id": "42c5fb34-3452-4aa7-b104-9715f6ff1b9f",
   "metadata": {},
   "source": [
    "## 4-Display granules of the available items"
   ]
  },
  {
   "cell_type": "code",
   "execution_count": null,
   "id": "21708225-2332-4c2a-8fea-46abbc73e94e",
   "metadata": {},
   "outputs": [],
   "source": [
    "%%capture --no-display\n",
    "# Create a geo-dataframe from the datasets (WGS84)\n",
    "gdf = gpd.GeoDataFrame.from_features(query.get_all_items_as_dict(), \"epsg:4326\")\n",
    "\n",
    "# Compute granule ids\n",
    "gdf[\"granule\"] = (\n",
    "    gdf[\"sentinel:utm_zone\"].apply(lambda x: f\"{x:02d}\")\n",
    "    + gdf[\"sentinel:latitude_band\"]\n",
    "    + gdf[\"sentinel:grid_square\"]\n",
    ")\n",
    "\n",
    "# Create map\n",
    "map1 = folium.Map()\n",
    "\n",
    "# Add study area to the map\n",
    "folium.GeoJson(\n",
    "    shapely.geometry.box(*bbox),\n",
    "    style_function=lambda x: dict(fill=False, weight=3, opacity=0.7, color=\"red\"),\n",
    ").add_to(map1)\n",
    "\n",
    "# Add dataset granules to the map\n",
    "gdf.explore(\n",
    "    \"granule\",\n",
    "    categorical=True,\n",
    "    tooltip=[\n",
    "        \"granule\",\n",
    "        \"datetime\",\n",
    "        \"sentinel:data_coverage\",\n",
    "        \"eo:cloud_cover\",\n",
    "    ],\n",
    "    popup=True,\n",
    "    style_kwds=dict(fillOpacity=0.1, width=2),\n",
    "    m=map1,\n",
    ")\n",
    "\n",
    "# Zoom to the granules\n",
    "bounds = gdf.unary_union.bounds\n",
    "map1.fit_bounds(bounds=((bounds[1], bounds[0]), (bounds[3], bounds[2])))\n",
    "\n",
    "# Display map\n",
    "map1"
   ]
  },
  {
   "cell_type": "markdown",
   "id": "1bb7fa9d-a0d7-42cc-baed-96f189a04e56",
   "metadata": {},
   "source": [
    "## 5-Load data"
   ]
  },
  {
   "cell_type": "code",
   "execution_count": null,
   "id": "e87fd83a-1bfc-4bd4-8d7a-b0dda7e6783e",
   "metadata": {},
   "outputs": [],
   "source": [
    "# Import tools for converting STAC metadata to ODC data model\n",
    "from odc.stac import configure_rio, stac_load\n",
    "\n",
    "# Load* data (WGS 84 Pseudo-Mercator)\n",
    "data = stac_load(\n",
    "    items,\n",
    "    bands=(\"B04\", \"B03\", \"B02\"),\n",
    "    crs=\"epsg:3857\",\n",
    "    resolution=10 * 2**5,\n",
    "    #resolution=10, \n",
    ")\n",
    "data"
   ]
  },
  {
   "cell_type": "markdown",
   "id": "08f3d34a-5485-4347-8c69-14ef5df3d3b7",
   "metadata": {
    "tags": []
   },
   "source": [
    "## 6-Create natural-color composites"
   ]
  },
  {
   "cell_type": "code",
   "execution_count": null,
   "id": "394f0ebc-a533-4d46-b61f-816f8cd80011",
   "metadata": {},
   "outputs": [],
   "source": [
    "%%time\n",
    "# Load miscellaneous algorithmic helper methods\n",
    "# Generate* natural-color composite image\n",
    "rgba = to_rgba(data, clamp=(1, 3000), bands=(\"B04\", \"B03\", \"B02\")).compute()"
   ]
  },
  {
   "cell_type": "markdown",
   "id": "354c222c-cf92-47ce-a87b-bd16a3a51e10",
   "metadata": {},
   "source": [
    "## 7-Display natural-color composites"
   ]
  },
  {
   "cell_type": "code",
   "execution_count": null,
   "id": "c8ff0c54-23b6-4d8d-a1c1-64fab0c30eda",
   "metadata": {},
   "outputs": [],
   "source": [
    "# Create map\n",
    "map2 = folium.Map()\n",
    "\n",
    "# Add study area to the map\n",
    "folium.GeoJson(\n",
    "    shapely.geometry.box(*bbox),\n",
    "    style_function=lambda x: dict(fill=False, weight=3, opacity=0.7, color=\"red\"),\n",
    "    name=\"Study Area\",\n",
    ").add_to(map2)\n",
    "\n",
    "# Add dataset granules to the map\n",
    "gdf.explore(\n",
    "    \"granule\",\n",
    "    categorical=True,\n",
    "    tooltip=False,\n",
    "    style_kwds=dict(fillOpacity=0.1, width=2),\n",
    "    name=\"Granules\",\n",
    "    m=map2,\n",
    ")\n",
    "\n",
    "# Get geographic extent of the images\n",
    "extent = rgba.geobox.geographic_extent.boundingbox\n",
    "bounds = ((extent[3], extent[0]), (extent[1], extent[2]))\n",
    "\n",
    "# Add images \n",
    "for i in range(rgba.coords[\"time\"].size):\n",
    "    folium.raster_layers.ImageOverlay(\n",
    "        rgba.isel(time=i).data, bounds=bounds, name=\"Image {}\".format(i + 1)\n",
    "    ).add_to(map2)\n",
    "\n",
    "# Add layer control\n",
    "folium.LayerControl().add_to(map2)\n",
    "\n",
    "# Zoom to the images\n",
    "map2.fit_bounds(bounds=bounds)\n",
    "\n",
    "# Display map\n",
    "map2"
   ]
  },
  {
   "cell_type": "markdown",
   "id": "8f51e48c-4e68-4f03-9366-43459184c04f",
   "metadata": {},
   "source": [
    "## Load high-resolution data"
   ]
  },
  {
   "cell_type": "code",
   "execution_count": null,
   "id": "ab5ef538-9af7-4161-8810-f947fdb64b07",
   "metadata": {},
   "outputs": [],
   "source": [
    "# Set smaller study area\n",
    "#offset = 1/60  #200m in degree\n",
    "aoi = get_bounds_of_AoI(aoi_path, 0)"
   ]
  },
  {
   "cell_type": "code",
   "execution_count": null,
   "id": "1b675467-709f-4108-a068-2109ed82af7f",
   "metadata": {},
   "outputs": [],
   "source": [
    "values = []\n",
    "for i in range(len(bbx.total_bounds)):\n",
    "    values.append(bbx.total_bounds[i])\n",
    "keys = [\"lonmin\", \"latmin\", \"lonmax\", \"latmax\"]  \n",
    "aoi_geom = dict(zip(keys, values))"
   ]
  },
  {
   "cell_type": "code",
   "execution_count": null,
   "id": "82f24c9b-0b3f-4814-9acb-105508785930",
   "metadata": {},
   "outputs": [],
   "source": [
    "small_bbox = [ aoi_geom[\"lonmin\"], aoi_geom[\"latmin\"],  aoi_geom[\"lonmax\"], aoi_geom[\"latmax\"]]"
   ]
  },
  {
   "cell_type": "code",
   "execution_count": null,
   "id": "a858ff72-0fdd-46ce-93c0-b73493cf189b",
   "metadata": {},
   "outputs": [],
   "source": [
    "small_bbox =small_bbox\n",
    "\n",
    "# Load data\n",
    "small_data = stac_load(\n",
    "    items,\n",
    "    bands=(\"B04\", \"B03\", \"B02\"),\n",
    "    crs=\"epsg:3857\",\n",
    "    resolution=10,\n",
    "    chunks={},\n",
    "    groupby=\"solar_day\",\n",
    "    bbox=small_bbox,\n",
    ")"
   ]
  },
  {
   "cell_type": "code",
   "execution_count": null,
   "id": "2a8cc836-bad0-4bbb-892f-b3dbd0b613f9",
   "metadata": {},
   "outputs": [],
   "source": [
    "%%time\n",
    "small_rgba = to_rgba(small_data, clamp=(1, 3000), bands = (\"B04\", \"B03\", \"B02\")).compute()\n",
    "small_rgba.coords"
   ]
  },
  {
   "cell_type": "markdown",
   "id": "4d697d21-415c-4ba7-b4d1-7975deab5708",
   "metadata": {},
   "source": [
    "## Display high-resolution data"
   ]
  },
  {
   "cell_type": "code",
   "execution_count": null,
   "id": "b046f6dd-8c40-4dd9-920c-2f94786941af",
   "metadata": {},
   "outputs": [],
   "source": [
    "# Import notebook display helper methods\n",
    "import odc.ui\n",
    "from IPython.display import HTML\n",
    "\n",
    "# Generate JPEG image of the first image\n",
    "img = odc.ui.mk_data_uri(odc.ui.to_jpeg_data(small_rgba.isel(time=0).data))\n",
    "\n",
    "# Display image\n",
    "HTML(data=f\"\"\"<img src=\"{img}\" width='100%'>\"\"\")"
   ]
  },
  {
   "cell_type": "code",
   "execution_count": null,
   "id": "4eec81f3-d392-45fe-b47b-03630f850866",
   "metadata": {},
   "outputs": [],
   "source": [
    "# Display first two images side by side\n",
    "img_a = odc.ui.mk_data_uri(odc.ui.to_jpeg_data(small_rgba.isel(time=0).data))\n",
    "img_b = odc.ui.mk_data_uri(odc.ui.to_jpeg_data(small_rgba.isel(time=1).data))\n",
    "\n",
    "HTML(data=f\"\"\"<img src=\"{img_a}\" style=\"width:50%; float: left\"><img src=\"{img_b}\" style=\"width:50%; float: left\">\"\"\")"
   ]
  },
  {
   "cell_type": "markdown",
   "id": "e83407d9-2768-4c65-bc4f-2b7313803767",
   "metadata": {},
   "source": [
    "## Save as GeoTIFF"
   ]
  },
  {
   "cell_type": "code",
   "execution_count": null,
   "id": "069d5576-9143-4b3e-9040-3488d87dfb52",
   "metadata": {},
   "outputs": [],
   "source": [
    "# Import rasterio xarray extension\n",
    "import rioxarray\n",
    "\n",
    "# Save low-resolution images\n",
    "for i in range(rgba.coords[\"time\"].size):\n",
    "    rgba.isel(time=i).transpose('band', 'y', 'x').rio.to_raster(\"RGB_{}.tif\".format(i))\n",
    "\n",
    "# Save high-resolution images\n",
    "for i in range(small_rgba.coords[\"time\"].size):\n",
    "    small_rgba.isel(time=i).transpose('band', 'y', 'x').rio.to_raster(\"RGB_Small_{}.tif\".format(i))"
   ]
  },
  {
   "cell_type": "code",
   "execution_count": null,
   "id": "6614ebe0-b894-42aa-a2bb-e8c7a6ef0ee8",
   "metadata": {},
   "outputs": [],
   "source": []
  },
  {
   "cell_type": "code",
   "execution_count": null,
   "id": "cbc9ac84-f3a3-420a-930b-c34c299a617c",
   "metadata": {},
   "outputs": [],
   "source": []
  },
  {
   "cell_type": "code",
   "execution_count": null,
   "id": "40706b61-59b1-4413-b70e-c59f9d436492",
   "metadata": {},
   "outputs": [],
   "source": []
  },
  {
   "cell_type": "code",
   "execution_count": null,
   "id": "9725f1a6-7a29-4f98-85aa-116f1207b67d",
   "metadata": {},
   "outputs": [],
   "source": []
  }
 ],
 "metadata": {
  "kernelspec": {
   "display_name": "Python 3 (ipykernel)",
   "language": "python",
   "name": "python3"
  },
  "language_info": {
   "codemirror_mode": {
    "name": "ipython",
    "version": 3
   },
   "file_extension": ".py",
   "mimetype": "text/x-python",
   "name": "python",
   "nbconvert_exporter": "python",
   "pygments_lexer": "ipython3",
   "version": "3.9.12"
  }
 },
 "nbformat": 4,
 "nbformat_minor": 5
}
