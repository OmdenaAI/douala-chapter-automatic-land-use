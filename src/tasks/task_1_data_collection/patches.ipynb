{
 "cells": [
  {
   "cell_type": "code",
   "execution_count": 4,
   "id": "d808f34d-469e-4001-85dd-b4ba1d1bee4e",
   "metadata": {
    "tags": []
   },
   "outputs": [
    {
     "name": "stderr",
     "output_type": "stream",
     "text": [
      "/srv/conda/envs/env_snap/lib/python3.10/site-packages/osmnx/utils.py:192: UserWarning: The `utils.config` function is deprecated and will be removed in a future release. Instead, use the `settings` module directly to configure a global setting's value. For example, `ox.settings.log_console=True`.\n",
      "  warnings.warn(\n"
     ]
    }
   ],
   "source": [
    "import numpy\n",
    "import numpy.ma as ma\n",
    "import scipy.signal\n",
    "import shapely\n",
    "from shapely.geometry import Polygon as PPGON\n",
    "from rasterio.plot import show\n",
    "from rasterio.merge import merge\n",
    "from rasterio.fill import fillnodata\n",
    "from rasterio.mask import mask\n",
    "import rasterio\n",
    "from osgeo import gdal\n",
    "import os\n",
    "import matplotlib\n",
    "import matplotlib.pyplot as plt\n",
    "import numpy as np\n",
    "import rioxarray as rxr\n",
    "from rioxarray.merge import merge_arrays\n",
    "import earthpy as et\n",
    "import earthpy.spatial as es\n",
    "import earthpy.plot as ep\n",
    "import earthpy.mask as em\n",
    "from skimage import io, data, img_as_float\n",
    "from skimage import exposure\n",
    "from rasterio.plot import show_hist\n",
    "import geopandas as gpd\n",
    "import subprocess as sp\n",
    "import xrspatial\n",
    "import glob\n",
    "import osmnx as ox\n",
    "import zipfile\n",
    "from sklearn.cluster import KMeans\n",
    "from PIL import Image\n",
    "from PIL import ImageFont\n",
    "from PIL import ImageDraw\n",
    "ox.config(use_cache=True, log_console=True)\n",
    "import ee\n",
    "import geemap\n",
    "from geotile import GeoTile"
   ]
  },
  {
   "cell_type": "code",
   "execution_count": 5,
   "id": "b708f446-6963-4a8f-bbce-794982428b63",
   "metadata": {
    "tags": []
   },
   "outputs": [],
   "source": [
    "data_outfile = \"/workspace/sentinelproduct/cameroon/data/merged/data.tif\""
   ]
  },
  {
   "cell_type": "code",
   "execution_count": 6,
   "id": "dadb83e6-e3b5-416a-8bd2-5ae14e06c67a",
   "metadata": {
    "tags": []
   },
   "outputs": [],
   "source": [
    "labels_outfile = \"/workspace/sentinelproduct/cameroon/labels/merged/labels.tif\""
   ]
  },
  {
   "cell_type": "code",
   "execution_count": 8,
   "id": "6aa8a0e1-6edc-4395-8c3d-f31c3254e2c1",
   "metadata": {
    "tags": []
   },
   "outputs": [],
   "source": [
    "gt = GeoTile(data_outfile)"
   ]
  },
  {
   "cell_type": "code",
   "execution_count": 9,
   "id": "d8b0c3f1-2f59-4e8c-8b85-12936f6b6ecd",
   "metadata": {
    "tags": []
   },
   "outputs": [],
   "source": [
    "# to generate the tiles having no overlapping\n",
    "gt.generate_tiles(r'/workspace/sentinelproduct/cameroon/data/patched/', tile_x=256, tile_y=256, stride_x=256, stride_y=256)"
   ]
  },
  {
   "cell_type": "code",
   "execution_count": 10,
   "id": "ae20a9db-fb80-4a98-a81e-7e08f7a66266",
   "metadata": {
    "tags": []
   },
   "outputs": [],
   "source": [
    "gt = GeoTile(labels_outfile)"
   ]
  },
  {
   "cell_type": "code",
   "execution_count": 11,
   "id": "a6e6c654-8d57-4fd9-b56a-0fc0424dfb0c",
   "metadata": {
    "tags": []
   },
   "outputs": [],
   "source": [
    "# to generate the tiles having no overlapping\n",
    "gt.generate_tiles(r'/workspace/sentinelproduct/cameroon/labels/patched/', tile_x=256, tile_y=256, stride_x=256, stride_y=256)"
   ]
  },
  {
   "cell_type": "code",
   "execution_count": null,
   "id": "3c140c45-eb96-4862-a60c-ad4444e60b4f",
   "metadata": {},
   "outputs": [],
   "source": []
  },
  {
   "cell_type": "code",
   "execution_count": null,
   "id": "d2e635c1-6cb7-4fab-81a5-471e944b7dae",
   "metadata": {},
   "outputs": [],
   "source": []
  }
 ],
 "metadata": {
  "kernelspec": {
   "display_name": "Python 3 (ipykernel)",
   "language": "python",
   "name": "python3"
  },
  "language_info": {
   "codemirror_mode": {
    "name": "ipython",
    "version": 3
   },
   "file_extension": ".py",
   "mimetype": "text/x-python",
   "name": "python",
   "nbconvert_exporter": "python",
   "pygments_lexer": "ipython3",
   "version": "3.10.8"
  }
 },
 "nbformat": 4,
 "nbformat_minor": 5
}
