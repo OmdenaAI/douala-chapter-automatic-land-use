{
 "cells": [
  {
   "cell_type": "code",
   "execution_count": null,
   "id": "bbfbdf19-07ee-43ce-ae32-018bfe436ac0",
   "metadata": {},
   "outputs": [],
   "source": [
    "import numpy\n",
    "import numpy.ma as ma\n",
    "import scipy.signal\n",
    "import shapely\n",
    "from shapely.geometry import Polygon as PPGON\n",
    "from rasterio.plot import show\n",
    "from rasterio.merge import merge\n",
    "from rasterio.fill import fillnodata\n",
    "from rasterio.mask import mask\n",
    "import rasterio\n",
    "from osgeo import gdal\n",
    "import os\n",
    "import matplotlib\n",
    "import matplotlib.pyplot as plt\n",
    "import numpy as np\n",
    "import rioxarray as rxr\n",
    "from rioxarray.merge import merge_arrays\n",
    "import earthpy as et\n",
    "import earthpy.spatial as es\n",
    "import earthpy.plot as ep\n",
    "import earthpy.mask as em\n",
    "from skimage import io, data, img_as_float\n",
    "from skimage import exposure\n",
    "from rasterio.plot import show_hist\n",
    "import geopandas as gpd\n",
    "import subprocess as sp\n",
    "import xrspatial\n",
    "import glob\n",
    "import osmnx as ox\n",
    "import zipfile\n",
    "from sklearn.cluster import KMeans\n",
    "from PIL import Image\n",
    "from PIL import ImageFont\n",
    "from PIL import ImageDraw\n",
    "ox.config(use_cache=True, log_console=True)\n",
    "import ee\n",
    "import geemap"
   ]
  },
  {
   "cell_type": "code",
   "execution_count": null,
   "id": "1f3e9d4c-543e-47ea-8d0f-79d22b229fc9",
   "metadata": {},
   "outputs": [],
   "source": [
    "service_account = 'pandas@dev-ind-geo-01.iam.gserviceaccount.com'\n",
    "credentials = ee.ServiceAccountCredentials(service_account, '/workspace/snapdocker/credentials.json')\n",
    "ee.Initialize(credentials=credentials)"
   ]
  },
  {
   "cell_type": "code",
   "execution_count": null,
   "id": "3e93c4e8-d6d2-44fd-812f-c5127a78fd11",
   "metadata": {},
   "outputs": [],
   "source": [
    "from google.oauth2 import service_account\n",
    "credentials = service_account.Credentials.from_service_account_file(\n",
    "    '/workspace/snapdocker/credentials.json',\n",
    ")"
   ]
  },
  {
   "cell_type": "code",
   "execution_count": null,
   "id": "335a3544-be09-4c52-9a52-274bce91a749",
   "metadata": {},
   "outputs": [],
   "source": [
    "litto = gpd.read_file('littoral.geojson')\n",
    "litto.plot()"
   ]
  },
  {
   "cell_type": "code",
   "execution_count": null,
   "id": "98c1fba6-cfeb-4973-8833-d63f1c11c49d",
   "metadata": {},
   "outputs": [],
   "source": [
    "aoi = geemap.geopandas_to_ee(litto).geometry()"
   ]
  },
  {
   "cell_type": "code",
   "execution_count": null,
   "id": "469faca9-d9a8-4d1d-bde2-3ecfaf86df66",
   "metadata": {},
   "outputs": [],
   "source": [
    "region=aoi.getInfo()"
   ]
  },
  {
   "cell_type": "code",
   "execution_count": null,
   "id": "e6b7dead-1a2b-47b4-965a-eb10086cd55e",
   "metadata": {},
   "outputs": [],
   "source": [
    "start_date = '2021-06-01'\n",
    "end_date = '2021-06-30'"
   ]
  },
  {
   "cell_type": "code",
   "execution_count": null,
   "id": "85159865-19b9-4309-9a4d-21382a69ac41",
   "metadata": {},
   "outputs": [],
   "source": [
    "# Function to mask clouds using the Sentinel-2 QA band\n",
    "\n",
    "def se2mask(image):\n",
    "    quality_band = image.select('QA60')\n",
    "    \n",
    "    # using the bit mask for clouds and cirrus clouds respectively\n",
    "    cloudmask = 1 << 10\n",
    "    cirrusmask = 1 << 11\n",
    "    \n",
    "    # we only want clear skies\n",
    "    mask = quality_band.bitwiseAnd(cloudmask).eq(0) and (quality_band.bitwiseAnd(cirrusmask).eq(0))\n",
    "    \n",
    "    # we'll divide by 10000 to make interpreting the reflectance values easier\n",
    "    return image.updateMask(mask).divide(10000)"
   ]
  },
  {
   "cell_type": "code",
   "execution_count": null,
   "id": "45d72dfc-ca0c-4c66-b12b-1233019ee213",
   "metadata": {},
   "outputs": [],
   "source": [
    "se2 = (ee.ImageCollection('COPERNICUS/S2')\n",
    "        .filterDate(start_date,end_date)\n",
    "        .filterBounds(aoi)\n",
    "        .filter(ee.Filter.lt(\"CLOUDY_PIXEL_PERCENTAGE\",70))\n",
    "        .map(se2mask)\n",
    "        .select(['B2','B3','B4','B8'])\n",
    "        .median())"
   ]
  },
  {
   "cell_type": "code",
   "execution_count": null,
   "id": "db0ec2d3-f5d5-4f69-b176-bfd8b623faa7",
   "metadata": {},
   "outputs": [],
   "source": [
    "# Create Dynamic World land cover composite\n",
    "# landcover = geemap.dynamic_world(aoi, start_date, end_date, return_type='hillshade')"
   ]
  },
  {
   "cell_type": "code",
   "execution_count": null,
   "id": "eac47193-3d7b-44a2-a5a1-3fc890f6a197",
   "metadata": {},
   "outputs": [],
   "source": [
    "rgb = ['B4','B3','B2']\n",
    "\n",
    "# set some thresholds\n",
    "rgbViz = {\"min\":0.0, \"max\":0.3,\"bands\":rgb}\n",
    "\n",
    "\n",
    "# initialize our map\n",
    "map1 = geemap.Map()\n",
    "map1.centerObject(aoi, 7)\n",
    "map1.addLayer(se2.clip(aoi), rgbViz, \"S2\")\n",
    "# map1.addLayer(landcover.clip(aoi), {}, 'Land Cover')\n",
    "region_im = ee.Image().byte().paint(\n",
    "    featureCollection=ee.Geometry(region), width=2, color=1\n",
    ")\n",
    "map1.addLayer(region_im, dict(palette=['FF0000']), 'Region')\n",
    "map1.addLayerControl()\n",
    "map1"
   ]
  },
  {
   "cell_type": "code",
   "execution_count": null,
   "id": "64f60560-c1f7-46d5-bf3e-8b03b35864ec",
   "metadata": {},
   "outputs": [],
   "source": [
    "# capture_date = '20210430'\n",
    "capture_date = '20210630'"
   ]
  },
  {
   "cell_type": "code",
   "execution_count": null,
   "id": "37a0bfca-702b-4eb4-a8c9-6f7198adf470",
   "metadata": {},
   "outputs": [],
   "source": [
    "outputBucket = 'geotiff01' #Change for your Cloud Storage bucket\n",
    "\n",
    "# Export the image, specifying scale and region.\n",
    "task = ee.batch.Export.image.toCloudStorage(**{\n",
    "    'image': se2.clip(aoi),\n",
    "    'description': capture_date+'_',\n",
    "    'region': aoi,\n",
    "    'fileFormat': 'GeoTIFF',\n",
    "    'bucket': outputBucket,\n",
    "    'formatOptions': {'cloudOptimized': False},\n",
    "    'path':'cameroondata/raw/'+capture_date+'/',\n",
    "    'scale':10,\n",
    "    'maxPixels':int(1e13)\n",
    "})\n",
    "\n",
    "task.start()\n",
    "import time \n",
    "count = 1\n",
    "while task.active():\n",
    "    print(f'{count}' + ': Polling for task (id: {}).'.format(task.id))\n",
    "    time.sleep(600)\n",
    "    count +=1"
   ]
  },
  {
   "cell_type": "code",
   "execution_count": null,
   "id": "f0bf1ef3-2cd1-4479-b691-3e0262b68754",
   "metadata": {},
   "outputs": [],
   "source": [
    "# gee_mosaic_list = [\n",
    "#     '/workspace/sentinelproduct/cameroon/02103310000022016-0000000000.tif',\n",
    "#     '/workspace/sentinelproduct/cameroon/202103310000000000-0000000000.tif',\n",
    "#     '/workspace/sentinelproduct/cameroon/202103310000000000-0000011008.tif',\n",
    "#     '/workspace/sentinelproduct/cameroon/202103310000011008-0000000000.tif',\n",
    "#     '/workspace/sentinelproduct/cameroon/202103310000011008-0000011008.tif',\n",
    "#     '/workspace/sentinelproduct/cameroon/202103310000022016-0000011008.tif',\n",
    "# ]"
   ]
  },
  {
   "cell_type": "code",
   "execution_count": null,
   "id": "7e19d8af-fc8b-411f-9f19-75ea4b01ba7b",
   "metadata": {},
   "outputs": [],
   "source": [
    "# for i in range(0,6):\n",
    "#     img = rasterio.open(gee_mosaic_list[i],nodata=np.nan)\n",
    "#     show(img)\n",
    "#     print(img.profile)"
   ]
  },
  {
   "cell_type": "markdown",
   "id": "4d6146a6-a0a1-4be9-aa91-3679b0e6e89e",
   "metadata": {},
   "source": [
    "## RUN gsutil cp \"gs://geotiff01/cameroondata/raw/20210430/*.tif\" ../sentinelproduct/cameroon/20210430/"
   ]
  },
  {
   "cell_type": "code",
   "execution_count": null,
   "id": "84a01110-1a0d-4e7c-8f12-9319d6561d31",
   "metadata": {},
   "outputs": [],
   "source": [
    "import glob\n",
    "\n",
    "gee_mosaic_list = []\n",
    "for file in glob.glob(\"/workspace/sentinelproduct/cameroon/\"+capture_date+'/*.tif'):\n",
    "    gee_mosaic_list.append(file)\n",
    "gee_mosaic_list"
   ]
  },
  {
   "cell_type": "code",
   "execution_count": null,
   "id": "836980eb-3ea7-4fd1-9999-7b10ad225f71",
   "metadata": {},
   "outputs": [],
   "source": [
    "# tile=[]\n",
    "# for i in range(0,6):\n",
    "#     src = rxr.open_rasterio(gee_mosaic_list[i],masked=True)\n",
    "#     tile.append(src[0])\n",
    "# merged = merge_arrays(tile)"
   ]
  },
  {
   "cell_type": "code",
   "execution_count": null,
   "id": "d36b661c-501c-4f16-82fd-422edde206ec",
   "metadata": {},
   "outputs": [],
   "source": [
    "# merged.rio.to_raster(\"/workspace/sentinelproduct/cameroon/20210331.tif\")"
   ]
  },
  {
   "cell_type": "code",
   "execution_count": null,
   "id": "4e11cbc5-dbb3-4c56-9aa8-43cf4b96c93b",
   "metadata": {},
   "outputs": [],
   "source": [
    "geetr = []\n",
    "for raster in gee_mosaic_list:\n",
    "    out_file = raster.split('.')[0]+'_tr.tif'\n",
    "    geetr.append(out_file)\n",
    "    print('Creating file '+out_file+ '....')\n",
    "    args = args = ['gdal_translate', '-a_nodata','nan', '-of', 'Gtiff', raster , out_file]\n",
    "    result = sp.call(args)\n",
    "geetr"
   ]
  },
  {
   "cell_type": "code",
   "execution_count": null,
   "id": "2302b55f-8cd3-49c0-9df2-f296491df139",
   "metadata": {},
   "outputs": [],
   "source": [
    "gee_mosaic_name = \"/workspace/sentinelproduct/cameroon/\"+capture_date+\"/\"+capture_date+\".tif\""
   ]
  },
  {
   "cell_type": "code",
   "execution_count": null,
   "id": "1abbb624-3b4e-4e84-b585-efe7d57ca8a6",
   "metadata": {},
   "outputs": [],
   "source": [
    "# gee_mosaic_name = \"/workspace/sentinelproduct/cameroon/20210331.tif\"\n",
    "\n",
    "g = gdal.Warp(gee_mosaic_name, geetr, format=\"GTiff\",) # if you want\n",
    "g = None # Close file and flush to disk"
   ]
  },
  {
   "cell_type": "code",
   "execution_count": null,
   "id": "934ceec3-05f6-4f35-96a8-bb6125a104eb",
   "metadata": {},
   "outputs": [],
   "source": [
    "# src=rxr.open_rasterio(gee_mosaic_name, masked=True)"
   ]
  },
  {
   "cell_type": "code",
   "execution_count": null,
   "id": "93a5fd7d-6755-4910-b70a-a7cda10daf71",
   "metadata": {},
   "outputs": [],
   "source": [
    "# src.plot()"
   ]
  },
  {
   "cell_type": "code",
   "execution_count": null,
   "id": "84bcc781-c472-4280-a87a-f9ea71cd0201",
   "metadata": {},
   "outputs": [],
   "source": [
    "src = rasterio.open(gee_mosaic_name,masked=True)"
   ]
  },
  {
   "cell_type": "code",
   "execution_count": null,
   "id": "62a3f991-3a75-4c3f-baec-7239e91a085f",
   "metadata": {},
   "outputs": [],
   "source": [
    "show(src.read(2))"
   ]
  },
  {
   "cell_type": "code",
   "execution_count": null,
   "id": "1f4fea5f-e39f-4b2d-a781-4320765cacf1",
   "metadata": {},
   "outputs": [],
   "source": []
  }
 ],
 "metadata": {
  "kernelspec": {
   "display_name": "Python 3 (ipykernel)",
   "language": "python",
   "name": "python3"
  },
  "language_info": {
   "codemirror_mode": {
    "name": "ipython",
    "version": 3
   },
   "file_extension": ".py",
   "mimetype": "text/x-python",
   "name": "python",
   "nbconvert_exporter": "python",
   "pygments_lexer": "ipython3",
   "version": "3.10.6"
  }
 },
 "nbformat": 4,
 "nbformat_minor": 5
}
