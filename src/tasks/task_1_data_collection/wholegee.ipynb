{
 "cells": [
  {
   "cell_type": "code",
   "execution_count": 1,
   "id": "7c1727a6-895f-40ac-ae64-5d8dbeeba841",
   "metadata": {},
   "outputs": [
    {
     "name": "stderr",
     "output_type": "stream",
     "text": [
      "/srv/conda/envs/env_snap/lib/python3.10/site-packages/osmnx/utils.py:192: UserWarning: The `utils.config` function is deprecated and will be removed in a future release. Instead, use the `settings` module directly to configure a global setting's value. For example, `ox.settings.log_console=True`.\n",
      "  warnings.warn(\n"
     ]
    }
   ],
   "source": [
    "import numpy\n",
    "import numpy.ma as ma\n",
    "import scipy.signal\n",
    "import shapely\n",
    "from shapely.geometry import Polygon as PPGON\n",
    "from rasterio.plot import show\n",
    "from rasterio.merge import merge\n",
    "from rasterio.fill import fillnodata\n",
    "from rasterio.mask import mask\n",
    "import rasterio\n",
    "from osgeo import gdal\n",
    "import os\n",
    "import matplotlib\n",
    "import matplotlib.pyplot as plt\n",
    "import numpy as np\n",
    "import rioxarray as rxr\n",
    "from rioxarray.merge import merge_arrays\n",
    "import earthpy as et\n",
    "import earthpy.spatial as es\n",
    "import earthpy.plot as ep\n",
    "import earthpy.mask as em\n",
    "from skimage import io, data, img_as_float\n",
    "from skimage import exposure\n",
    "from rasterio.plot import show_hist\n",
    "import geopandas as gpd\n",
    "import subprocess as sp\n",
    "import xrspatial\n",
    "import glob\n",
    "import osmnx as ox\n",
    "import zipfile\n",
    "from sklearn.cluster import KMeans\n",
    "from PIL import Image\n",
    "from PIL import ImageFont\n",
    "from PIL import ImageDraw\n",
    "ox.config(use_cache=True, log_console=True)\n",
    "import ee\n",
    "import geemap"
   ]
  },
  {
   "cell_type": "code",
   "execution_count": 2,
   "id": "27d61ed8-3576-439d-8546-8b94ba13a56a",
   "metadata": {},
   "outputs": [],
   "source": [
    "service_account = 'pandas@dev-ind-geo-01.iam.gserviceaccount.com'\n",
    "credentials = ee.ServiceAccountCredentials(service_account, '/workspace/snapdocker/credentials.json')\n",
    "ee.Initialize(credentials=credentials)"
   ]
  },
  {
   "cell_type": "code",
   "execution_count": 3,
   "id": "745a6c1c-48f2-4c9f-9ae4-b86dd4679520",
   "metadata": {},
   "outputs": [],
   "source": [
    "from google.oauth2 import service_account\n",
    "credentials = service_account.Credentials.from_service_account_file(\n",
    "    '/workspace/snapdocker/credentials.json',\n",
    ")"
   ]
  },
  {
   "cell_type": "code",
   "execution_count": 4,
   "id": "05bb9a62-b52c-4b16-8048-41a15a877582",
   "metadata": {},
   "outputs": [
    {
     "data": {
      "text/plain": [
       "<AxesSubplot:>"
      ]
     },
     "execution_count": 4,
     "metadata": {},
     "output_type": "execute_result"
    },
    {
     "data": {
      "image/png": "[encoded data removed]",
      "text/plain": [
       "<Figure size 640x480 with 1 Axes>"
      ]
     },
     "metadata": {},
     "output_type": "display_data"
    }
   ],
   "source": [
    "camr = gpd.read_file('/workspace/sentinelproduct/cameroon/cmr/cmr.shp')\n",
    "camr.plot()"
   ]
  },
  {
   "cell_type": "code",
   "execution_count": 7,
   "id": "1cc81f35-8ce8-450f-8ed0-75597f73bdaf",
   "metadata": {},
   "outputs": [],
   "source": [
    "aoi = geemap.geopandas_to_ee(camr).geometry()"
   ]
  },
  {
   "cell_type": "code",
   "execution_count": 12,
   "id": "c5ef9000-1a8b-4c99-8659-7e47ff569036",
   "metadata": {},
   "outputs": [],
   "source": [
    "region=aoi.getInfo()"
   ]
  },
  {
   "cell_type": "code",
   "execution_count": 31,
   "id": "b56532d7-ed82-4497-9ca5-802e263e3e7a",
   "metadata": {},
   "outputs": [],
   "source": [
    "# start_date = '2021-03-01'\n",
    "# end_date = '2021-03-31'\n",
    "# capture_date = '20210331'\n",
    "\n",
    "# start_date = '2021-04-01'\n",
    "# end_date = '2021-04-30'\n",
    "# capture_date = '20210430'\n",
    "\n",
    "# start_date = '2021-05-01'\n",
    "# end_date = '2021-05-31'\n",
    "# capture_date = '20210531'\n",
    "\n",
    "# start_date = '2021-06-01'\n",
    "# end_date = '2021-06-30'\n",
    "# capture_date = '20210630'\n",
    "\n",
    "start_date = '2021-07-01'\n",
    "end_date = '2021-07-31'\n",
    "capture_date = '20210731'\n",
    "\n"
   ]
  },
  {
   "cell_type": "code",
   "execution_count": 17,
   "id": "ffb1f645-a598-4a76-8fb8-adda03687e78",
   "metadata": {},
   "outputs": [],
   "source": [
    "# Function to mask clouds using the Sentinel-2 QA band\n",
    "\n",
    "def se2mask(image):\n",
    "    quality_band = image.select('QA60')\n",
    "    \n",
    "    # using the bit mask for clouds and cirrus clouds respectively\n",
    "    cloudmask = 1 << 10\n",
    "    cirrusmask = 1 << 11\n",
    "    \n",
    "    # we only want clear skies\n",
    "    mask = quality_band.bitwiseAnd(cloudmask).eq(0) and (quality_band.bitwiseAnd(cirrusmask).eq(0))\n",
    "    \n",
    "    # we'll divide by 10000 to make interpreting the reflectance values easier\n",
    "    return image.updateMask(mask).divide(10000)"
   ]
  },
  {
   "cell_type": "code",
   "execution_count": 32,
   "id": "505fcc38-89a0-4d5f-84b9-2d109e44178b",
   "metadata": {},
   "outputs": [],
   "source": [
    "se2 = (ee.ImageCollection('COPERNICUS/S2')\n",
    "        .filterDate(start_date,end_date)\n",
    "        .filterBounds(aoi)\n",
    "        .filter(ee.Filter.lt(\"CLOUDY_PIXEL_PERCENTAGE\",80))\n",
    "        .map(se2mask)\n",
    "        .select(['B2','B3','B4','B8'])\n",
    "        .median())"
   ]
  },
  {
   "cell_type": "code",
   "execution_count": 33,
   "id": "83fd86a0-cf2f-4b89-b45d-154a2ecec9e6",
   "metadata": {},
   "outputs": [
    {
     "data": {
      "application/vnd.jupyter.widget-view+json": {
       "model_id": "cd1e763d1e104c9783668a2308835353",
       "version_major": 2,
       "version_minor": 0
      },
      "text/plain": [
       "Map(center=[5.676077145623018, 12.737897386736984], controls=(WidgetControl(options=['position', 'transparent_…"
      ]
     },
     "metadata": {},
     "output_type": "display_data"
    }
   ],
   "source": [
    "rgb = ['B4','B3','B2']\n",
    "\n",
    "# set some thresholds\n",
    "rgbViz = {\"min\":0.0, \"max\":0.3,\"bands\":rgb}\n",
    "\n",
    "\n",
    "# initialize our map\n",
    "map1 = geemap.Map()\n",
    "map1.centerObject(aoi, 7)\n",
    "map1.addLayer(se2.clip(aoi), rgbViz, \"S2\")\n",
    "# map1.addLayer(landcover.clip(aoi), {}, 'Land Cover')\n",
    "region_im = ee.Image().byte().paint(\n",
    "    featureCollection=ee.Geometry(region), width=2, color=1\n",
    ")\n",
    "map1.addLayer(region_im, dict(palette=['FF0000']), 'Region')\n",
    "map1.addLayerControl()\n",
    "map1"
   ]
  },
  {
   "cell_type": "code",
   "execution_count": 34,
   "id": "5953dd75-f2d6-428a-a78d-32e030b26539",
   "metadata": {},
   "outputs": [
    {
     "name": "stdout",
     "output_type": "stream",
     "text": [
      "1: Polling for task (id: J6V5TBHSN3CPFO36LYVVGRBD).\n"
     ]
    },
    {
     "ename": "KeyboardInterrupt",
     "evalue": "",
     "output_type": "error",
     "traceback": [
      "\u001b[0;31m---------------------------------------------------------------------------\u001b[0m",
      "\u001b[0;31mKeyboardInterrupt\u001b[0m                         Traceback (most recent call last)",
      "Cell \u001b[0;32mIn [34], line 21\u001b[0m\n\u001b[1;32m     19\u001b[0m \u001b[38;5;28;01mwhile\u001b[39;00m task\u001b[38;5;241m.\u001b[39mactive():\n\u001b[1;32m     20\u001b[0m     \u001b[38;5;28mprint\u001b[39m(\u001b[38;5;124mf\u001b[39m\u001b[38;5;124m'\u001b[39m\u001b[38;5;132;01m{\u001b[39;00mcount\u001b[38;5;132;01m}\u001b[39;00m\u001b[38;5;124m'\u001b[39m \u001b[38;5;241m+\u001b[39m \u001b[38;5;124m'\u001b[39m\u001b[38;5;124m: Polling for task (id: \u001b[39m\u001b[38;5;132;01m{}\u001b[39;00m\u001b[38;5;124m).\u001b[39m\u001b[38;5;124m'\u001b[39m\u001b[38;5;241m.\u001b[39mformat(task\u001b[38;5;241m.\u001b[39mid))\n\u001b[0;32m---> 21\u001b[0m     \u001b[43mtime\u001b[49m\u001b[38;5;241;43m.\u001b[39;49m\u001b[43msleep\u001b[49m\u001b[43m(\u001b[49m\u001b[38;5;241;43m600\u001b[39;49m\u001b[43m)\u001b[49m\n\u001b[1;32m     22\u001b[0m     count \u001b[38;5;241m+\u001b[39m\u001b[38;5;241m=\u001b[39m\u001b[38;5;241m1\u001b[39m\n",
      "\u001b[0;31mKeyboardInterrupt\u001b[0m: "
     ]
    }
   ],
   "source": [
    "outputBucket = 'geotiff01' #Change for your Cloud Storage bucket\n",
    "\n",
    "# Export the image, specifying scale and region.\n",
    "task = ee.batch.Export.image.toCloudStorage(**{\n",
    "    'image': se2.clip(aoi),\n",
    "    'description': capture_date+'_',\n",
    "    'region': aoi,\n",
    "    'fileFormat': 'GeoTIFF',\n",
    "    'bucket': outputBucket,\n",
    "    'formatOptions': {'cloudOptimized': False},\n",
    "    'path':'cameroondata/raw/whole/'+capture_date+'/',\n",
    "    'scale':10,\n",
    "    'maxPixels':int(1e13)\n",
    "})\n",
    "\n",
    "task.start()\n",
    "import time \n",
    "count = 1\n",
    "while task.active():\n",
    "    print(f'{count}' + ': Polling for task (id: {}).'.format(task.id))\n",
    "    time.sleep(600)\n",
    "    count +=1"
   ]
  },
  {
   "cell_type": "markdown",
   "id": "4e69bc9f-9431-419c-af1f-a3deb03a28d0",
   "metadata": {},
   "source": [
    "### gsutil cp \"gs://geotiff01/cameroondata/raw/whole/20210630/*.tif\" sentinelproduct/cameroon/whole/20210630/"
   ]
  },
  {
   "cell_type": "code",
   "execution_count": null,
   "id": "521dc4ee-8620-4e05-a9e4-bd45927e761a",
   "metadata": {},
   "outputs": [],
   "source": []
  },
  {
   "cell_type": "code",
   "execution_count": null,
   "id": "405e8a06-907f-468d-8bc0-d7e578ad6c03",
   "metadata": {},
   "outputs": [],
   "source": []
  }
 ],
 "metadata": {
  "kernelspec": {
   "display_name": "Python 3 (ipykernel)",
   "language": "python",
   "name": "python3"
  },
  "language_info": {
   "codemirror_mode": {
    "name": "ipython",
    "version": 3
   },
   "file_extension": ".py",
   "mimetype": "text/x-python",
   "name": "python",
   "nbconvert_exporter": "python",
   "pygments_lexer": "ipython3",
   "version": "3.10.6"
  }
 },
 "nbformat": 4,
 "nbformat_minor": 5
}
