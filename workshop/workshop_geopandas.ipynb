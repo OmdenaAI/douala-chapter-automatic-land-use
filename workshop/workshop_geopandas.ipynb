{
 "cells": [
  {
   "cell_type": "markdown",
   "metadata": {},
   "source": [
    "# Reading data into GeoPandas\n",
    "\n",
    "**Review** : \n",
    "\n",
    "> Basic data structure in GeoPandas is a GeoDataFrame.\\\n",
    "> A GeoDataFrame is simply a regular Pandas data frame with the addition of a GeoSeries.\\\n",
    "> A series in Pandas is analagous to a field in a database or a column in a table or an attribute in a feature dataset.\\\n",
    "> A GeoSeries is a special type of column that contains vector geometry.\\\n",
    "> The geometries are handled internally as Shapely object"
   ]
  },
  {
   "cell_type": "markdown",
   "metadata": {},
   "source": [
    "<hr/> \n",
    "\n",
    "### 1-Reading Shapefiles"
   ]
  },
  {
   "cell_type": "code",
   "execution_count": null,
   "metadata": {},
   "outputs": [],
   "source": [
    "#import \n",
    "%matplotlib inline\n",
    "import geopandas as gpd\n",
    "import matplotlib.pyplot as plt"
   ]
  },
  {
   "cell_type": "code",
   "execution_count": null,
   "metadata": {},
   "outputs": [],
   "source": [
    "#cameroon_border = countries[countries['name'] == 'Cameroon']\n",
    "#print(cameroon_border.crs)\n",
    "#print(cameroon_border.geometry)"
   ]
  },
  {
   "cell_type": "code",
   "execution_count": null,
   "metadata": {},
   "outputs": [],
   "source": [
    "#Set file path \n",
    "path_file ='./dataset/CMR_adm0.shp'\n",
    "#read file into Geodataframe\n",
    "cameroon_border = gpd.read_file(path_file)"
   ]
  },
  {
   "cell_type": "markdown",
   "metadata": {},
   "source": [
    "<hr/> \n",
    "\n",
    "### 2-Get spatial information"
   ]
  },
  {
   "cell_type": "code",
   "execution_count": null,
   "metadata": {},
   "outputs": [],
   "source": [
    "#get the coordinate reference system\n",
    "print(cameroon_border.crs)"
   ]
  },
  {
   "cell_type": "code",
   "execution_count": null,
   "metadata": {},
   "outputs": [],
   "source": [
    "#Get shape\n",
    "cameroon_border.shape"
   ]
  },
  {
   "cell_type": "code",
   "execution_count": null,
   "metadata": {},
   "outputs": [],
   "source": [
    "#Get the geometry type\n",
    "cameroon_border.geom_type"
   ]
  },
  {
   "cell_type": "code",
   "execution_count": null,
   "metadata": {},
   "outputs": [],
   "source": [
    "cameroon_border[\"geometry\"].centroid"
   ]
  },
  {
   "cell_type": "code",
   "execution_count": null,
   "metadata": {},
   "outputs": [],
   "source": [
    "#Get bounding box\n",
    "cameroon_border.bounds"
   ]
  },
  {
   "cell_type": "code",
   "execution_count": null,
   "metadata": {},
   "outputs": [],
   "source": [
    "#Get boundix box\n",
    "cameroon_border.total_bounds"
   ]
  },
  {
   "cell_type": "markdown",
   "metadata": {},
   "source": [
    "<hr/> \n",
    "\n",
    "### 3-Get non spatial information"
   ]
  },
  {
   "cell_type": "code",
   "execution_count": null,
   "metadata": {},
   "outputs": [],
   "source": [
    "#Get the index range\n",
    "cameroon_border.index"
   ]
  },
  {
   "cell_type": "code",
   "execution_count": null,
   "metadata": {},
   "outputs": [],
   "source": [
    "#Get faetures\n",
    "cameroon_border.columns"
   ]
  },
  {
   "cell_type": "code",
   "execution_count": null,
   "metadata": {},
   "outputs": [],
   "source": [
    "#Get the ISO Name\n",
    "cameroon_border['ISO']"
   ]
  },
  {
   "cell_type": "code",
   "execution_count": null,
   "metadata": {},
   "outputs": [],
   "source": [
    "#Get the name in Arabic\n",
    "cameroon_border['NAME_ARABI']"
   ]
  },
  {
   "cell_type": "code",
   "execution_count": null,
   "metadata": {},
   "outputs": [],
   "source": [
    "#Get the name in English\n",
    "cameroon_border['NAME_ENGLI']"
   ]
  },
  {
   "cell_type": "code",
   "execution_count": null,
   "metadata": {},
   "outputs": [],
   "source": [
    "#Get the name in China\n",
    "cameroon_border['NAME_CHINE']"
   ]
  },
  {
   "cell_type": "code",
   "execution_count": null,
   "metadata": {},
   "outputs": [],
   "source": [
    "#Get the population in 2020\n",
    "cameroon_border['POP2000']"
   ]
  },
  {
   "cell_type": "markdown",
   "metadata": {},
   "source": [
    "<hr/> \n",
    "\n",
    "### 4 -Basic visualisation"
   ]
  },
  {
   "cell_type": "code",
   "execution_count": null,
   "metadata": {},
   "outputs": [],
   "source": [
    "#\n",
    "print(cameroon_border.geometry)"
   ]
  },
  {
   "cell_type": "code",
   "execution_count": null,
   "metadata": {},
   "outputs": [],
   "source": [
    "fig, ax = plt.subplots(figsize = [10,10])\n",
    "cameroon_border.plot(ax=ax,\n",
    "                    fc = 'b',\n",
    "                     alpha = 0.5,\n",
    "                    ec = 'k')"
   ]
  },
  {
   "cell_type": "code",
   "execution_count": null,
   "metadata": {},
   "outputs": [],
   "source": [
    "file_path = './dataset/CM_Cities.shp'\n",
    "cameroon_cities = gpd.read_file(file_path)\n",
    "print(cameroon_cities.head())\n",
    "print(cameroon_cities.crs)"
   ]
  },
  {
   "cell_type": "code",
   "execution_count": null,
   "metadata": {},
   "outputs": [],
   "source": [
    "douala = cameroon_cities[cameroon_cities['CITY_NAME'] == 'DOUALA']\n",
    "print(douala)"
   ]
  },
  {
   "cell_type": "code",
   "execution_count": null,
   "metadata": {},
   "outputs": [],
   "source": [
    "fig, ax = plt.subplots(figsize = [10,10])\n",
    "cameroon_border.plot(ax=ax,\n",
    "                    fc = 'b',\n",
    "                     alpha = 0.2,\n",
    "                    ec = 'k')\n",
    "cameroon_cities.plot(ax=ax,\n",
    "                    markersize = 10,\n",
    "                    facecolor = 'y')\n",
    "douala.plot(ax=ax,\n",
    "            markersize = 200,\n",
    "            marker = \"*\",\n",
    "            facecolor = 'red')"
   ]
  },
  {
   "cell_type": "code",
   "execution_count": null,
   "metadata": {},
   "outputs": [],
   "source": [
    "capital = cameroon_cities[cameroon_cities['CITY_NAME'] == 'YAOUNDE']\n",
    "print(capital)"
   ]
  },
  {
   "cell_type": "code",
   "execution_count": null,
   "metadata": {},
   "outputs": [],
   "source": [
    "fig, ax = plt.subplots(figsize = [10,10])\n",
    "cameroon_border.plot(ax=ax,\n",
    "                    fc = 'b',\n",
    "                     alpha = 0.2,\n",
    "                ec = 'k')\n",
    "\"\"\"\n",
    "cameroon_cities.plot(ax=ax,\n",
    "                    markersize = 10,\n",
    "                 facecolor = 'y')\n",
    "\"\"\"\n",
    "capital.plot(ax=ax,\n",
    "            markersize = 200,\n",
    "            marker = \"*\",\n",
    "            facecolor = 'blue')"
   ]
  },
  {
   "cell_type": "code",
   "execution_count": null,
   "metadata": {},
   "outputs": [],
   "source": [
    "bafoussam = cameroon_cities[cameroon_cities['CITY_NAME'] == 'BAFOUSSAM']\n",
    "print(bafoussam)"
   ]
  },
  {
   "cell_type": "code",
   "execution_count": null,
   "metadata": {},
   "outputs": [],
   "source": [
    "fig, ax = plt.subplots(figsize = [10,10])\n",
    "cameroon_border.plot(ax=ax,\n",
    "                    fc = 'b',\n",
    "                     alpha = 0.2,\n",
    "                ec = 'k')\n",
    "\"\"\"\n",
    "cameroon_cities.plot(ax=ax,\n",
    "                    markersize = 10,\n",
    "                 facecolor = 'y')\n",
    "\"\"\"\n",
    "bafoussam.plot(ax=ax,\n",
    "            markersize = 200,\n",
    "            marker = \"*\",\n",
    "            facecolor = 'blue')"
   ]
  },
  {
   "cell_type": "code",
   "execution_count": null,
   "metadata": {},
   "outputs": [],
   "source": [
    "fig, ax = plt.subplots(figsize=(20, 20))\n",
    "\n",
    "cameroon_border.plot(ax=ax,\n",
    "                    #fc = 'b',\n",
    "                       edgecolor=\"red\",\n",
    "                         facecolor= None,\n",
    "                         color = \"white\",\n",
    "                     linewidth=3,\n",
    "                     alpha = 0.2,\n",
    "                #ec = 'k'\n",
    "                    )\n",
    "douala.plot(ax=ax,\n",
    "            markersize = 400,\n",
    "            marker = \"*\",\n",
    "            facecolor = 'green')\n",
    "\n",
    "bafoussam.plot(ax=ax,\n",
    "            markersize = 400,\n",
    "            marker = \"*\",\n",
    "            facecolor = 'red')\n",
    "\n",
    "\n",
    "capital.plot(ax=ax,\n",
    "            markersize = 400,\n",
    "            marker = \"*\",\n",
    "            facecolor = 'yellow')\n",
    "\n",
    "\n",
    "ax.set(xlabel=\"LONGITUDE ( Decimal Degrees)\",\n",
    "       ylabel=\"LATITUDE (Decimal Degrees)\",\n",
    "       title=\"FKKN AIRSPACE\")\n",
    "\n",
    "ax.set_title(\"CAMEROON\", color = \"black\",fontsize=20)\n",
    "\n",
    "#ax.set_xlabel(\"Longitude ( Decimal Degrees)\",color = \"blue\",style='italic',fontsize=16, fontweight='bold')\n",
    "ax.set_xlabel(\"LONGITUDE  ( Decimal Degrees)\",color = \"black\",fontsize=18)\n",
    "ax.set_ylabel(\"LATITUDE (Decimal Degrees)\",color = \"black\",fontsize=18)\n",
    "\n",
    "ax.set_axisbelow(True)\n",
    "\n",
    "ax.yaxis.grid(color='gray', linestyle='dashed')\n",
    "ax.xaxis.grid(color='gray', linestyle='dashed')\n",
    "plt.show()"
   ]
  },
  {
   "cell_type": "markdown",
   "metadata": {},
   "source": [
    "<hr/> \n",
    "\n",
    "### 4 -Interactive plot"
   ]
  },
  {
   "cell_type": "code",
   "execution_count": null,
   "metadata": {},
   "outputs": [],
   "source": [
    "cameroon_border.explore()"
   ]
  },
  {
   "cell_type": "code",
   "execution_count": null,
   "metadata": {},
   "outputs": [],
   "source": []
  },
  {
   "cell_type": "code",
   "execution_count": null,
   "metadata": {},
   "outputs": [],
   "source": []
  }
 ],
 "metadata": {
  "kernelspec": {
   "display_name": "Python 3 (ipykernel)",
   "language": "python",
   "name": "python3"
  },
  "language_info": {
   "codemirror_mode": {
    "name": "ipython",
    "version": 3
   },
   "file_extension": ".py",
   "mimetype": "text/x-python",
   "name": "python",
   "nbconvert_exporter": "python",
   "pygments_lexer": "ipython3",
   "version": "3.9.12"
  }
 },
 "nbformat": 4,
 "nbformat_minor": 4
}
