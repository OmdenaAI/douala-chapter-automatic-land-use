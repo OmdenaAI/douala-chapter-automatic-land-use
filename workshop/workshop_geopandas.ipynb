{
 "cells": [
  {
   "cell_type": "markdown",
   "metadata": {},
   "source": [
    "# Reading data into GeoPandas\n",
    "\n",
    "**Review** : \n",
    "\n",
    "> Basic data structure in GeoPandas is a GeoDataFrame.\\\n",
    "> A GeoDataFrame is simply a regular Pandas data frame with the addition of a GeoSeries.\\\n",
    "> A series in Pandas is analagous to a field in a database or a column in a table or an attribute in a feature dataset.\\\n",
    "> A GeoSeries is a special type of column that contains vector geometry.\\\n",
    "> The geometries are handled internally as Shapely object"
   ]
  },
  {
   "cell_type": "markdown",
   "metadata": {},
   "source": [
    "<hr/> \n",
    "\n",
    "### 1-Reading Shapefiles"
   ]
  },
  {
   "cell_type": "code",
   "execution_count": 7,
   "metadata": {},
   "outputs": [],
   "source": [
    "#import \n",
    "%matplotlib inline\n",
    "import os\n",
    "from glob import glob\n",
    "import geopandas as gpd\n",
    "import matplotlib.pyplot as plt"
   ]
  },
  {
   "cell_type": "markdown",
   "metadata": {},
   "source": [
    "#### Cameroon Border"
   ]
  },
  {
   "cell_type": "markdown",
   "metadata": {},
   "source": [
    "shapefile for cameroon provinces can be find here: https://geodata.lib.utexas.edu/catalog/stanford-nn132pn3168"
   ]
  },
  {
   "cell_type": "code",
   "execution_count": 29,
   "metadata": {},
   "outputs": [
    {
     "name": "stdout",
     "output_type": "stream",
     "text": [
      "epsg:4326\n"
     ]
    }
   ],
   "source": [
    "#Set file path \n",
    "path_file ='./dataset'\n",
    "file_name = 'CMR_adm0.shp'\n",
    "\n",
    "#read file into Geodataframe\n",
    "cameroon_border = gpd.read_file(os.path.join(path_file, file_name)) # cameroon border\n",
    "\n",
    "# get the head\n",
    "cameroon_provinces.head()"
   ]
  },
  {
   "cell_type": "markdown",
   "metadata": {},
   "source": [
    "#### Cameroon Provinces "
   ]
  },
  {
   "cell_type": "markdown",
   "metadata": {},
   "source": [
    "shapefile for cameroon provinces can be find here: https://geodata.lib.utexas.edu/catalog/stanford-db005yd3959"
   ]
  },
  {
   "cell_type": "markdown",
   "metadata": {},
   "source": [
    "#### Cameroon Provinces "
   ]
  },
  {
   "cell_type": "code",
   "execution_count": 30,
   "metadata": {},
   "outputs": [
    {
     "name": "stdout",
     "output_type": "stream",
     "text": [
      "epsg:4326\n"
     ]
    }
   ],
   "source": [
    "#Set file path \n",
    "file_name = 'CMR_adm1.shp'\n",
    "\n",
    "#read file into Geodataframe\n",
    "cameroon_provinces = gpd.read_file(os.path.join(path_file, file_name))\n",
    "\n",
    "# get the head\n",
    "cameroon_provinces.head()"
   ]
  },
  {
   "cell_type": "markdown",
   "metadata": {},
   "source": [
    "#### Cameroon Major Cities"
   ]
  },
  {
   "cell_type": "code",
   "execution_count": 47,
   "metadata": {},
   "outputs": [
    {
     "data": {
      "text/html": [
       "<div>\n",
       "<style scoped>\n",
       "    .dataframe tbody tr th:only-of-type {\n",
       "        vertical-align: middle;\n",
       "    }\n",
       "\n",
       "    .dataframe tbody tr th {\n",
       "        vertical-align: top;\n",
       "    }\n",
       "\n",
       "    .dataframe thead th {\n",
       "        text-align: right;\n",
       "    }\n",
       "</style>\n",
       "<table border=\"1\" class=\"dataframe\">\n",
       "  <thead>\n",
       "    <tr style=\"text-align: right;\">\n",
       "      <th></th>\n",
       "      <th>CITY_NAME</th>\n",
       "      <th>P_CAPITAL</th>\n",
       "      <th>D_CAPITAL</th>\n",
       "      <th>geometry</th>\n",
       "    </tr>\n",
       "  </thead>\n",
       "  <tbody>\n",
       "    <tr>\n",
       "      <th>0</th>\n",
       "      <td>Makari</td>\n",
       "      <td>None</td>\n",
       "      <td>None</td>\n",
       "      <td>POINT (14.44455 12.55896)</td>\n",
       "    </tr>\n",
       "    <tr>\n",
       "      <th>1</th>\n",
       "      <td>Woulki</td>\n",
       "      <td>None</td>\n",
       "      <td>None</td>\n",
       "      <td>POINT (14.62733 12.47518)</td>\n",
       "    </tr>\n",
       "    <tr>\n",
       "      <th>2</th>\n",
       "      <td>Goulfey</td>\n",
       "      <td>None</td>\n",
       "      <td>None</td>\n",
       "      <td>POINT (14.90041 12.37827)</td>\n",
       "    </tr>\n",
       "    <tr>\n",
       "      <th>3</th>\n",
       "      <td>Fotokol</td>\n",
       "      <td>None</td>\n",
       "      <td>None</td>\n",
       "      <td>POINT (14.22419 12.37324)</td>\n",
       "    </tr>\n",
       "    <tr>\n",
       "      <th>4</th>\n",
       "      <td>Tilde Goulfey</td>\n",
       "      <td>None</td>\n",
       "      <td>None</td>\n",
       "      <td>POINT (14.69171 12.09509)</td>\n",
       "    </tr>\n",
       "  </tbody>\n",
       "</table>\n",
       "</div>"
      ],
      "text/plain": [
       "       CITY_NAME P_CAPITAL D_CAPITAL                   geometry\n",
       "0         Makari      None      None  POINT (14.44455 12.55896)\n",
       "1         Woulki      None      None  POINT (14.62733 12.47518)\n",
       "2        Goulfey      None      None  POINT (14.90041 12.37827)\n",
       "3        Fotokol      None      None  POINT (14.22419 12.37324)\n",
       "4  Tilde Goulfey      None      None  POINT (14.69171 12.09509)"
      ]
     },
     "execution_count": 47,
     "metadata": {},
     "output_type": "execute_result"
    }
   ],
   "source": [
    "#Set file path \n",
    "file_name = 'CM_Cities.shp'\n",
    "\n",
    "#read file into Geodataframe\n",
    "cameroon_cities = gpd.read_file(os.path.join(path_file, file_name))\n",
    "\n",
    "# get the head\n",
    "cameroon_cities.head()"
   ]
  },
  {
   "cell_type": "markdown",
   "metadata": {},
   "source": [
    "<hr/> \n",
    "\n",
    "### 2-Get spatial information"
   ]
  },
  {
   "cell_type": "markdown",
   "metadata": {},
   "source": [
    "#### Cameroon Border"
   ]
  },
  {
   "cell_type": "code",
   "execution_count": 33,
   "metadata": {},
   "outputs": [
    {
     "name": "stdout",
     "output_type": "stream",
     "text": [
      "epsg:4326\n"
     ]
    }
   ],
   "source": [
    "#get the coordinate reference system\n",
    "print(cameroon_border.crs)"
   ]
  },
  {
   "cell_type": "code",
   "execution_count": 34,
   "metadata": {},
   "outputs": [
    {
     "data": {
      "text/plain": [
       "(1, 68)"
      ]
     },
     "execution_count": 34,
     "metadata": {},
     "output_type": "execute_result"
    }
   ],
   "source": [
    "#Get shape\n",
    "cameroon_border.shape"
   ]
  },
  {
   "cell_type": "code",
   "execution_count": 35,
   "metadata": {},
   "outputs": [
    {
     "data": {
      "text/plain": [
       "0    MultiPolygon\n",
       "dtype: object"
      ]
     },
     "execution_count": 35,
     "metadata": {},
     "output_type": "execute_result"
    }
   ],
   "source": [
    "#Get the geometry type\n",
    "cameroon_border.geom_type"
   ]
  },
  {
   "cell_type": "code",
   "execution_count": 37,
   "metadata": {},
   "outputs": [
    {
     "data": {
      "text/plain": [
       "array([ 8.4994545 ,  1.6522671 , 16.19104576, 13.07739067])"
      ]
     },
     "execution_count": 37,
     "metadata": {},
     "output_type": "execute_result"
    }
   ],
   "source": [
    "#Get boundix box\n",
    "cameroon_border.total_bounds"
   ]
  },
  {
   "cell_type": "markdown",
   "metadata": {},
   "source": [
    "#### Cameroon Provinces "
   ]
  },
  {
   "cell_type": "code",
   "execution_count": 39,
   "metadata": {},
   "outputs": [
    {
     "name": "stdout",
     "output_type": "stream",
     "text": [
      "epsg:4326\n"
     ]
    }
   ],
   "source": [
    "#get the coordinate reference system\n",
    "print(cameroon_provinces.crs)"
   ]
  },
  {
   "cell_type": "code",
   "execution_count": 40,
   "metadata": {},
   "outputs": [
    {
     "data": {
      "text/plain": [
       "(10, 13)"
      ]
     },
     "execution_count": 40,
     "metadata": {},
     "output_type": "execute_result"
    }
   ],
   "source": [
    "#Get shape\n",
    "cameroon_provinces.shape"
   ]
  },
  {
   "cell_type": "code",
   "execution_count": 41,
   "metadata": {},
   "outputs": [
    {
     "data": {
      "text/plain": [
       "0         Polygon\n",
       "1         Polygon\n",
       "2         Polygon\n",
       "3         Polygon\n",
       "4         Polygon\n",
       "5         Polygon\n",
       "6         Polygon\n",
       "7         Polygon\n",
       "8         Polygon\n",
       "9    MultiPolygon\n",
       "dtype: object"
      ]
     },
     "execution_count": 41,
     "metadata": {},
     "output_type": "execute_result"
    }
   ],
   "source": [
    "#Get the geometry type\n",
    "cameroon_provinces.geom_type"
   ]
  },
  {
   "cell_type": "code",
   "execution_count": 43,
   "metadata": {},
   "outputs": [
    {
     "data": {
      "text/plain": [
       "array([ 8.4994545 ,  1.6522671 , 16.19104576, 13.07739067])"
      ]
     },
     "execution_count": 43,
     "metadata": {},
     "output_type": "execute_result"
    }
   ],
   "source": [
    "#Get boundig box\n",
    "cameroon_provinces.total_bounds"
   ]
  },
  {
   "cell_type": "code",
   "execution_count": 44,
   "metadata": {},
   "outputs": [
    {
     "data": {
      "text/html": [
       "<div>\n",
       "<style scoped>\n",
       "    .dataframe tbody tr th:only-of-type {\n",
       "        vertical-align: middle;\n",
       "    }\n",
       "\n",
       "    .dataframe tbody tr th {\n",
       "        vertical-align: top;\n",
       "    }\n",
       "\n",
       "    .dataframe thead th {\n",
       "        text-align: right;\n",
       "    }\n",
       "</style>\n",
       "<table border=\"1\" class=\"dataframe\">\n",
       "  <thead>\n",
       "    <tr style=\"text-align: right;\">\n",
       "      <th></th>\n",
       "      <th>minx</th>\n",
       "      <th>miny</th>\n",
       "      <th>maxx</th>\n",
       "      <th>maxy</th>\n",
       "    </tr>\n",
       "  </thead>\n",
       "  <tbody>\n",
       "    <tr>\n",
       "      <th>0</th>\n",
       "      <td>11.181338</td>\n",
       "      <td>5.972384</td>\n",
       "      <td>15.234099</td>\n",
       "      <td>8.187595</td>\n",
       "    </tr>\n",
       "    <tr>\n",
       "      <th>1</th>\n",
       "      <td>10.230590</td>\n",
       "      <td>3.104489</td>\n",
       "      <td>13.246945</td>\n",
       "      <td>6.261260</td>\n",
       "    </tr>\n",
       "    <tr>\n",
       "      <th>2</th>\n",
       "      <td>12.493128</td>\n",
       "      <td>1.652267</td>\n",
       "      <td>16.191046</td>\n",
       "      <td>6.062409</td>\n",
       "    </tr>\n",
       "    <tr>\n",
       "      <th>3</th>\n",
       "      <td>13.403122</td>\n",
       "      <td>9.934937</td>\n",
       "      <td>15.689525</td>\n",
       "      <td>13.077391</td>\n",
       "    </tr>\n",
       "    <tr>\n",
       "      <th>4</th>\n",
       "      <td>9.335801</td>\n",
       "      <td>3.260334</td>\n",
       "      <td>11.077747</td>\n",
       "      <td>5.334849</td>\n",
       "    </tr>\n",
       "    <tr>\n",
       "      <th>5</th>\n",
       "      <td>9.590784</td>\n",
       "      <td>5.703934</td>\n",
       "      <td>11.209311</td>\n",
       "      <td>7.162286</td>\n",
       "    </tr>\n",
       "    <tr>\n",
       "      <th>6</th>\n",
       "      <td>12.238751</td>\n",
       "      <td>7.015954</td>\n",
       "      <td>15.593646</td>\n",
       "      <td>10.261115</td>\n",
       "    </tr>\n",
       "    <tr>\n",
       "      <th>7</th>\n",
       "      <td>9.832662</td>\n",
       "      <td>4.881257</td>\n",
       "      <td>11.316862</td>\n",
       "      <td>6.264658</td>\n",
       "    </tr>\n",
       "    <tr>\n",
       "      <th>8</th>\n",
       "      <td>8.499454</td>\n",
       "      <td>3.907236</td>\n",
       "      <td>10.101245</td>\n",
       "      <td>6.530717</td>\n",
       "    </tr>\n",
       "    <tr>\n",
       "      <th>9</th>\n",
       "      <td>9.815081</td>\n",
       "      <td>2.141032</td>\n",
       "      <td>13.680087</td>\n",
       "      <td>3.682082</td>\n",
       "    </tr>\n",
       "  </tbody>\n",
       "</table>\n",
       "</div>"
      ],
      "text/plain": [
       "        minx      miny       maxx       maxy\n",
       "0  11.181338  5.972384  15.234099   8.187595\n",
       "1  10.230590  3.104489  13.246945   6.261260\n",
       "2  12.493128  1.652267  16.191046   6.062409\n",
       "3  13.403122  9.934937  15.689525  13.077391\n",
       "4   9.335801  3.260334  11.077747   5.334849\n",
       "5   9.590784  5.703934  11.209311   7.162286\n",
       "6  12.238751  7.015954  15.593646  10.261115\n",
       "7   9.832662  4.881257  11.316862   6.264658\n",
       "8   8.499454  3.907236  10.101245   6.530717\n",
       "9   9.815081  2.141032  13.680087   3.682082"
      ]
     },
     "execution_count": 44,
     "metadata": {},
     "output_type": "execute_result"
    }
   ],
   "source": [
    "# Get bounds of each row\n",
    "cameroon_provinces.bounds"
   ]
  },
  {
   "cell_type": "markdown",
   "metadata": {},
   "source": [
    "#### Cameroon Major Cities "
   ]
  },
  {
   "cell_type": "code",
   "execution_count": 48,
   "metadata": {},
   "outputs": [
    {
     "name": "stdout",
     "output_type": "stream",
     "text": [
      "epsg:4326\n"
     ]
    }
   ],
   "source": [
    "#get the coordinate reference system\n",
    "print(cameroon_cities.crs)"
   ]
  },
  {
   "cell_type": "code",
   "execution_count": 49,
   "metadata": {},
   "outputs": [
    {
     "data": {
      "text/plain": [
       "0      Point\n",
       "1      Point\n",
       "2      Point\n",
       "3      Point\n",
       "4      Point\n",
       "       ...  \n",
       "533    Point\n",
       "534    Point\n",
       "535    Point\n",
       "536    Point\n",
       "537    Point\n",
       "Length: 538, dtype: object"
      ]
     },
     "execution_count": 49,
     "metadata": {},
     "output_type": "execute_result"
    }
   ],
   "source": [
    "#Get the geometry type\n",
    "cameroon_cities.geom_type"
   ]
  },
  {
   "cell_type": "markdown",
   "metadata": {},
   "source": [
    "<hr/> \n",
    "\n",
    "### 3-Get non spatial information"
   ]
  },
  {
   "cell_type": "code",
   "execution_count": null,
   "metadata": {},
   "outputs": [],
   "source": [
    "#Get the index range\n",
    "cameroon_border.index"
   ]
  },
  {
   "cell_type": "code",
   "execution_count": null,
   "metadata": {},
   "outputs": [],
   "source": [
    "#Get faetures\n",
    "cameroon_border.columns"
   ]
  },
  {
   "cell_type": "code",
   "execution_count": null,
   "metadata": {},
   "outputs": [],
   "source": [
    "#Get the ISO Name\n",
    "cameroon_border['ISO']"
   ]
  },
  {
   "cell_type": "code",
   "execution_count": null,
   "metadata": {},
   "outputs": [],
   "source": [
    "#Get the name in Arabic\n",
    "cameroon_border['NAME_ARABI']"
   ]
  },
  {
   "cell_type": "code",
   "execution_count": null,
   "metadata": {},
   "outputs": [],
   "source": [
    "#Get the name in English\n",
    "cameroon_border['NAME_ENGLI']"
   ]
  },
  {
   "cell_type": "code",
   "execution_count": null,
   "metadata": {},
   "outputs": [],
   "source": [
    "#Get the name in China\n",
    "cameroon_border['NAME_CHINE']"
   ]
  },
  {
   "cell_type": "code",
   "execution_count": null,
   "metadata": {},
   "outputs": [],
   "source": [
    "#Get the population in 2020\n",
    "cameroon_border['POP2000']"
   ]
  },
  {
   "cell_type": "markdown",
   "metadata": {},
   "source": [
    "<hr/> \n",
    "\n",
    "### 4 -Basic visualisation"
   ]
  },
  {
   "cell_type": "code",
   "execution_count": null,
   "metadata": {},
   "outputs": [],
   "source": [
    "#\n",
    "print(cameroon_border.geometry)"
   ]
  },
  {
   "cell_type": "code",
   "execution_count": null,
   "metadata": {},
   "outputs": [],
   "source": [
    "fig, ax = plt.subplots(figsize = [10,10])\n",
    "cameroon_border.plot(ax=ax,\n",
    "                    fc = 'b',\n",
    "                     alpha = 0.5,\n",
    "                    ec = 'k')"
   ]
  },
  {
   "cell_type": "code",
   "execution_count": null,
   "metadata": {},
   "outputs": [],
   "source": [
    "file_path = './dataset/CM_Cities.shp'\n",
    "cameroon_cities = gpd.read_file(file_path)\n",
    "print(cameroon_cities.head())\n",
    "print(cameroon_cities.crs)"
   ]
  },
  {
   "cell_type": "code",
   "execution_count": null,
   "metadata": {},
   "outputs": [],
   "source": [
    "douala = cameroon_cities[cameroon_cities['CITY_NAME'] == 'DOUALA']\n",
    "print(douala)"
   ]
  },
  {
   "cell_type": "code",
   "execution_count": null,
   "metadata": {},
   "outputs": [],
   "source": [
    "fig, ax = plt.subplots(figsize = [10,10])\n",
    "cameroon_border.plot(ax=ax,\n",
    "                    fc = 'b',\n",
    "                     alpha = 0.2,\n",
    "                    ec = 'k')\n",
    "cameroon_cities.plot(ax=ax,\n",
    "                    markersize = 10,\n",
    "                    facecolor = 'y')\n",
    "douala.plot(ax=ax,\n",
    "            markersize = 200,\n",
    "            marker = \"*\",\n",
    "            facecolor = 'red')"
   ]
  },
  {
   "cell_type": "code",
   "execution_count": null,
   "metadata": {},
   "outputs": [],
   "source": [
    "capital = cameroon_cities[cameroon_cities['CITY_NAME'] == 'YAOUNDE']\n",
    "print(capital)"
   ]
  },
  {
   "cell_type": "code",
   "execution_count": null,
   "metadata": {},
   "outputs": [],
   "source": [
    "fig, ax = plt.subplots(figsize = [10,10])\n",
    "cameroon_border.plot(ax=ax,\n",
    "                    fc = 'b',\n",
    "                     alpha = 0.2,\n",
    "                ec = 'k')\n",
    "\"\"\"\n",
    "cameroon_cities.plot(ax=ax,\n",
    "                    markersize = 10,\n",
    "                 facecolor = 'y')\n",
    "\"\"\"\n",
    "capital.plot(ax=ax,\n",
    "            markersize = 200,\n",
    "            marker = \"*\",\n",
    "            facecolor = 'blue')"
   ]
  },
  {
   "cell_type": "code",
   "execution_count": null,
   "metadata": {},
   "outputs": [],
   "source": [
    "bafoussam = cameroon_cities[cameroon_cities['CITY_NAME'] == 'BAFOUSSAM']\n",
    "print(bafoussam)"
   ]
  },
  {
   "cell_type": "code",
   "execution_count": null,
   "metadata": {},
   "outputs": [],
   "source": [
    "fig, ax = plt.subplots(figsize = [10,10])\n",
    "cameroon_border.plot(ax=ax,\n",
    "                    fc = 'b',\n",
    "                     alpha = 0.2,\n",
    "                ec = 'k')\n",
    "\"\"\"\n",
    "cameroon_cities.plot(ax=ax,\n",
    "                    markersize = 10,\n",
    "                 facecolor = 'y')\n",
    "\"\"\"\n",
    "bafoussam.plot(ax=ax,\n",
    "            markersize = 200,\n",
    "            marker = \"*\",\n",
    "            facecolor = 'blue')"
   ]
  },
  {
   "cell_type": "code",
   "execution_count": null,
   "metadata": {},
   "outputs": [],
   "source": [
    "fig, ax = plt.subplots(figsize=(20, 20))\n",
    "\n",
    "cameroon_border.plot(ax=ax,\n",
    "                    #fc = 'b',\n",
    "                       edgecolor=\"red\",\n",
    "                         facecolor= None,\n",
    "                         color = \"white\",\n",
    "                     linewidth=3,\n",
    "                     alpha = 0.2,\n",
    "                #ec = 'k'\n",
    "                    )\n",
    "douala.plot(ax=ax,\n",
    "            markersize = 400,\n",
    "            marker = \"*\",\n",
    "            facecolor = 'green')\n",
    "\n",
    "bafoussam.plot(ax=ax,\n",
    "            markersize = 400,\n",
    "            marker = \"*\",\n",
    "            facecolor = 'red')\n",
    "\n",
    "\n",
    "capital.plot(ax=ax,\n",
    "            markersize = 400,\n",
    "            marker = \"*\",\n",
    "            facecolor = 'yellow')\n",
    "\n",
    "\n",
    "ax.set(xlabel=\"LONGITUDE ( Decimal Degrees)\",\n",
    "       ylabel=\"LATITUDE (Decimal Degrees)\",\n",
    "       title=\"FKKN AIRSPACE\")\n",
    "\n",
    "ax.set_title(\"CAMEROON\", color = \"black\",fontsize=20)\n",
    "\n",
    "#ax.set_xlabel(\"Longitude ( Decimal Degrees)\",color = \"blue\",style='italic',fontsize=16, fontweight='bold')\n",
    "ax.set_xlabel(\"LONGITUDE  ( Decimal Degrees)\",color = \"black\",fontsize=18)\n",
    "ax.set_ylabel(\"LATITUDE (Decimal Degrees)\",color = \"black\",fontsize=18)\n",
    "\n",
    "ax.set_axisbelow(True)\n",
    "\n",
    "ax.yaxis.grid(color='gray', linestyle='dashed')\n",
    "ax.xaxis.grid(color='gray', linestyle='dashed')\n",
    "plt.show()"
   ]
  },
  {
   "cell_type": "markdown",
   "metadata": {},
   "source": [
    "<hr/> \n",
    "\n",
    "### 4 -Interactive plot"
   ]
  },
  {
   "cell_type": "code",
   "execution_count": 1,
   "metadata": {},
   "outputs": [
    {
     "ename": "NameError",
     "evalue": "name 'cameroon_border' is not defined",
     "output_type": "error",
     "traceback": [
      "\u001b[0;31m---------------------------------------------------------------------------\u001b[0m",
      "\u001b[0;31mNameError\u001b[0m                                 Traceback (most recent call last)",
      "\u001b[0;32m/var/folders/8f/36t37s255cg78bf3h4y3q3s40000gn/T/ipykernel_1171/2689407287.py\u001b[0m in \u001b[0;36m<module>\u001b[0;34m\u001b[0m\n\u001b[0;32m----> 1\u001b[0;31m \u001b[0mcameroon_border\u001b[0m\u001b[0;34m.\u001b[0m\u001b[0mexplore\u001b[0m\u001b[0;34m(\u001b[0m\u001b[0;34m)\u001b[0m\u001b[0;34m\u001b[0m\u001b[0;34m\u001b[0m\u001b[0m\n\u001b[0m",
      "\u001b[0;31mNameError\u001b[0m: name 'cameroon_border' is not defined"
     ]
    }
   ],
   "source": [
    "cameroon_border.explore()"
   ]
  },
  {
   "cell_type": "code",
   "execution_count": null,
   "metadata": {},
   "outputs": [],
   "source": []
  },
  {
   "cell_type": "code",
   "execution_count": null,
   "metadata": {},
   "outputs": [],
   "source": []
  }
 ],
 "metadata": {
  "kernelspec": {
   "display_name": "Python 3 (ipykernel)",
   "language": "python",
   "name": "python3"
  },
  "language_info": {
   "codemirror_mode": {
    "name": "ipython",
    "version": 3
   },
   "file_extension": ".py",
   "mimetype": "text/x-python",
   "name": "python",
   "nbconvert_exporter": "python",
   "pygments_lexer": "ipython3",
   "version": "3.9.13"
  }
 },
 "nbformat": 4,
 "nbformat_minor": 4
}
